{
 "cells": [
  {
   "cell_type": "markdown",
   "metadata": {},
   "source": [
    "# Lab Week 3\n",
    "\n",
    "1.\tUsing read.table, Load the file shopping.tsv. into R. Shopping.tsv is a tab-separated file. Ensure column names are interpreted correctly, and missing values correctly inferred. "
   ]
  },
  {
   "cell_type": "code",
   "execution_count": 12,
   "metadata": {},
   "outputs": [
    {
     "data": {
      "text/html": [
       "<table class=\"dataframe\">\n",
       "<caption>A data.frame: 5 × 3</caption>\n",
       "<thead>\n",
       "\t<tr><th scope=col>price</th><th scope=col>stock.item</th><th scope=col>purchased</th></tr>\n",
       "\t<tr><th scope=col>&lt;chr&gt;</th><th scope=col>&lt;chr&gt;</th><th scope=col>&lt;chr&gt;</th></tr>\n",
       "</thead>\n",
       "<tbody>\n",
       "\t<tr><td>12            </td><td>wine         </td><td>TRUE</td></tr>\n",
       "\t<tr><td>Not Applicable</td><td>promo voucher</td><td>TRUE</td></tr>\n",
       "\t<tr><td>10            </td><td>Curry Paste  </td><td>TRUE</td></tr>\n",
       "\t<tr><td>1             </td><td>milk         </td><td>?   </td></tr>\n",
       "\t<tr><td>NA            </td><td>coffee       </td><td>    </td></tr>\n",
       "</tbody>\n",
       "</table>\n"
      ],
      "text/latex": [
       "A data.frame: 5 × 3\n",
       "\\begin{tabular}{lll}\n",
       " price & stock.item & purchased\\\\\n",
       " <chr> & <chr> & <chr>\\\\\n",
       "\\hline\n",
       "\t 12             & wine          & TRUE\\\\\n",
       "\t Not Applicable & promo voucher & TRUE\\\\\n",
       "\t 10             & Curry Paste   & TRUE\\\\\n",
       "\t 1              & milk          & ?   \\\\\n",
       "\t NA             & coffee        &     \\\\\n",
       "\\end{tabular}\n"
      ],
      "text/markdown": [
       "\n",
       "A data.frame: 5 × 3\n",
       "\n",
       "| price &lt;chr&gt; | stock.item &lt;chr&gt; | purchased &lt;chr&gt; |\n",
       "|---|---|---|\n",
       "| 12             | wine          | TRUE |\n",
       "| Not Applicable | promo voucher | TRUE |\n",
       "| 10             | Curry Paste   | TRUE |\n",
       "| 1              | milk          | ?    |\n",
       "| NA             | coffee        | <!----> |\n",
       "\n"
      ],
      "text/plain": [
       "  price          stock.item    purchased\n",
       "1 12             wine          TRUE     \n",
       "2 Not Applicable promo voucher TRUE     \n",
       "3 10             Curry Paste   TRUE     \n",
       "4 1              milk          ?        \n",
       "5 NA             coffee                 "
      ]
     },
     "metadata": {},
     "output_type": "display_data"
    }
   ],
   "source": [
    "setwd(\"/Users/mauricio.reis/dataSciencePostgrad/workingWithData/week3_importing_data_with_R\")\n",
    "read.table(file = \"shopping.tsv\", sep = '\\t', header = TRUE, fill=TRUE)"
   ]
  },
  {
   "cell_type": "markdown",
   "metadata": {},
   "source": [
    "2. \tUse readr to import the table, again ensuring column names and missing values correctly inferred"
   ]
  },
  {
   "cell_type": "code",
   "execution_count": 16,
   "metadata": {},
   "outputs": [
    {
     "name": "stderr",
     "output_type": "stream",
     "text": [
      "also installing the dependency ‘vroom’\n",
      "\n",
      "\n"
     ]
    },
    {
     "name": "stdout",
     "output_type": "stream",
     "text": [
      "\n",
      "  There is a binary version available but the source version is later:\n",
      "      binary source needs_compilation\n",
      "readr  2.1.2  2.1.3              TRUE\n",
      "\n",
      "\n",
      "The downloaded binary packages are in\n",
      "\t/var/folders/54/js0zyc_j3f7glzc8079tgcgr0000gp/T//RtmplGkpYl/downloaded_packages\n"
     ]
    },
    {
     "name": "stderr",
     "output_type": "stream",
     "text": [
      "installing the source package ‘readr’\n",
      "\n",
      "\n",
      "\u001b[1mRows: \u001b[22m\u001b[34m5\u001b[39m \u001b[1mColumns: \u001b[22m\u001b[34m3\u001b[39m\n",
      "\u001b[36m──\u001b[39m \u001b[1mColumn specification\u001b[22m \u001b[36m───────────────────────────────────────────────────────────────────────────────────────────────────────────────────────\u001b[39m\n",
      "\u001b[1mDelimiter:\u001b[22m \"\\t\"\n",
      "\u001b[31mchr\u001b[39m (3): price, stock item, purchased\n",
      "\n",
      "\u001b[36mℹ\u001b[39m Use `spec()` to retrieve the full column specification for this data.\n",
      "\u001b[36mℹ\u001b[39m Specify the column types or set `show_col_types = FALSE` to quiet this message.\n"
     ]
    },
    {
     "data": {
      "text/html": [
       "<table class=\"dataframe\">\n",
       "<caption>A spec_tbl_df: 5 × 3</caption>\n",
       "<thead>\n",
       "\t<tr><th scope=col>price</th><th scope=col>stock item</th><th scope=col>purchased</th></tr>\n",
       "\t<tr><th scope=col>&lt;chr&gt;</th><th scope=col>&lt;chr&gt;</th><th scope=col>&lt;chr&gt;</th></tr>\n",
       "</thead>\n",
       "<tbody>\n",
       "\t<tr><td>12            </td><td>wine         </td><td>TRUE</td></tr>\n",
       "\t<tr><td>Not Applicable</td><td>promo voucher</td><td>TRUE</td></tr>\n",
       "\t<tr><td>10            </td><td>Curry Paste  </td><td>TRUE</td></tr>\n",
       "\t<tr><td>1             </td><td>milk         </td><td>?   </td></tr>\n",
       "\t<tr><td>NA            </td><td>coffee       </td><td>NA  </td></tr>\n",
       "</tbody>\n",
       "</table>\n"
      ],
      "text/latex": [
       "A spec\\_tbl\\_df: 5 × 3\n",
       "\\begin{tabular}{lll}\n",
       " price & stock item & purchased\\\\\n",
       " <chr> & <chr> & <chr>\\\\\n",
       "\\hline\n",
       "\t 12             & wine          & TRUE\\\\\n",
       "\t Not Applicable & promo voucher & TRUE\\\\\n",
       "\t 10             & Curry Paste   & TRUE\\\\\n",
       "\t 1              & milk          & ?   \\\\\n",
       "\t NA             & coffee        & NA  \\\\\n",
       "\\end{tabular}\n"
      ],
      "text/markdown": [
       "\n",
       "A spec_tbl_df: 5 × 3\n",
       "\n",
       "| price &lt;chr&gt; | stock item &lt;chr&gt; | purchased &lt;chr&gt; |\n",
       "|---|---|---|\n",
       "| 12             | wine          | TRUE |\n",
       "| Not Applicable | promo voucher | TRUE |\n",
       "| 10             | Curry Paste   | TRUE |\n",
       "| 1              | milk          | ?    |\n",
       "| NA             | coffee        | NA   |\n",
       "\n"
      ],
      "text/plain": [
       "  price          stock item    purchased\n",
       "1 12             wine          TRUE     \n",
       "2 Not Applicable promo voucher TRUE     \n",
       "3 10             Curry Paste   TRUE     \n",
       "4 1              milk          ?        \n",
       "5 NA             coffee        NA       "
      ]
     },
     "metadata": {},
     "output_type": "display_data"
    }
   ],
   "source": [
    "install.packages(\"readr\")\n",
    "library(readr)\n",
    "read_tsv(\"shopping.tsv\")"
   ]
  },
  {
   "cell_type": "markdown",
   "metadata": {},
   "source": [
    "3. \tImport the first 50 rows of jester-data.csv. The jester dataset gives ratings given by human raters (columns) to individual jokes (represented by rows). Be aware that this file has no headers. Calculate the average rating of each joke. Tip: check the `t` function."
   ]
  },
  {
   "cell_type": "code",
   "execution_count": 27,
   "metadata": {},
   "outputs": [
    {
     "data": {
      "text/html": [
       "101"
      ],
      "text/latex": [
       "101"
      ],
      "text/markdown": [
       "101"
      ],
      "text/plain": [
       "[1] 101"
      ]
     },
     "metadata": {},
     "output_type": "display_data"
    }
   ],
   "source": [
    "jester <- read.csv(file=\"jester-data.csv\",nrows=50)\n",
    "ncol(jester)"
   ]
  },
  {
   "cell_type": "markdown",
   "metadata": {},
   "source": [
    "4.\tImport the 51st to 100th rows of the jester dataset, and only the first 8 columns. Using R functions, calculate which rater gave the highest overall value of total ratings."
   ]
  },
  {
   "cell_type": "code",
   "execution_count": 28,
   "metadata": {},
   "outputs": [
    {
     "data": {
      "text/html": [
       "<table class=\"dataframe\">\n",
       "<caption>A data.frame: 50 × 8</caption>\n",
       "<thead>\n",
       "\t<tr><th scope=col>X100</th><th scope=col>X3.16</th><th scope=col>X5</th><th scope=col>X.1.31</th><th scope=col>X2.33</th><th scope=col>X.7.33</th><th scope=col>X6.8</th><th scope=col>X.4.13</th></tr>\n",
       "\t<tr><th scope=col>&lt;int&gt;</th><th scope=col>&lt;dbl&gt;</th><th scope=col>&lt;dbl&gt;</th><th scope=col>&lt;dbl&gt;</th><th scope=col>&lt;dbl&gt;</th><th scope=col>&lt;dbl&gt;</th><th scope=col>&lt;dbl&gt;</th><th scope=col>&lt;dbl&gt;</th></tr>\n",
       "</thead>\n",
       "<tbody>\n",
       "\t<tr><td> 60</td><td>99.00</td><td> 1.26</td><td>99.00</td><td>99.00</td><td>-0.10</td><td>99.00</td><td> 2.18</td></tr>\n",
       "\t<tr><td> 40</td><td>99.00</td><td>99.00</td><td>99.00</td><td>99.00</td><td> 1.36</td><td> 6.50</td><td>-1.02</td></tr>\n",
       "\t<tr><td>100</td><td>-8.59</td><td>-7.86</td><td>-7.86</td><td>-5.05</td><td>-5.39</td><td> 7.86</td><td>-9.08</td></tr>\n",
       "\t<tr><td> 45</td><td> 8.11</td><td> 5.92</td><td>99.00</td><td>99.00</td><td>-8.59</td><td>99.00</td><td> 5.78</td></tr>\n",
       "\t<tr><td> 53</td><td>-2.28</td><td> 5.10</td><td>99.00</td><td>99.00</td><td>-2.77</td><td>99.00</td><td> 2.33</td></tr>\n",
       "\t<tr><td>100</td><td> 6.21</td><td> 7.82</td><td>-5.92</td><td> 1.84</td><td>-0.49</td><td> 2.62</td><td> 7.18</td></tr>\n",
       "\t<tr><td> 62</td><td> 6.94</td><td>-0.05</td><td>99.00</td><td>99.00</td><td> 2.33</td><td> 2.91</td><td> 2.67</td></tr>\n",
       "\t<tr><td>100</td><td>-7.43</td><td>-8.74</td><td>-7.82</td><td>-7.62</td><td>-8.74</td><td>-8.59</td><td>-7.86</td></tr>\n",
       "\t<tr><td> 63</td><td>99.00</td><td>-6.02</td><td>99.00</td><td>99.00</td><td> 2.62</td><td> 7.82</td><td> 6.70</td></tr>\n",
       "\t<tr><td> 71</td><td> 4.56</td><td> 6.17</td><td> 1.12</td><td> 2.96</td><td> 0.63</td><td> 2.09</td><td> 1.65</td></tr>\n",
       "\t<tr><td>100</td><td> 1.26</td><td> 1.12</td><td>-1.89</td><td>-3.98</td><td>-4.17</td><td> 1.99</td><td> 1.84</td></tr>\n",
       "\t<tr><td> 41</td><td> 0.29</td><td> 3.11</td><td>99.00</td><td>99.00</td><td> 8.11</td><td>99.00</td><td>-9.17</td></tr>\n",
       "\t<tr><td>100</td><td> 1.26</td><td>-3.74</td><td>-3.35</td><td>-6.26</td><td>-1.26</td><td>-4.13</td><td>-4.71</td></tr>\n",
       "\t<tr><td> 73</td><td>-0.29</td><td>-9.42</td><td>-0.29</td><td>-0.29</td><td>-6.70</td><td> 5.73</td><td>-6.89</td></tr>\n",
       "\t<tr><td> 61</td><td>99.00</td><td>99.00</td><td>99.00</td><td>99.00</td><td>-3.06</td><td> 8.98</td><td> 9.13</td></tr>\n",
       "\t<tr><td> 72</td><td>-1.60</td><td>-1.75</td><td>-1.75</td><td>-1.60</td><td> 2.09</td><td>-1.80</td><td> 0.00</td></tr>\n",
       "\t<tr><td> 71</td><td> 3.40</td><td> 8.11</td><td> 8.11</td><td> 3.40</td><td> 5.44</td><td> 3.01</td><td> 0.73</td></tr>\n",
       "\t<tr><td> 47</td><td>-7.04</td><td>-6.21</td><td>99.00</td><td>99.00</td><td>-6.94</td><td>99.00</td><td>-6.12</td></tr>\n",
       "\t<tr><td> 65</td><td>99.00</td><td>-2.18</td><td> 2.67</td><td> 1.80</td><td> 0.92</td><td>-0.44</td><td> 2.67</td></tr>\n",
       "\t<tr><td>100</td><td> 3.50</td><td> 6.21</td><td>-0.63</td><td> 2.86</td><td> 0.58</td><td>-0.05</td><td>-2.82</td></tr>\n",
       "\t<tr><td> 68</td><td>-6.21</td><td>-0.10</td><td>-5.29</td><td>99.00</td><td>-6.26</td><td>-4.42</td><td>-7.04</td></tr>\n",
       "\t<tr><td>100</td><td> 5.44</td><td>-2.67</td><td>-7.96</td><td>-6.80</td><td>-6.84</td><td>-3.25</td><td>-6.80</td></tr>\n",
       "\t<tr><td> 67</td><td> 9.27</td><td> 9.17</td><td> 9.27</td><td> 8.83</td><td>-9.32</td><td> 9.13</td><td> 7.91</td></tr>\n",
       "\t<tr><td>100</td><td> 2.38</td><td>-5.44</td><td>-8.11</td><td>-6.99</td><td> 3.20</td><td> 1.55</td><td>-9.61</td></tr>\n",
       "\t<tr><td> 48</td><td>99.00</td><td>99.00</td><td>99.00</td><td>99.00</td><td> 0.05</td><td>99.00</td><td> 1.75</td></tr>\n",
       "\t<tr><td>100</td><td>-8.50</td><td>-6.60</td><td>-8.45</td><td>-7.82</td><td>-8.74</td><td> 5.78</td><td>-8.45</td></tr>\n",
       "\t<tr><td> 55</td><td>99.00</td><td>99.00</td><td>99.00</td><td>99.00</td><td> 6.07</td><td> 6.41</td><td> 6.75</td></tr>\n",
       "\t<tr><td>100</td><td> 2.28</td><td> 1.70</td><td>-5.53</td><td>-0.87</td><td> 8.30</td><td> 7.86</td><td>-7.04</td></tr>\n",
       "\t<tr><td> 53</td><td>99.00</td><td>99.00</td><td>99.00</td><td>99.00</td><td>-1.41</td><td>-1.31</td><td> 1.07</td></tr>\n",
       "\t<tr><td> 38</td><td>99.00</td><td>99.00</td><td>99.00</td><td>99.00</td><td> 2.33</td><td>99.00</td><td> 5.87</td></tr>\n",
       "\t<tr><td> 53</td><td> 3.45</td><td> 6.07</td><td>-9.27</td><td>99.00</td><td>-9.81</td><td>99.00</td><td> 3.30</td></tr>\n",
       "\t<tr><td>100</td><td> 3.06</td><td> 6.50</td><td>-7.91</td><td>-6.70</td><td> 6.80</td><td>-8.20</td><td> 7.96</td></tr>\n",
       "\t<tr><td> 72</td><td>-7.67</td><td>-6.99</td><td>-1.41</td><td>-7.77</td><td>-8.69</td><td>-6.50</td><td> 5.19</td></tr>\n",
       "\t<tr><td> 41</td><td>99.00</td><td>99.00</td><td>99.00</td><td>99.00</td><td> 6.02</td><td>99.00</td><td>-2.09</td></tr>\n",
       "\t<tr><td> 72</td><td>-1.50</td><td> 3.30</td><td> 3.35</td><td>-1.94</td><td> 1.55</td><td> 4.90</td><td>-8.54</td></tr>\n",
       "\t<tr><td>100</td><td> 2.82</td><td> 5.44</td><td> 7.57</td><td> 2.86</td><td> 7.09</td><td> 6.99</td><td> 6.99</td></tr>\n",
       "\t<tr><td> 74</td><td> 6.89</td><td>-9.66</td><td> 0.15</td><td>-0.10</td><td> 3.40</td><td> 5.44</td><td>-8.16</td></tr>\n",
       "\t<tr><td> 72</td><td>-6.07</td><td>-5.58</td><td>-6.17</td><td>-5.63</td><td> 3.11</td><td> 2.96</td><td>-4.17</td></tr>\n",
       "\t<tr><td>100</td><td>-0.92</td><td> 1.65</td><td> 1.02</td><td>-2.38</td><td>-6.41</td><td> 1.50</td><td>-4.27</td></tr>\n",
       "\t<tr><td> 68</td><td>-3.16</td><td>-1.12</td><td> 1.31</td><td>99.00</td><td>-2.04</td><td> 6.50</td><td> 2.23</td></tr>\n",
       "\t<tr><td> 72</td><td>99.00</td><td>-5.83</td><td>-5.83</td><td>-5.83</td><td> 8.74</td><td> 5.29</td><td>-3.25</td></tr>\n",
       "\t<tr><td> 48</td><td>99.00</td><td>99.00</td><td>99.00</td><td>99.00</td><td>-8.16</td><td>99.00</td><td>-0.68</td></tr>\n",
       "\t<tr><td> 69</td><td>-1.26</td><td> 6.02</td><td> 2.33</td><td> 4.76</td><td> 0.34</td><td> 5.87</td><td>-3.88</td></tr>\n",
       "\t<tr><td>100</td><td> 8.16</td><td> 2.28</td><td> 4.37</td><td> 7.91</td><td> 1.12</td><td> 9.03</td><td> 2.23</td></tr>\n",
       "\t<tr><td> 73</td><td> 0.44</td><td>-8.45</td><td>-0.53</td><td>-3.88</td><td>-8.06</td><td>-5.10</td><td>-8.35</td></tr>\n",
       "\t<tr><td>100</td><td> 3.54</td><td>-5.00</td><td> 1.60</td><td>-3.25</td><td>-4.56</td><td>-2.23</td><td>-4.56</td></tr>\n",
       "\t<tr><td> 37</td><td>99.00</td><td>99.00</td><td>99.00</td><td>99.00</td><td> 8.45</td><td>99.00</td><td> 6.60</td></tr>\n",
       "\t<tr><td>100</td><td> 3.30</td><td> 1.31</td><td> 4.37</td><td>-1.50</td><td> 7.57</td><td> 0.92</td><td> 2.18</td></tr>\n",
       "\t<tr><td> 37</td><td>99.00</td><td>99.00</td><td>99.00</td><td>99.00</td><td> 1.60</td><td>99.00</td><td>-2.86</td></tr>\n",
       "\t<tr><td> 65</td><td>99.00</td><td>-8.50</td><td> 6.17</td><td> 1.55</td><td> 8.01</td><td> 6.26</td><td> 7.82</td></tr>\n",
       "</tbody>\n",
       "</table>\n"
      ],
      "text/latex": [
       "A data.frame: 50 × 8\n",
       "\\begin{tabular}{llllllll}\n",
       " X100 & X3.16 & X5 & X.1.31 & X2.33 & X.7.33 & X6.8 & X.4.13\\\\\n",
       " <int> & <dbl> & <dbl> & <dbl> & <dbl> & <dbl> & <dbl> & <dbl>\\\\\n",
       "\\hline\n",
       "\t  60 & 99.00 &  1.26 & 99.00 & 99.00 & -0.10 & 99.00 &  2.18\\\\\n",
       "\t  40 & 99.00 & 99.00 & 99.00 & 99.00 &  1.36 &  6.50 & -1.02\\\\\n",
       "\t 100 & -8.59 & -7.86 & -7.86 & -5.05 & -5.39 &  7.86 & -9.08\\\\\n",
       "\t  45 &  8.11 &  5.92 & 99.00 & 99.00 & -8.59 & 99.00 &  5.78\\\\\n",
       "\t  53 & -2.28 &  5.10 & 99.00 & 99.00 & -2.77 & 99.00 &  2.33\\\\\n",
       "\t 100 &  6.21 &  7.82 & -5.92 &  1.84 & -0.49 &  2.62 &  7.18\\\\\n",
       "\t  62 &  6.94 & -0.05 & 99.00 & 99.00 &  2.33 &  2.91 &  2.67\\\\\n",
       "\t 100 & -7.43 & -8.74 & -7.82 & -7.62 & -8.74 & -8.59 & -7.86\\\\\n",
       "\t  63 & 99.00 & -6.02 & 99.00 & 99.00 &  2.62 &  7.82 &  6.70\\\\\n",
       "\t  71 &  4.56 &  6.17 &  1.12 &  2.96 &  0.63 &  2.09 &  1.65\\\\\n",
       "\t 100 &  1.26 &  1.12 & -1.89 & -3.98 & -4.17 &  1.99 &  1.84\\\\\n",
       "\t  41 &  0.29 &  3.11 & 99.00 & 99.00 &  8.11 & 99.00 & -9.17\\\\\n",
       "\t 100 &  1.26 & -3.74 & -3.35 & -6.26 & -1.26 & -4.13 & -4.71\\\\\n",
       "\t  73 & -0.29 & -9.42 & -0.29 & -0.29 & -6.70 &  5.73 & -6.89\\\\\n",
       "\t  61 & 99.00 & 99.00 & 99.00 & 99.00 & -3.06 &  8.98 &  9.13\\\\\n",
       "\t  72 & -1.60 & -1.75 & -1.75 & -1.60 &  2.09 & -1.80 &  0.00\\\\\n",
       "\t  71 &  3.40 &  8.11 &  8.11 &  3.40 &  5.44 &  3.01 &  0.73\\\\\n",
       "\t  47 & -7.04 & -6.21 & 99.00 & 99.00 & -6.94 & 99.00 & -6.12\\\\\n",
       "\t  65 & 99.00 & -2.18 &  2.67 &  1.80 &  0.92 & -0.44 &  2.67\\\\\n",
       "\t 100 &  3.50 &  6.21 & -0.63 &  2.86 &  0.58 & -0.05 & -2.82\\\\\n",
       "\t  68 & -6.21 & -0.10 & -5.29 & 99.00 & -6.26 & -4.42 & -7.04\\\\\n",
       "\t 100 &  5.44 & -2.67 & -7.96 & -6.80 & -6.84 & -3.25 & -6.80\\\\\n",
       "\t  67 &  9.27 &  9.17 &  9.27 &  8.83 & -9.32 &  9.13 &  7.91\\\\\n",
       "\t 100 &  2.38 & -5.44 & -8.11 & -6.99 &  3.20 &  1.55 & -9.61\\\\\n",
       "\t  48 & 99.00 & 99.00 & 99.00 & 99.00 &  0.05 & 99.00 &  1.75\\\\\n",
       "\t 100 & -8.50 & -6.60 & -8.45 & -7.82 & -8.74 &  5.78 & -8.45\\\\\n",
       "\t  55 & 99.00 & 99.00 & 99.00 & 99.00 &  6.07 &  6.41 &  6.75\\\\\n",
       "\t 100 &  2.28 &  1.70 & -5.53 & -0.87 &  8.30 &  7.86 & -7.04\\\\\n",
       "\t  53 & 99.00 & 99.00 & 99.00 & 99.00 & -1.41 & -1.31 &  1.07\\\\\n",
       "\t  38 & 99.00 & 99.00 & 99.00 & 99.00 &  2.33 & 99.00 &  5.87\\\\\n",
       "\t  53 &  3.45 &  6.07 & -9.27 & 99.00 & -9.81 & 99.00 &  3.30\\\\\n",
       "\t 100 &  3.06 &  6.50 & -7.91 & -6.70 &  6.80 & -8.20 &  7.96\\\\\n",
       "\t  72 & -7.67 & -6.99 & -1.41 & -7.77 & -8.69 & -6.50 &  5.19\\\\\n",
       "\t  41 & 99.00 & 99.00 & 99.00 & 99.00 &  6.02 & 99.00 & -2.09\\\\\n",
       "\t  72 & -1.50 &  3.30 &  3.35 & -1.94 &  1.55 &  4.90 & -8.54\\\\\n",
       "\t 100 &  2.82 &  5.44 &  7.57 &  2.86 &  7.09 &  6.99 &  6.99\\\\\n",
       "\t  74 &  6.89 & -9.66 &  0.15 & -0.10 &  3.40 &  5.44 & -8.16\\\\\n",
       "\t  72 & -6.07 & -5.58 & -6.17 & -5.63 &  3.11 &  2.96 & -4.17\\\\\n",
       "\t 100 & -0.92 &  1.65 &  1.02 & -2.38 & -6.41 &  1.50 & -4.27\\\\\n",
       "\t  68 & -3.16 & -1.12 &  1.31 & 99.00 & -2.04 &  6.50 &  2.23\\\\\n",
       "\t  72 & 99.00 & -5.83 & -5.83 & -5.83 &  8.74 &  5.29 & -3.25\\\\\n",
       "\t  48 & 99.00 & 99.00 & 99.00 & 99.00 & -8.16 & 99.00 & -0.68\\\\\n",
       "\t  69 & -1.26 &  6.02 &  2.33 &  4.76 &  0.34 &  5.87 & -3.88\\\\\n",
       "\t 100 &  8.16 &  2.28 &  4.37 &  7.91 &  1.12 &  9.03 &  2.23\\\\\n",
       "\t  73 &  0.44 & -8.45 & -0.53 & -3.88 & -8.06 & -5.10 & -8.35\\\\\n",
       "\t 100 &  3.54 & -5.00 &  1.60 & -3.25 & -4.56 & -2.23 & -4.56\\\\\n",
       "\t  37 & 99.00 & 99.00 & 99.00 & 99.00 &  8.45 & 99.00 &  6.60\\\\\n",
       "\t 100 &  3.30 &  1.31 &  4.37 & -1.50 &  7.57 &  0.92 &  2.18\\\\\n",
       "\t  37 & 99.00 & 99.00 & 99.00 & 99.00 &  1.60 & 99.00 & -2.86\\\\\n",
       "\t  65 & 99.00 & -8.50 &  6.17 &  1.55 &  8.01 &  6.26 &  7.82\\\\\n",
       "\\end{tabular}\n"
      ],
      "text/markdown": [
       "\n",
       "A data.frame: 50 × 8\n",
       "\n",
       "| X100 &lt;int&gt; | X3.16 &lt;dbl&gt; | X5 &lt;dbl&gt; | X.1.31 &lt;dbl&gt; | X2.33 &lt;dbl&gt; | X.7.33 &lt;dbl&gt; | X6.8 &lt;dbl&gt; | X.4.13 &lt;dbl&gt; |\n",
       "|---|---|---|---|---|---|---|---|\n",
       "|  60 | 99.00 |  1.26 | 99.00 | 99.00 | -0.10 | 99.00 |  2.18 |\n",
       "|  40 | 99.00 | 99.00 | 99.00 | 99.00 |  1.36 |  6.50 | -1.02 |\n",
       "| 100 | -8.59 | -7.86 | -7.86 | -5.05 | -5.39 |  7.86 | -9.08 |\n",
       "|  45 |  8.11 |  5.92 | 99.00 | 99.00 | -8.59 | 99.00 |  5.78 |\n",
       "|  53 | -2.28 |  5.10 | 99.00 | 99.00 | -2.77 | 99.00 |  2.33 |\n",
       "| 100 |  6.21 |  7.82 | -5.92 |  1.84 | -0.49 |  2.62 |  7.18 |\n",
       "|  62 |  6.94 | -0.05 | 99.00 | 99.00 |  2.33 |  2.91 |  2.67 |\n",
       "| 100 | -7.43 | -8.74 | -7.82 | -7.62 | -8.74 | -8.59 | -7.86 |\n",
       "|  63 | 99.00 | -6.02 | 99.00 | 99.00 |  2.62 |  7.82 |  6.70 |\n",
       "|  71 |  4.56 |  6.17 |  1.12 |  2.96 |  0.63 |  2.09 |  1.65 |\n",
       "| 100 |  1.26 |  1.12 | -1.89 | -3.98 | -4.17 |  1.99 |  1.84 |\n",
       "|  41 |  0.29 |  3.11 | 99.00 | 99.00 |  8.11 | 99.00 | -9.17 |\n",
       "| 100 |  1.26 | -3.74 | -3.35 | -6.26 | -1.26 | -4.13 | -4.71 |\n",
       "|  73 | -0.29 | -9.42 | -0.29 | -0.29 | -6.70 |  5.73 | -6.89 |\n",
       "|  61 | 99.00 | 99.00 | 99.00 | 99.00 | -3.06 |  8.98 |  9.13 |\n",
       "|  72 | -1.60 | -1.75 | -1.75 | -1.60 |  2.09 | -1.80 |  0.00 |\n",
       "|  71 |  3.40 |  8.11 |  8.11 |  3.40 |  5.44 |  3.01 |  0.73 |\n",
       "|  47 | -7.04 | -6.21 | 99.00 | 99.00 | -6.94 | 99.00 | -6.12 |\n",
       "|  65 | 99.00 | -2.18 |  2.67 |  1.80 |  0.92 | -0.44 |  2.67 |\n",
       "| 100 |  3.50 |  6.21 | -0.63 |  2.86 |  0.58 | -0.05 | -2.82 |\n",
       "|  68 | -6.21 | -0.10 | -5.29 | 99.00 | -6.26 | -4.42 | -7.04 |\n",
       "| 100 |  5.44 | -2.67 | -7.96 | -6.80 | -6.84 | -3.25 | -6.80 |\n",
       "|  67 |  9.27 |  9.17 |  9.27 |  8.83 | -9.32 |  9.13 |  7.91 |\n",
       "| 100 |  2.38 | -5.44 | -8.11 | -6.99 |  3.20 |  1.55 | -9.61 |\n",
       "|  48 | 99.00 | 99.00 | 99.00 | 99.00 |  0.05 | 99.00 |  1.75 |\n",
       "| 100 | -8.50 | -6.60 | -8.45 | -7.82 | -8.74 |  5.78 | -8.45 |\n",
       "|  55 | 99.00 | 99.00 | 99.00 | 99.00 |  6.07 |  6.41 |  6.75 |\n",
       "| 100 |  2.28 |  1.70 | -5.53 | -0.87 |  8.30 |  7.86 | -7.04 |\n",
       "|  53 | 99.00 | 99.00 | 99.00 | 99.00 | -1.41 | -1.31 |  1.07 |\n",
       "|  38 | 99.00 | 99.00 | 99.00 | 99.00 |  2.33 | 99.00 |  5.87 |\n",
       "|  53 |  3.45 |  6.07 | -9.27 | 99.00 | -9.81 | 99.00 |  3.30 |\n",
       "| 100 |  3.06 |  6.50 | -7.91 | -6.70 |  6.80 | -8.20 |  7.96 |\n",
       "|  72 | -7.67 | -6.99 | -1.41 | -7.77 | -8.69 | -6.50 |  5.19 |\n",
       "|  41 | 99.00 | 99.00 | 99.00 | 99.00 |  6.02 | 99.00 | -2.09 |\n",
       "|  72 | -1.50 |  3.30 |  3.35 | -1.94 |  1.55 |  4.90 | -8.54 |\n",
       "| 100 |  2.82 |  5.44 |  7.57 |  2.86 |  7.09 |  6.99 |  6.99 |\n",
       "|  74 |  6.89 | -9.66 |  0.15 | -0.10 |  3.40 |  5.44 | -8.16 |\n",
       "|  72 | -6.07 | -5.58 | -6.17 | -5.63 |  3.11 |  2.96 | -4.17 |\n",
       "| 100 | -0.92 |  1.65 |  1.02 | -2.38 | -6.41 |  1.50 | -4.27 |\n",
       "|  68 | -3.16 | -1.12 |  1.31 | 99.00 | -2.04 |  6.50 |  2.23 |\n",
       "|  72 | 99.00 | -5.83 | -5.83 | -5.83 |  8.74 |  5.29 | -3.25 |\n",
       "|  48 | 99.00 | 99.00 | 99.00 | 99.00 | -8.16 | 99.00 | -0.68 |\n",
       "|  69 | -1.26 |  6.02 |  2.33 |  4.76 |  0.34 |  5.87 | -3.88 |\n",
       "| 100 |  8.16 |  2.28 |  4.37 |  7.91 |  1.12 |  9.03 |  2.23 |\n",
       "|  73 |  0.44 | -8.45 | -0.53 | -3.88 | -8.06 | -5.10 | -8.35 |\n",
       "| 100 |  3.54 | -5.00 |  1.60 | -3.25 | -4.56 | -2.23 | -4.56 |\n",
       "|  37 | 99.00 | 99.00 | 99.00 | 99.00 |  8.45 | 99.00 |  6.60 |\n",
       "| 100 |  3.30 |  1.31 |  4.37 | -1.50 |  7.57 |  0.92 |  2.18 |\n",
       "|  37 | 99.00 | 99.00 | 99.00 | 99.00 |  1.60 | 99.00 | -2.86 |\n",
       "|  65 | 99.00 | -8.50 |  6.17 |  1.55 |  8.01 |  6.26 |  7.82 |\n",
       "\n"
      ],
      "text/plain": [
       "   X100 X3.16 X5    X.1.31 X2.33 X.7.33 X6.8  X.4.13\n",
       "1   60  99.00  1.26 99.00  99.00 -0.10  99.00  2.18 \n",
       "2   40  99.00 99.00 99.00  99.00  1.36   6.50 -1.02 \n",
       "3  100  -8.59 -7.86 -7.86  -5.05 -5.39   7.86 -9.08 \n",
       "4   45   8.11  5.92 99.00  99.00 -8.59  99.00  5.78 \n",
       "5   53  -2.28  5.10 99.00  99.00 -2.77  99.00  2.33 \n",
       "6  100   6.21  7.82 -5.92   1.84 -0.49   2.62  7.18 \n",
       "7   62   6.94 -0.05 99.00  99.00  2.33   2.91  2.67 \n",
       "8  100  -7.43 -8.74 -7.82  -7.62 -8.74  -8.59 -7.86 \n",
       "9   63  99.00 -6.02 99.00  99.00  2.62   7.82  6.70 \n",
       "10  71   4.56  6.17  1.12   2.96  0.63   2.09  1.65 \n",
       "11 100   1.26  1.12 -1.89  -3.98 -4.17   1.99  1.84 \n",
       "12  41   0.29  3.11 99.00  99.00  8.11  99.00 -9.17 \n",
       "13 100   1.26 -3.74 -3.35  -6.26 -1.26  -4.13 -4.71 \n",
       "14  73  -0.29 -9.42 -0.29  -0.29 -6.70   5.73 -6.89 \n",
       "15  61  99.00 99.00 99.00  99.00 -3.06   8.98  9.13 \n",
       "16  72  -1.60 -1.75 -1.75  -1.60  2.09  -1.80  0.00 \n",
       "17  71   3.40  8.11  8.11   3.40  5.44   3.01  0.73 \n",
       "18  47  -7.04 -6.21 99.00  99.00 -6.94  99.00 -6.12 \n",
       "19  65  99.00 -2.18  2.67   1.80  0.92  -0.44  2.67 \n",
       "20 100   3.50  6.21 -0.63   2.86  0.58  -0.05 -2.82 \n",
       "21  68  -6.21 -0.10 -5.29  99.00 -6.26  -4.42 -7.04 \n",
       "22 100   5.44 -2.67 -7.96  -6.80 -6.84  -3.25 -6.80 \n",
       "23  67   9.27  9.17  9.27   8.83 -9.32   9.13  7.91 \n",
       "24 100   2.38 -5.44 -8.11  -6.99  3.20   1.55 -9.61 \n",
       "25  48  99.00 99.00 99.00  99.00  0.05  99.00  1.75 \n",
       "26 100  -8.50 -6.60 -8.45  -7.82 -8.74   5.78 -8.45 \n",
       "27  55  99.00 99.00 99.00  99.00  6.07   6.41  6.75 \n",
       "28 100   2.28  1.70 -5.53  -0.87  8.30   7.86 -7.04 \n",
       "29  53  99.00 99.00 99.00  99.00 -1.41  -1.31  1.07 \n",
       "30  38  99.00 99.00 99.00  99.00  2.33  99.00  5.87 \n",
       "31  53   3.45  6.07 -9.27  99.00 -9.81  99.00  3.30 \n",
       "32 100   3.06  6.50 -7.91  -6.70  6.80  -8.20  7.96 \n",
       "33  72  -7.67 -6.99 -1.41  -7.77 -8.69  -6.50  5.19 \n",
       "34  41  99.00 99.00 99.00  99.00  6.02  99.00 -2.09 \n",
       "35  72  -1.50  3.30  3.35  -1.94  1.55   4.90 -8.54 \n",
       "36 100   2.82  5.44  7.57   2.86  7.09   6.99  6.99 \n",
       "37  74   6.89 -9.66  0.15  -0.10  3.40   5.44 -8.16 \n",
       "38  72  -6.07 -5.58 -6.17  -5.63  3.11   2.96 -4.17 \n",
       "39 100  -0.92  1.65  1.02  -2.38 -6.41   1.50 -4.27 \n",
       "40  68  -3.16 -1.12  1.31  99.00 -2.04   6.50  2.23 \n",
       "41  72  99.00 -5.83 -5.83  -5.83  8.74   5.29 -3.25 \n",
       "42  48  99.00 99.00 99.00  99.00 -8.16  99.00 -0.68 \n",
       "43  69  -1.26  6.02  2.33   4.76  0.34   5.87 -3.88 \n",
       "44 100   8.16  2.28  4.37   7.91  1.12   9.03  2.23 \n",
       "45  73   0.44 -8.45 -0.53  -3.88 -8.06  -5.10 -8.35 \n",
       "46 100   3.54 -5.00  1.60  -3.25 -4.56  -2.23 -4.56 \n",
       "47  37  99.00 99.00 99.00  99.00  8.45  99.00  6.60 \n",
       "48 100   3.30  1.31  4.37  -1.50  7.57   0.92  2.18 \n",
       "49  37  99.00 99.00 99.00  99.00  1.60  99.00 -2.86 \n",
       "50  65  99.00 -8.50  6.17   1.55  8.01   6.26  7.82 "
      ]
     },
     "metadata": {},
     "output_type": "display_data"
    }
   ],
   "source": [
    "read.csv(file=\"jester-data.csv\",skip=50, nrows=50, colClasses=c(rep(NA, 8),rep(\"NULL\",93)))\n",
    "#c(rep(NA, 8),rep(\"NULL\",42))"
   ]
  },
  {
   "cell_type": "markdown",
   "metadata": {},
   "source": [
    "5.\tImport the “Group A” table from the website https://www.skysports.com/champions-league-table. Set the correct data type for each column."
   ]
  },
  {
   "cell_type": "code",
   "execution_count": null,
   "metadata": {},
   "outputs": [],
   "source": []
  },
  {
   "cell_type": "markdown",
   "metadata": {},
   "source": [
    "6.\tSave the table as an R object, and then as a comma separated file using the | character as a row separator."
   ]
  },
  {
   "cell_type": "code",
   "execution_count": null,
   "metadata": {},
   "outputs": [],
   "source": []
  },
  {
   "cell_type": "markdown",
   "metadata": {},
   "source": [
    "7. Download (using R) the following dataset https://www3.stats.govt.nz/2018census/Occupied-dwellings-unoccupied-dwellings-dwellings-under-construction-private-and-non-private-dwellings-2006-2013-2018-Censuses-RC-TA-SA2-DHB.zip?_ga=2.141002357.630272337.1602082952-1963814488.1602082952. Extract all csv files to separate data frames"
   ]
  },
  {
   "cell_type": "code",
   "execution_count": null,
   "metadata": {},
   "outputs": [],
   "source": []
  },
  {
   "cell_type": "markdown",
   "metadata": {},
   "source": [
    "8. Give each data frame a meaningful name. Save the objects to .rdata format"
   ]
  },
  {
   "cell_type": "code",
   "execution_count": null,
   "metadata": {},
   "outputs": [],
   "source": []
  },
  {
   "cell_type": "markdown",
   "metadata": {},
   "source": [
    "9. Each of the other than Data8278.csv is a **lookup** dataset. It gives additional information on the codes used in Data8278.csv. Use these datasets to replace the codes in the main dataset with the descriptions found in the lookup. Hint: check the `match` function."
   ]
  },
  {
   "cell_type": "code",
   "execution_count": null,
   "metadata": {},
   "outputs": [],
   "source": []
  }
 ],
 "metadata": {
  "kernelspec": {
   "display_name": "R",
   "language": "R",
   "name": "ir"
  },
  "language_info": {
   "codemirror_mode": "r",
   "file_extension": ".r",
   "mimetype": "text/x-r-source",
   "name": "R",
   "pygments_lexer": "r",
   "version": "4.2.1"
  }
 },
 "nbformat": 4,
 "nbformat_minor": 4
}
