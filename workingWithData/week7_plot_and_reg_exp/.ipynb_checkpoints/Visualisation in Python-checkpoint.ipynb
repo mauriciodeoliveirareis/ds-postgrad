{
 "cells": [
  {
   "cell_type": "markdown",
   "metadata": {},
   "source": [
    "# Visualisation in Python\n",
    "\n",
    "The main library we will be using here is **matplotlib**. The matplotlib library is based on a mathematical and graphing programming language called *matplot*. The matplotlib library needs to be installed on your machine before it is available for import.\n",
    "\n",
    "```bash\n",
    "> pip install matplotlib\n",
    "```\n",
    "\n",
    "Notice that we're not importing the matplotlib package directly but we're importing the pyplot module. This package has been designed to fit the syntax of python and is what pretty much every Python programmer uses. Also, we usually import this module as **plt**. This is a widespread convention, it just allows us to refer to module as *plt* rather than *pyplot* \n",
    "\n",
    "We saw the **numpy** and **pandas** packages last week, these should already be installed on your machine. Matplotlib works with numpy arrays, so we almost always want to import numpy along with matplotlib.\n",
    "\n",
    "The **requests** module allows us to download files over the internet. We'll be downloading a dataset in this script. You can install the requests package using\n",
    "\n",
    "```bash\n",
    "> pip install requests\n",
    "```\n",
    "\n",
    "Finally, we're importing the **os** package. This stands for *operating system*. It allows us to work with files on disk (among other things). It's installed as part of Python by default so no need for pip, but you still need to import it to use it in your scripts."
   ]
  },
  {
   "cell_type": "code",
   "execution_count": 1,
   "metadata": {},
   "outputs": [],
   "source": [
    "import matplotlib.pyplot as plt\n",
    "import numpy as np\n"
   ]
  },
  {
   "cell_type": "markdown",
   "metadata": {},
   "source": [
    "## A First Look at MatPlotLib\n",
    "\n",
    "There are two ways of using *MatPlotLib*, the object oriented method (object-oriented graphs, *yuck*), and the python method. If you're interested in the object-oriented method, check out the [matplotlib docs](https://matplotlib.org/tutorials/introductory/usage.html#the-object-oriented-interface-and-the-pyplot-interface)\n",
    "\n",
    "We talked about *geoms* in R. A *geom* was essentially the graph type (line, scatter *etc.*). Matplotlib doesn't really have a concept of *geoms* as such, but we can build the different types of graph using markers, line-styles *etc.*\n",
    "\n",
    "What is the default graph type for matplotlib? Try it out below, by plotting the x and y data without specifying any options"
   ]
  },
  {
   "cell_type": "code",
   "execution_count": 2,
   "metadata": {},
   "outputs": [],
   "source": [
    "x = np.array([1, 2, 4, 5, 7])\n",
    "y = np.array([3, 5, 1, 1, 0])\n"
   ]
  },
  {
   "cell_type": "markdown",
   "metadata": {},
   "source": [
    "Let's say we want a scatterplot instead. We can set the optional parameters *marker* and *linestyle* to change the lines to dots. A *marker* value of *o* represents circles; *linestyle* lets us specify solid or dashed lines etc., but a value of *none* (as a string) tells matplotlib not to use lines at all. Obviously enough, the *color* parameter changes the colour of the markers"
   ]
  },
  {
   "cell_type": "code",
   "execution_count": 3,
   "metadata": {},
   "outputs": [
    {
     "data": {
      "image/png": "[encoded data removed]",
      "text/plain": [
       "<Figure size 640x480 with 1 Axes>"
      ]
     },
     "metadata": {},
     "output_type": "display_data"
    }
   ],
   "source": [
    "plt.plot(x, y, marker='o', linestyle='none', color='red')\n",
    "plt.show()"
   ]
  },
  {
   "cell_type": "markdown",
   "metadata": {},
   "source": [
    "### Task 1\n",
    "\n",
    "You can get more information on all of the many parameters available at the [documentation for the plot function](https://matplotlib.org/api/_as_gen/matplotlib.pyplot.plot.html#matplotlib.pyplot.plot). I highly recommend scanning through this and referring back when needed.\n",
    "\n",
    "Have a look at the function signature on the docs page above. The third optional parameter is *fmt*. This is a special format string that can be used as a shortcut allowing you to specify multiple parameters in one go. Have a look at the notes on the format string and see if you can use it to create a plot with downward facing triangles connected by a dashed line instead of red dots."
   ]
  },
  {
   "cell_type": "code",
   "execution_count": null,
   "metadata": {},
   "outputs": [],
   "source": [
    "plt.plot(x, y, marker='o', linestyle='none', color='red')\n",
    "plt.show()"
   ]
  },
  {
   "cell_type": "markdown",
   "metadata": {},
   "source": [
    "## Multiple Series on a Single Plot\n",
    "\n",
    "This is the equivalent to R's multiple geoms. We can overlay plots on one another simply by calling the plt.plot() function over and over. Our first call to plt.plot() will create a new *Axes* for us. Every plot will be created on top of that axes until we call plt.show(). The show() function will output the current plot and reset the axes.\n",
    "\n",
    "### Task 2\n",
    "\n",
    "1. Create 20 numbers evenly spaced between 0 and 3\n",
    "2. Plot the function y=x using blue stars connected by a solid line (i.e. if x=1, y=1, x=2, y=2 etc.)\n",
    "3. Plot the function y=x squared using yellow upward facing triangles connected by a dashed line\n",
    "4. Plot the function y=x cubed using green pentagrams connected by a dotted line\n",
    "5. Ensure all of the above series are plotted on the same Axes\n",
    "\n",
    "In the example below we're overlaying three series of data on top of one another. Modify the code below to output three separate figures, one for each plot."
   ]
  },
  {
   "cell_type": "code",
   "execution_count": null,
   "metadata": {},
   "outputs": [],
   "source": []
  },
  {
   "cell_type": "markdown",
   "metadata": {},
   "source": [
    "## Exploring Different Chart Types\n",
    "\n",
    "We saw how we can tweak the parameters of the plot() function to turn a line chart into a scatterplot. We can also use some of the convenience functions provided by matplotlib to do this for us. It's a bit easier, and definitely more readable to use these where appropriate. In this section we'll look at some of the different types of charts that are available to us\n",
    "\n",
    "### Scatter\n",
    "\n",
    "Look up the [documentation on scatter()](https://matplotlib.org/api/_as_gen/matplotlib.pyplot.scatter.html#matplotlib.pyplot.scatter) to see how we can use the scatter plot function to create a scatter plot with red stars as markers.\n",
    "\n",
    "The example below uses numpy to generate 5 random values for x and 5 random values for y. The call to RandomState sets a seed which ensures that the same values will be produced by the random number generator every time the script is run"
   ]
  },
  {
   "cell_type": "code",
   "execution_count": null,
   "metadata": {},
   "outputs": [],
   "source": [
    "# create a random number generator seeded with the value 0\n",
    "rng = np.random.RandomState(0)\n",
    "\n",
    "x = rng.rand(5)\n",
    "y = rng.rand(5)\n",
    "\n",
    "plt.scatter(x, y, marker='*', c='red')"
   ]
  },
  {
   "cell_type": "markdown",
   "metadata": {},
   "source": [
    "### Histograms\n",
    "\n",
    "A histograms are useful to count the number of values that fall within a certain range. Unlike scatterplots and line charts they don't take a y value. We supply the x values and the y values is the count of values falling into each bin. See week 4 for more detail on histograms.\n",
    "\n",
    "Check out the [hist() documentation](https://matplotlib.org/api/_as_gen/matplotlib.pyplot.hist.html#matplotlib.pyplot.hist) for a full reference of how to use the *hist()* function. Create a histogram using the data below. Try to bin the values so that the bell curve associated with normal distributions is visible\n",
    "\n",
    "In this example we're using the numpy random.normal() function to draw 1000 random numbers normally distributed around a mean of 50 with a standard deviation of 10. This should give us a roughly bell-shaped curve (because the values are randomly distributed though, it won't be perfectly symmetrical). "
   ]
  },
  {
   "cell_type": "code",
   "execution_count": null,
   "metadata": {},
   "outputs": [],
   "source": [
    "np.random.RandomState(0)\n",
    "x = np.random.normal(50, 10, 1000)\n",
    "\n"
   ]
  },
  {
   "cell_type": "markdown",
   "metadata": {},
   "source": [
    "### Boxplots\n",
    "\n",
    "We saw how boxplots can be used to visualise multiple distributions and they pack in quite a lot of information such as the mean, interquartile range, outliers, etc. As you may have guessed at this stage, matplotlib uses the **boxplot()** function to create boxplots. As with histograms, boxplots only take *x* values while the *y* values represent the distribution of x. Unlike histograms, boxplots can take make multiple series of x values. Remember in R that we usually used boxplots to visualise the distribution of a continuous variable with respect to a categorical variable\n",
    "\n",
    "We're creating our data below using a random number generator. The random() functin returns a value between 0 and 1 so we multiply this by 100 to scale it. In order to pass multiple x values to the boxplot() function we use a python list. Create a boxplot using the x values below"
   ]
  },
  {
   "cell_type": "code",
   "execution_count": null,
   "metadata": {},
   "outputs": [],
   "source": [
    "rng = np.random.RandomState(0)\n",
    "\n",
    "x1 = np.array(rng.random(100) * 100)\n",
    "x2 = np.array(rng.random(100) * 100 + 20)\n",
    "x3 = np.array(rng.random(100) * 100 - 40)\n",
    "\n"
   ]
  },
  {
   "cell_type": "markdown",
   "metadata": {},
   "source": [
    "Our first step is to download the dataset. We don't want to do this every time we run the script. If we've already download the file there's no need to get it again. We can see how we use the os package to check if a file exists. We only download the dataset if the file isn't found.\n",
    "\n",
    "Notice the second parameter to **open()** in the download_data function. This second parameter allows us to specify a string representing our file-opening options. We can either open a file for reading (r), (over-)writing (w) or appending (a). The second character **b**, tells Python that we're going to give it binary content (rather than Python strings). When we get web page using the requests module, its content is in binary format. If we forget to supply this parameter we'll get an error when we try to write the file."
   ]
  },
  {
   "cell_type": "markdown",
   "metadata": {},
   "source": [
    "## Subplots\n",
    "\n",
    "We saw how we can use *faceting* in R to create *small multiples* of graphs. Though not as straightforward as R, matplotlib allows us to achieve the same thing using the **subplot()** function. The subplot function takes three parameters. The number of rows, the number of columns, and the index of the current plot. Note that the index for subplot is *1-based*, not 0-based.\n",
    "\n",
    "The code below contains 4 sets of x/y values. Plot each of those pairs in a 2x2 grid below. The top left plot should be red, the top right should be green, the bottom left should be blue and the bottom right should be yellow\n",
    "\n",
    "The **subplot()** function allows you to specify these three values as a single number in what, to me, seems like a pretty unnecessary and massively confusing \"*feature*\". So if you see code that looks like\n",
    "\n",
    "```python\n",
    "plt.subplot(612)\n",
    "```\n",
    "\n",
    "this is just shorthand for\n",
    "\n",
    "```python\n",
    "plt.subplot(6, 1, 2)\n",
    "```\n",
    "\n",
    "Of course, this only works if none of the numbers are greater than 9, and make it building sub-plots in loops unnecessarily complicated. My advice to you is to avoid it like the plague and shun anyone you catch using this ridiculous format.\n",
    "\n",
    "It saves you two commas for crying out loud..."
   ]
  },
  {
   "cell_type": "code",
   "execution_count": 6,
   "metadata": {
    "scrolled": true
   },
   "outputs": [
    {
     "data": {
      "image/png": "[encoded data removed]",
      "text/plain": [
       "<Figure size 432x288 with 4 Axes>"
      ]
     },
     "metadata": {
      "needs_background": "light"
     },
     "output_type": "display_data"
    }
   ],
   "source": [
    "np.random.RandomState(0)\n",
    "\n",
    "standard_deviation = [10, 30]\n",
    "mean_value = [200, 150]\n",
    "\n",
    "x1 = np.random.normal(mean_value[0], standard_deviation[0], 1000)\n",
    "x2 = np.random.normal(mean_value[1], standard_deviation[0], 1000)\n",
    "x3 = np.random.normal(mean_value[0], standard_deviation[1], 1000)\n",
    "x4 = np.random.normal(mean_value[1], standard_deviation[1], 1000)\n",
    "\n",
    "\n",
    "plt.subplot(2, 2, 1)\n",
    "plt.xlim(0, 250)\n",
    "plt.ylim(0, 300)\n",
    "plt.hist(x1)\n",
    "plt.subplot(2, 2, 2)\n",
    "plt.xlim(0, 250)\n",
    "plt.ylim(0, 300)\n",
    "plt.hist(x2)\n",
    "plt.subplot(2, 2, 3)\n",
    "plt.xlim(0, 300)\n",
    "plt.ylim(0, 400)\n",
    "plt.hist(x3)\n",
    "plt.subplot(2, 2, 4)\n",
    "plt.xlim(0, 250)\n",
    "plt.ylim(0, 300)\n",
    "plt.hist(x4)\n",
    "plt.show()"
   ]
  },
  {
   "cell_type": "markdown",
   "metadata": {},
   "source": [
    "## Bar charts\n",
    "\n",
    "A bar chart plots numeric values for levels of a categorical feature as bars. It is used when you want to show a distribution of data points or perform a comparison of metric values across different subgroups of your data. You can see the documentation for barcharts using `matplotlib` [here](https://matplotlib.org/stable/api/_as_gen/matplotlib.pyplot.bar.html). \n",
    "\n",
    "To exemplify its use we are using some hardcoded data from 2016 Olympics built in a Pandas dataframe. Run the cell below and observe the result. Comment some of the `ax.bar` to understand their effect."
   ]
  },
  {
   "cell_type": "code",
   "execution_count": null,
   "metadata": {},
   "outputs": [],
   "source": [
    "medals = {\"Gold\":[137,47,64,50,44,20,23,8,4,17],\n",
    "          \"Silver\":[52,43,55,28,30,55,34,38,4,13],\n",
    "          \"Bronze\":[67,67,26,35,35,21,25,24,61,34]}\n",
    "index = [\"United States\", \"Germany\", \"Great Britain\", \"Russia\", \"China\", \"France\", \"Australia\", \"Italy\", \"Canada\", \"Japan\"]\n",
    "\n",
    "\n",
    "df = pd.DataFrame(medals, index = index)\n",
    "\n",
    "fig, ax = plt.subplots()\n",
    "ax.bar(df.index, df[\"Gold\"], label=\"Gold\")\n",
    "ax.bar(df.index, df[\"Silver\"], bottom=df[\"Gold\"], label=\"Silver\")\n",
    "ax.bar(df.index, df[\"Bronze\"], bottom=df[\"Gold\"] + df[\"Silver\"], label=\"Bronze\")\n",
    "ax.set_xticklabels(df.index, rotation=\"90\")\n",
    "ax.set_ylabel(\"Number of medals\")\n",
    "ax.legend()\n",
    "plt.show()"
   ]
  },
  {
   "cell_type": "markdown",
   "metadata": {},
   "source": [
    "### Task 3\n",
    "\n",
    "1. The code below gives you an array of 4 sets of x values and an array of 4 sets of y values\n",
    "2. Plot each pair of x y values in a 2 x 2 grid using matplotlib\n",
    "3. Use the colors red, green, blue and yellow for each plot respectively\n",
    "4. Advanced: Do this using a loop\n"
   ]
  },
  {
   "cell_type": "code",
   "execution_count": null,
   "metadata": {},
   "outputs": [],
   "source": [
    "rng = np.random.RandomState(0)\n",
    "\n",
    "xValues = [rng.random(10) for i in range(4)]\n",
    "yValues = [rng.random(10) for i in range(4)]\n"
   ]
  },
  {
   "cell_type": "markdown",
   "metadata": {},
   "source": [
    "## Figure Elements\n",
    "\n",
    "There's much more to a plot than just the data points. Good plots should be labelled so that they're easy to read. Very good plots will make sure that the x-axis and y-axis are correctly calibrated, and will make use of tools like legends to explain what's going on in the plot. These elements can be added and modified using matplotlib function calls. I'll cover some of the functions here, as always, the exhaustive list can be found in the [matplotlib pyplot documentation](https://matplotlib.org/3.1.0/api/pyplot_summary.html)."
   ]
  },
  {
   "cell_type": "markdown",
   "metadata": {},
   "source": [
    "### Labels\n",
    "\n",
    "X and Y labels are indications of what each axis on the plot refers to. X and Y labels should give an indication of the what variable is being plotted, as well as the units (where it's not immediately obvious). A plot should also have a title, which describes what's being shown "
   ]
  },
  {
   "cell_type": "code",
   "execution_count": 7,
   "metadata": {},
   "outputs": [
    {
     "data": {
      "text/plain": [
       "Text(0.5, 1.0, 'Distribution of Income by Age among Irish residents')"
      ]
     },
     "execution_count": 7,
     "metadata": {},
     "output_type": "execute_result"
    },
    {
     "data": {
      "image/png": "[encoded data removed]",
      "text/plain": [
       "<Figure size 432x288 with 1 Axes>"
      ]
     },
     "metadata": {
      "needs_background": "light"
     },
     "output_type": "display_data"
    }
   ],
   "source": [
    "age = np.array([16, 20, 24, 30, 36, 40, 54, 62, 66, 70])\n",
    "income = np.array([3, 18, 20, 36, 24, 48, 50, 60, 100, 18])\n",
    "\n",
    "plt.scatter(age, income)\n",
    "plt.xlabel(\"Age\")\n",
    "plt.ylabel(\"Income (€'000)\")\n",
    "plt.title(\"Distribution of Income by Age among Irish residents\")"
   ]
  },
  {
   "cell_type": "markdown",
   "metadata": {},
   "source": [
    "### Legends\n",
    "\n",
    "Whenever we encode information using something like shapes, colours *etc.*, we need to include a legend to explain how that encoding works. "
   ]
  },
  {
   "cell_type": "code",
   "execution_count": 9,
   "metadata": {},
   "outputs": [
    {
     "data": {
      "image/png": "[encoded data removed]",
      "text/plain": [
       "<Figure size 432x288 with 1 Axes>"
      ]
     },
     "metadata": {
      "needs_background": "light"
     },
     "output_type": "display_data"
    }
   ],
   "source": [
    "# https://tradingeconomics.com/ireland/wages\n",
    "\n",
    "ireland_gdp_per_capita = np.array([52274.5, 65432.7, 67077.7, 71756, 76662.7])\n",
    "ireland_average_salaray = np.array([701, 711, 739, 759, 770]) * 52\n",
    "years = np.array([2015, 2016, 2017, 2018, 2019])\n",
    "\n",
    "plt.scatter(years, ireland_gdp_per_capita, c='red', label=\"GDP Per Capita\")\n",
    "plt.scatter(years, ireland_average_salaray, c='green', label=\"Average Salary\")\n",
    "plt.title(\"Showing GDP and average salary in Ireland 2015 - 2019\")\n",
    "plt.xlabel(\"Year\")\n",
    "plt.ylabel(\"Total (€)\")\n",
    "plt.legend()\n",
    "plt.show()"
   ]
  },
  {
   "cell_type": "markdown",
   "metadata": {},
   "source": [
    "## Axis Calibration\n",
    "\n",
    "The example above is OK, but our year axis looks kind of odd. It's strange to see the year 2017.5. Also, matplotlib has automatically set the limits of the y axis to just below the minimum value supplied and just above the maximum. It might make more sense to start the graph at 0 to give an idea of scale.\n",
    "\n",
    "The **xticks()** function allows us to set the locations of the *ticks* or minor lines along the x axis. See [the documentation](https://matplotlib.org/api/_as_gen/matplotlib.pyplot.xticks.html#matplotlib.pyplot.xticks) for more details.\n",
    "\n",
    "The **xlim()** and **ylim()** functions allow us to set the minimum and maximum values of the x and y axis. Matplotlib will do a best-guess attempt at this, but it's often sub-optimal.\n",
    "\n",
    "Finally, the legend looks a little cramped in the top left of the graph, so we'll use the *loc* (location) parameter to put it in the bottom right"
   ]
  },
  {
   "cell_type": "code",
   "execution_count": 10,
   "metadata": {},
   "outputs": [
    {
     "data": {
      "image/png": "[encoded data removed]",
      "text/plain": [
       "<Figure size 432x288 with 1 Axes>"
      ]
     },
     "metadata": {
      "needs_background": "light"
     },
     "output_type": "display_data"
    }
   ],
   "source": [
    "plt.scatter(years, ireland_gdp_per_capita, c='red', label=\"GDP Per Capita\")\n",
    "plt.scatter(years, ireland_average_salaray, c='green', label=\"Average Salary\")\n",
    "plt.title(\"Showing GDP and average salary in Ireland 2015 - 2019\")\n",
    "plt.xlabel(\"Year\")\n",
    "plt.ylabel(\"Total (€)\")\n",
    "plt.legend(loc=\"lower right\")\n",
    "\n",
    "plt.xticks(years) # we don't want matplotlib to automatically insert minor ticks between the years\n",
    "plt.ylim(0, ireland_gdp_per_capita.max() + ireland_gdp_per_capita.max() * 0.1)\n",
    "plt.show()"
   ]
  },
  {
   "cell_type": "markdown",
   "metadata": {},
   "source": [
    "## Matplotlib and Pandas\n",
    "\n",
    "Pandas is the most common library used for working with dataframes and it's tightly integrated with matplotlib. There are two ways you can use matplotlib with pandas. One way is to use the functions we've looked at so far, and pass the column values from our dataframe. However, pandas dataframes have some convenience functions that let you create a graph directly from the dataframe itself. We'll explore this below.\n",
    "\n",
    "For this next section we'll be using the iris dataset. The cell below will download the Iris dataset from the internet and save it in the current working directory. We can then use the pandas read_csv() funciton to create a dataframe."
   ]
  },
  {
   "cell_type": "code",
   "execution_count": 11,
   "metadata": {},
   "outputs": [
    {
     "data": {
      "text/html": [
       "<div>\n",
       "<style scoped>\n",
       "    .dataframe tbody tr th:only-of-type {\n",
       "        vertical-align: middle;\n",
       "    }\n",
       "\n",
       "    .dataframe tbody tr th {\n",
       "        vertical-align: top;\n",
       "    }\n",
       "\n",
       "    .dataframe thead th {\n",
       "        text-align: right;\n",
       "    }\n",
       "</style>\n",
       "<table border=\"1\" class=\"dataframe\">\n",
       "  <thead>\n",
       "    <tr style=\"text-align: right;\">\n",
       "      <th></th>\n",
       "      <th>sepal_length</th>\n",
       "      <th>sepal_width</th>\n",
       "      <th>petal_length</th>\n",
       "      <th>petal_width</th>\n",
       "      <th>species</th>\n",
       "    </tr>\n",
       "  </thead>\n",
       "  <tbody>\n",
       "    <tr>\n",
       "      <th>0</th>\n",
       "      <td>5.1</td>\n",
       "      <td>3.5</td>\n",
       "      <td>1.4</td>\n",
       "      <td>0.2</td>\n",
       "      <td>setosa</td>\n",
       "    </tr>\n",
       "    <tr>\n",
       "      <th>1</th>\n",
       "      <td>4.9</td>\n",
       "      <td>3.0</td>\n",
       "      <td>1.4</td>\n",
       "      <td>0.2</td>\n",
       "      <td>setosa</td>\n",
       "    </tr>\n",
       "    <tr>\n",
       "      <th>2</th>\n",
       "      <td>4.7</td>\n",
       "      <td>3.2</td>\n",
       "      <td>1.3</td>\n",
       "      <td>0.2</td>\n",
       "      <td>setosa</td>\n",
       "    </tr>\n",
       "    <tr>\n",
       "      <th>3</th>\n",
       "      <td>4.6</td>\n",
       "      <td>3.1</td>\n",
       "      <td>1.5</td>\n",
       "      <td>0.2</td>\n",
       "      <td>setosa</td>\n",
       "    </tr>\n",
       "    <tr>\n",
       "      <th>4</th>\n",
       "      <td>5.0</td>\n",
       "      <td>3.6</td>\n",
       "      <td>1.4</td>\n",
       "      <td>0.2</td>\n",
       "      <td>setosa</td>\n",
       "    </tr>\n",
       "    <tr>\n",
       "      <th>...</th>\n",
       "      <td>...</td>\n",
       "      <td>...</td>\n",
       "      <td>...</td>\n",
       "      <td>...</td>\n",
       "      <td>...</td>\n",
       "    </tr>\n",
       "    <tr>\n",
       "      <th>145</th>\n",
       "      <td>6.7</td>\n",
       "      <td>3.0</td>\n",
       "      <td>5.2</td>\n",
       "      <td>2.3</td>\n",
       "      <td>virginica</td>\n",
       "    </tr>\n",
       "    <tr>\n",
       "      <th>146</th>\n",
       "      <td>6.3</td>\n",
       "      <td>2.5</td>\n",
       "      <td>5.0</td>\n",
       "      <td>1.9</td>\n",
       "      <td>virginica</td>\n",
       "    </tr>\n",
       "    <tr>\n",
       "      <th>147</th>\n",
       "      <td>6.5</td>\n",
       "      <td>3.0</td>\n",
       "      <td>5.2</td>\n",
       "      <td>2.0</td>\n",
       "      <td>virginica</td>\n",
       "    </tr>\n",
       "    <tr>\n",
       "      <th>148</th>\n",
       "      <td>6.2</td>\n",
       "      <td>3.4</td>\n",
       "      <td>5.4</td>\n",
       "      <td>2.3</td>\n",
       "      <td>virginica</td>\n",
       "    </tr>\n",
       "    <tr>\n",
       "      <th>149</th>\n",
       "      <td>5.9</td>\n",
       "      <td>3.0</td>\n",
       "      <td>5.1</td>\n",
       "      <td>1.8</td>\n",
       "      <td>virginica</td>\n",
       "    </tr>\n",
       "  </tbody>\n",
       "</table>\n",
       "<p>150 rows × 5 columns</p>\n",
       "</div>"
      ],
      "text/plain": [
       "     sepal_length  sepal_width  petal_length  petal_width    species\n",
       "0             5.1          3.5           1.4          0.2     setosa\n",
       "1             4.9          3.0           1.4          0.2     setosa\n",
       "2             4.7          3.2           1.3          0.2     setosa\n",
       "3             4.6          3.1           1.5          0.2     setosa\n",
       "4             5.0          3.6           1.4          0.2     setosa\n",
       "..            ...          ...           ...          ...        ...\n",
       "145           6.7          3.0           5.2          2.3  virginica\n",
       "146           6.3          2.5           5.0          1.9  virginica\n",
       "147           6.5          3.0           5.2          2.0  virginica\n",
       "148           6.2          3.4           5.4          2.3  virginica\n",
       "149           5.9          3.0           5.1          1.8  virginica\n",
       "\n",
       "[150 rows x 5 columns]"
      ]
     },
     "execution_count": 11,
     "metadata": {},
     "output_type": "execute_result"
    }
   ],
   "source": [
    "import pandas as pd\n",
    "import requests \n",
    "import os\n",
    "\n",
    "def download_data():\n",
    "    url = \"https://bit.ly/2HIdnEP\"\n",
    "    r = requests.get(url)\n",
    "    \n",
    "    # the second parameter to the open() function allows to specify file options\n",
    "    # the 'w' option says that we're opening this file for writing\n",
    "    # the b option says that we're writing binary data (rather than a string)\n",
    "    with open('./iris.csv', 'wb') as f:\n",
    "        f.write(r.content)\n",
    "\n",
    "# we only want to download the file if it doesn't already exist\n",
    "if not os.path.exists('./iris.csv'):\n",
    "    download_data()\n",
    "    \n",
    "df = pd.read_csv('./iris.csv')\n",
    "df"
   ]
  },
  {
   "cell_type": "markdown",
   "metadata": {},
   "source": [
    "We mentioned earlier that matplotlib works with numpy arrays. Pandas columns are similar to numpy arrays but not quite the same. You might get away with passing a pandas column directly, but you're better to get into the habit of converting the column to a true numpy array. This will help avoid nasty bugs in the future. A pandas column has a **.values** property which returns the column as a numpy array."
   ]
  },
  {
   "cell_type": "code",
   "execution_count": 12,
   "metadata": {},
   "outputs": [
    {
     "data": {
      "text/plain": [
       "<matplotlib.collections.PathCollection at 0x1f595f9f310>"
      ]
     },
     "execution_count": 12,
     "metadata": {},
     "output_type": "execute_result"
    },
    {
     "data": {
      "image/png": "[encoded data removed]",
      "text/plain": [
       "<Figure size 432x288 with 1 Axes>"
      ]
     },
     "metadata": {
      "needs_background": "light"
     },
     "output_type": "display_data"
    }
   ],
   "source": [
    "plt.scatter(df.sepal_length.values, df.sepal_width.values)"
   ]
  },
  {
   "cell_type": "markdown",
   "metadata": {},
   "source": [
    "This approach lets us create visualisations using raw numpy arrays. However, pandas is tightly integrated with matplotlib and we can make use of the built-in functions on the dataframe to make it a little easier to create plots. Here's another way of writing the same code"
   ]
  },
  {
   "cell_type": "code",
   "execution_count": 13,
   "metadata": {},
   "outputs": [
    {
     "data": {
      "text/plain": [
       "<AxesSubplot:xlabel='sepal_length', ylabel='sepal_width'>"
      ]
     },
     "execution_count": 13,
     "metadata": {},
     "output_type": "execute_result"
    },
    {
     "data": {
      "image/png": "[encoded data removed]",
      "text/plain": [
       "<Figure size 432x288 with 1 Axes>"
      ]
     },
     "metadata": {
      "needs_background": "light"
     },
     "output_type": "display_data"
    }
   ],
   "source": [
    "df.plot.scatter(x='sepal_length', y='sepal_width')"
   ]
  },
  {
   "cell_type": "markdown",
   "metadata": {},
   "source": [
    "## Task 4\n",
    "When we use the pandas version we need to pass x and y as **named parameters**. The **c** parameter allows us to control the colour of our markers. In R we could give ggplot a categorical column and it would automatically pick a colour-palette for us. Unfortunately, with pandas/matplotlib we need to make sure the column we specify contains valid colour values. We can, however, use the techniques we picked up last week to add a column and set the colour based on the value of the species column. "
   ]
  },
  {
   "cell_type": "code",
   "execution_count": null,
   "metadata": {},
   "outputs": [],
   "source": []
  },
  {
   "cell_type": "markdown",
   "metadata": {},
   "source": [
    "## Creating boxplots with the Pandas dataframe\n",
    "\n",
    "Pandas has wrapper functions for pretty much all of the matplotlib plot types. You can check out the full list at the [pandas DataFrame documentation](https://pandas.pydata.org/docs/reference/frame.html) All of these functions are in the **plot** namespace i.e. DataFrame.plot.scatter(), DataFrame.plot.box() *etc.*.\n",
    "\n",
    "By default, the **plot.box()** or **boxplot()** function will plot each numerical column in the dataframe."
   ]
  },
  {
   "cell_type": "code",
   "execution_count": null,
   "metadata": {},
   "outputs": [],
   "source": [
    "df.plot.box()"
   ]
  },
  {
   "cell_type": "markdown",
   "metadata": {},
   "source": [
    "The pandas plotting functions are quick and easy-to-use. They're most useful when you're doing some initial exploration. However, this ease-of-use comes at a cost. Because they simplify the interface, you often don't have the same level of control over the plots, so if you're trying to create stunning visualisations, you're probably better off using matplotlib directly. "
   ]
  },
  {
   "cell_type": "markdown",
   "metadata": {},
   "source": [
    "## Changing styles\n",
    "\n",
    "Try the styles below and see how they look. Check the style sheet reference [here](https://matplotlib.org/stable/gallery/style_sheets/style_sheets_reference.html) and some other different styles."
   ]
  },
  {
   "cell_type": "code",
   "execution_count": 14,
   "metadata": {},
   "outputs": [
    {
     "data": {
      "text/plain": [
       "<AxesSubplot:xlabel='sepal_length', ylabel='sepal_width'>"
      ]
     },
     "execution_count": 14,
     "metadata": {},
     "output_type": "execute_result"
    },
    {
     "data": {
      "image/png": "[encoded data removed]",
      "text/plain": [
       "<Figure size 432x288 with 1 Axes>"
      ]
     },
     "metadata": {},
     "output_type": "display_data"
    }
   ],
   "source": [
    "plt.style.use(\"ggplot\")\n",
    "df.plot.scatter(x='sepal_length', y='sepal_width')"
   ]
  },
  {
   "cell_type": "code",
   "execution_count": 15,
   "metadata": {},
   "outputs": [
    {
     "data": {
      "text/plain": [
       "<AxesSubplot:xlabel='sepal_length', ylabel='sepal_width'>"
      ]
     },
     "execution_count": 15,
     "metadata": {},
     "output_type": "execute_result"
    },
    {
     "data": {
      "image/png": "[encoded data removed]",
      "text/plain": [
       "<Figure size 432x288 with 1 Axes>"
      ]
     },
     "metadata": {},
     "output_type": "display_data"
    }
   ],
   "source": [
    "plt.style.use(\"seaborn-colorblind\")\n",
    "df.plot.scatter(x='sepal_length', y='sepal_width')"
   ]
  },
  {
   "cell_type": "code",
   "execution_count": 16,
   "metadata": {},
   "outputs": [
    {
     "data": {
      "text/plain": [
       "<AxesSubplot:xlabel='sepal_length', ylabel='sepal_width'>"
      ]
     },
     "execution_count": 16,
     "metadata": {},
     "output_type": "execute_result"
    },
    {
     "data": {
      "image/png": "[encoded data removed]",
      "text/plain": [
       "<Figure size 432x288 with 1 Axes>"
      ]
     },
     "metadata": {},
     "output_type": "display_data"
    }
   ],
   "source": [
    "plt.style.use(\"tableau-colorblind10\")\n",
    "df.plot.scatter(x='sepal_length', y='sepal_width')"
   ]
  },
  {
   "cell_type": "code",
   "execution_count": 17,
   "metadata": {},
   "outputs": [
    {
     "data": {
      "text/plain": [
       "<AxesSubplot:xlabel='sepal_length', ylabel='sepal_width'>"
      ]
     },
     "execution_count": 17,
     "metadata": {},
     "output_type": "execute_result"
    },
    {
     "data": {
      "image/png": "[encoded data removed]",
      "text/plain": [
       "<Figure size 432x288 with 1 Axes>"
      ]
     },
     "metadata": {},
     "output_type": "display_data"
    }
   ],
   "source": [
    "plt.style.use(\"grayscale\")\n",
    "df.plot.scatter(x='sepal_length', y='sepal_width')"
   ]
  },
  {
   "cell_type": "code",
   "execution_count": null,
   "metadata": {},
   "outputs": [],
   "source": []
  },
  {
   "cell_type": "markdown",
   "metadata": {},
   "source": [
    "## Saving to external files\n",
    "\n",
    "We can easily save graphs to external files using the `fig.savefig` method. Below you can see some examples how to save a graph in `png`, `jpg` and `svg` (good to edit in other graphic software). You can set the quality using the `quality` parameter (value between 1 and 100). You can also set the `dpi` (dots per inch). The higher the `dpi` the larger the resolution (i.e. you can zoom more on it without blurring the image) but the bigger the file will be. 300 is usually a good `dpi` for scientific papers.\n",
    "\n",
    "Finally to set the size of the figure you can use the `fig.set_size_inches(w, h)` passing the width and heigth. "
   ]
  },
  {
   "cell_type": "code",
   "execution_count": 19,
   "metadata": {},
   "outputs": [
    {
     "name": "stderr",
     "output_type": "stream",
     "text": [
      "C:\\Users\\453526\\AppData\\Local\\Temp/ipykernel_7772/919532192.py:13: UserWarning: FixedFormatter should only be used together with FixedLocator\n",
      "  ax.set_xticklabels(df.index, rotation=\"90\")\n"
     ]
    },
    {
     "ename": "OSError",
     "evalue": "[Errno 22] Invalid argument: 'medals.jpg'",
     "output_type": "error",
     "traceback": [
      "\u001b[1;31m---------------------------------------------------------------------------\u001b[0m",
      "\u001b[1;31mOSError\u001b[0m                                   Traceback (most recent call last)",
      "\u001b[1;32m~\\AppData\\Local\\Temp/ipykernel_7772/919532192.py\u001b[0m in \u001b[0;36m<module>\u001b[1;34m\u001b[0m\n\u001b[0;32m     19\u001b[0m \u001b[1;33m\u001b[0m\u001b[0m\n\u001b[0;32m     20\u001b[0m \u001b[1;31m# Save fig as jpg\u001b[0m\u001b[1;33m\u001b[0m\u001b[1;33m\u001b[0m\u001b[1;33m\u001b[0m\u001b[0m\n\u001b[1;32m---> 21\u001b[1;33m \u001b[0mfig\u001b[0m\u001b[1;33m.\u001b[0m\u001b[0msavefig\u001b[0m\u001b[1;33m(\u001b[0m\u001b[1;34m\"medals.jpg\"\u001b[0m\u001b[1;33m)\u001b[0m\u001b[1;33m\u001b[0m\u001b[1;33m\u001b[0m\u001b[0m\n\u001b[0m\u001b[0;32m     22\u001b[0m \u001b[1;33m\u001b[0m\u001b[0m\n\u001b[0;32m     23\u001b[0m \u001b[1;31m# Save fig as jpg with higher quality\u001b[0m\u001b[1;33m\u001b[0m\u001b[1;33m\u001b[0m\u001b[1;33m\u001b[0m\u001b[0m\n",
      "\u001b[1;32mc:\\program files\\python38\\lib\\site-packages\\matplotlib\\figure.py\u001b[0m in \u001b[0;36msavefig\u001b[1;34m(self, fname, transparent, **kwargs)\u001b[0m\n\u001b[0;32m   3013\u001b[0m                 \u001b[0mpatch\u001b[0m\u001b[1;33m.\u001b[0m\u001b[0mset_edgecolor\u001b[0m\u001b[1;33m(\u001b[0m\u001b[1;34m'none'\u001b[0m\u001b[1;33m)\u001b[0m\u001b[1;33m\u001b[0m\u001b[1;33m\u001b[0m\u001b[0m\n\u001b[0;32m   3014\u001b[0m \u001b[1;33m\u001b[0m\u001b[0m\n\u001b[1;32m-> 3015\u001b[1;33m         \u001b[0mself\u001b[0m\u001b[1;33m.\u001b[0m\u001b[0mcanvas\u001b[0m\u001b[1;33m.\u001b[0m\u001b[0mprint_figure\u001b[0m\u001b[1;33m(\u001b[0m\u001b[0mfname\u001b[0m\u001b[1;33m,\u001b[0m \u001b[1;33m**\u001b[0m\u001b[0mkwargs\u001b[0m\u001b[1;33m)\u001b[0m\u001b[1;33m\u001b[0m\u001b[1;33m\u001b[0m\u001b[0m\n\u001b[0m\u001b[0;32m   3016\u001b[0m \u001b[1;33m\u001b[0m\u001b[0m\n\u001b[0;32m   3017\u001b[0m         \u001b[1;32mif\u001b[0m \u001b[0mtransparent\u001b[0m\u001b[1;33m:\u001b[0m\u001b[1;33m\u001b[0m\u001b[1;33m\u001b[0m\u001b[0m\n",
      "\u001b[1;32mc:\\program files\\python38\\lib\\site-packages\\matplotlib\\backend_bases.py\u001b[0m in \u001b[0;36mprint_figure\u001b[1;34m(self, filename, dpi, facecolor, edgecolor, orientation, format, bbox_inches, pad_inches, bbox_extra_artists, backend, **kwargs)\u001b[0m\n\u001b[0;32m   2253\u001b[0m                 \u001b[1;31m# force the figure dpi to 72), so we need to set it again here.\u001b[0m\u001b[1;33m\u001b[0m\u001b[1;33m\u001b[0m\u001b[1;33m\u001b[0m\u001b[0m\n\u001b[0;32m   2254\u001b[0m                 \u001b[1;32mwith\u001b[0m \u001b[0mcbook\u001b[0m\u001b[1;33m.\u001b[0m\u001b[0m_setattr_cm\u001b[0m\u001b[1;33m(\u001b[0m\u001b[0mself\u001b[0m\u001b[1;33m.\u001b[0m\u001b[0mfigure\u001b[0m\u001b[1;33m,\u001b[0m \u001b[0mdpi\u001b[0m\u001b[1;33m=\u001b[0m\u001b[0mdpi\u001b[0m\u001b[1;33m)\u001b[0m\u001b[1;33m:\u001b[0m\u001b[1;33m\u001b[0m\u001b[1;33m\u001b[0m\u001b[0m\n\u001b[1;32m-> 2255\u001b[1;33m                     result = print_method(\n\u001b[0m\u001b[0;32m   2256\u001b[0m                         \u001b[0mfilename\u001b[0m\u001b[1;33m,\u001b[0m\u001b[1;33m\u001b[0m\u001b[1;33m\u001b[0m\u001b[0m\n\u001b[0;32m   2257\u001b[0m                         \u001b[0mfacecolor\u001b[0m\u001b[1;33m=\u001b[0m\u001b[0mfacecolor\u001b[0m\u001b[1;33m,\u001b[0m\u001b[1;33m\u001b[0m\u001b[1;33m\u001b[0m\u001b[0m\n",
      "\u001b[1;32mc:\\program files\\python38\\lib\\site-packages\\matplotlib\\backend_bases.py\u001b[0m in \u001b[0;36mwrapper\u001b[1;34m(*args, **kwargs)\u001b[0m\n\u001b[0;32m   1667\u001b[0m             \u001b[0mkwargs\u001b[0m\u001b[1;33m.\u001b[0m\u001b[0mpop\u001b[0m\u001b[1;33m(\u001b[0m\u001b[0marg\u001b[0m\u001b[1;33m)\u001b[0m\u001b[1;33m\u001b[0m\u001b[1;33m\u001b[0m\u001b[0m\n\u001b[0;32m   1668\u001b[0m \u001b[1;33m\u001b[0m\u001b[0m\n\u001b[1;32m-> 1669\u001b[1;33m         \u001b[1;32mreturn\u001b[0m \u001b[0mfunc\u001b[0m\u001b[1;33m(\u001b[0m\u001b[1;33m*\u001b[0m\u001b[0margs\u001b[0m\u001b[1;33m,\u001b[0m \u001b[1;33m**\u001b[0m\u001b[0mkwargs\u001b[0m\u001b[1;33m)\u001b[0m\u001b[1;33m\u001b[0m\u001b[1;33m\u001b[0m\u001b[0m\n\u001b[0m\u001b[0;32m   1670\u001b[0m \u001b[1;33m\u001b[0m\u001b[0m\n\u001b[0;32m   1671\u001b[0m     \u001b[1;32mreturn\u001b[0m \u001b[0mwrapper\u001b[0m\u001b[1;33m\u001b[0m\u001b[1;33m\u001b[0m\u001b[0m\n",
      "\u001b[1;32mc:\\program files\\python38\\lib\\site-packages\\matplotlib\\_api\\deprecation.py\u001b[0m in \u001b[0;36mwrapper\u001b[1;34m(*inner_args, **inner_kwargs)\u001b[0m\n\u001b[0;32m    429\u001b[0m                          \u001b[1;32melse\u001b[0m \u001b[0mdeprecation_addendum\u001b[0m\u001b[1;33m,\u001b[0m\u001b[1;33m\u001b[0m\u001b[1;33m\u001b[0m\u001b[0m\n\u001b[0;32m    430\u001b[0m                 **kwargs)\n\u001b[1;32m--> 431\u001b[1;33m         \u001b[1;32mreturn\u001b[0m \u001b[0mfunc\u001b[0m\u001b[1;33m(\u001b[0m\u001b[1;33m*\u001b[0m\u001b[0minner_args\u001b[0m\u001b[1;33m,\u001b[0m \u001b[1;33m**\u001b[0m\u001b[0minner_kwargs\u001b[0m\u001b[1;33m)\u001b[0m\u001b[1;33m\u001b[0m\u001b[1;33m\u001b[0m\u001b[0m\n\u001b[0m\u001b[0;32m    432\u001b[0m \u001b[1;33m\u001b[0m\u001b[0m\n\u001b[0;32m    433\u001b[0m     \u001b[1;32mreturn\u001b[0m \u001b[0mwrapper\u001b[0m\u001b[1;33m\u001b[0m\u001b[1;33m\u001b[0m\u001b[0m\n",
      "\u001b[1;32mc:\\program files\\python38\\lib\\site-packages\\matplotlib\\_api\\deprecation.py\u001b[0m in \u001b[0;36mwrapper\u001b[1;34m(*inner_args, **inner_kwargs)\u001b[0m\n\u001b[0;32m    429\u001b[0m                          \u001b[1;32melse\u001b[0m \u001b[0mdeprecation_addendum\u001b[0m\u001b[1;33m,\u001b[0m\u001b[1;33m\u001b[0m\u001b[1;33m\u001b[0m\u001b[0m\n\u001b[0;32m    430\u001b[0m                 **kwargs)\n\u001b[1;32m--> 431\u001b[1;33m         \u001b[1;32mreturn\u001b[0m \u001b[0mfunc\u001b[0m\u001b[1;33m(\u001b[0m\u001b[1;33m*\u001b[0m\u001b[0minner_args\u001b[0m\u001b[1;33m,\u001b[0m \u001b[1;33m**\u001b[0m\u001b[0minner_kwargs\u001b[0m\u001b[1;33m)\u001b[0m\u001b[1;33m\u001b[0m\u001b[1;33m\u001b[0m\u001b[0m\n\u001b[0m\u001b[0;32m    432\u001b[0m \u001b[1;33m\u001b[0m\u001b[0m\n\u001b[0;32m    433\u001b[0m     \u001b[1;32mreturn\u001b[0m \u001b[0mwrapper\u001b[0m\u001b[1;33m\u001b[0m\u001b[1;33m\u001b[0m\u001b[0m\n",
      "\u001b[1;32mc:\\program files\\python38\\lib\\site-packages\\matplotlib\\_api\\deprecation.py\u001b[0m in \u001b[0;36mwrapper\u001b[1;34m(*inner_args, **inner_kwargs)\u001b[0m\n\u001b[0;32m    429\u001b[0m                          \u001b[1;32melse\u001b[0m \u001b[0mdeprecation_addendum\u001b[0m\u001b[1;33m,\u001b[0m\u001b[1;33m\u001b[0m\u001b[1;33m\u001b[0m\u001b[0m\n\u001b[0;32m    430\u001b[0m                 **kwargs)\n\u001b[1;32m--> 431\u001b[1;33m         \u001b[1;32mreturn\u001b[0m \u001b[0mfunc\u001b[0m\u001b[1;33m(\u001b[0m\u001b[1;33m*\u001b[0m\u001b[0minner_args\u001b[0m\u001b[1;33m,\u001b[0m \u001b[1;33m**\u001b[0m\u001b[0minner_kwargs\u001b[0m\u001b[1;33m)\u001b[0m\u001b[1;33m\u001b[0m\u001b[1;33m\u001b[0m\u001b[0m\n\u001b[0m\u001b[0;32m    432\u001b[0m \u001b[1;33m\u001b[0m\u001b[0m\n\u001b[0;32m    433\u001b[0m     \u001b[1;32mreturn\u001b[0m \u001b[0mwrapper\u001b[0m\u001b[1;33m\u001b[0m\u001b[1;33m\u001b[0m\u001b[0m\n",
      "\u001b[1;32mc:\\program files\\python38\\lib\\site-packages\\matplotlib\\backends\\backend_agg.py\u001b[0m in \u001b[0;36mprint_jpg\u001b[1;34m(self, filename_or_obj, pil_kwargs, *args, **kwargs)\u001b[0m\n\u001b[0;32m    582\u001b[0m         \u001b[0mpil_kwargs\u001b[0m\u001b[1;33m.\u001b[0m\u001b[0msetdefault\u001b[0m\u001b[1;33m(\u001b[0m\u001b[1;34m\"dpi\"\u001b[0m\u001b[1;33m,\u001b[0m \u001b[1;33m(\u001b[0m\u001b[0mself\u001b[0m\u001b[1;33m.\u001b[0m\u001b[0mfigure\u001b[0m\u001b[1;33m.\u001b[0m\u001b[0mdpi\u001b[0m\u001b[1;33m,\u001b[0m \u001b[0mself\u001b[0m\u001b[1;33m.\u001b[0m\u001b[0mfigure\u001b[0m\u001b[1;33m.\u001b[0m\u001b[0mdpi\u001b[0m\u001b[1;33m)\u001b[0m\u001b[1;33m)\u001b[0m\u001b[1;33m\u001b[0m\u001b[1;33m\u001b[0m\u001b[0m\n\u001b[0;32m    583\u001b[0m         \u001b[1;31m# Drop alpha channel now.\u001b[0m\u001b[1;33m\u001b[0m\u001b[1;33m\u001b[0m\u001b[1;33m\u001b[0m\u001b[0m\n\u001b[1;32m--> 584\u001b[1;33m         return (Image.fromarray(np.asarray(self.buffer_rgba())[..., :3])\n\u001b[0m\u001b[0;32m    585\u001b[0m                 .save(filename_or_obj, format='jpeg', **pil_kwargs))\n\u001b[0;32m    586\u001b[0m \u001b[1;33m\u001b[0m\u001b[0m\n",
      "\u001b[1;32mc:\\program files\\python38\\lib\\site-packages\\PIL\\Image.py\u001b[0m in \u001b[0;36msave\u001b[1;34m(self, fp, format, **params)\u001b[0m\n\u001b[0;32m   2230\u001b[0m                 \u001b[0mfp\u001b[0m \u001b[1;33m=\u001b[0m \u001b[0mbuiltins\u001b[0m\u001b[1;33m.\u001b[0m\u001b[0mopen\u001b[0m\u001b[1;33m(\u001b[0m\u001b[0mfilename\u001b[0m\u001b[1;33m,\u001b[0m \u001b[1;34m\"r+b\"\u001b[0m\u001b[1;33m)\u001b[0m\u001b[1;33m\u001b[0m\u001b[1;33m\u001b[0m\u001b[0m\n\u001b[0;32m   2231\u001b[0m             \u001b[1;32melse\u001b[0m\u001b[1;33m:\u001b[0m\u001b[1;33m\u001b[0m\u001b[1;33m\u001b[0m\u001b[0m\n\u001b[1;32m-> 2232\u001b[1;33m                 \u001b[0mfp\u001b[0m \u001b[1;33m=\u001b[0m \u001b[0mbuiltins\u001b[0m\u001b[1;33m.\u001b[0m\u001b[0mopen\u001b[0m\u001b[1;33m(\u001b[0m\u001b[0mfilename\u001b[0m\u001b[1;33m,\u001b[0m \u001b[1;34m\"w+b\"\u001b[0m\u001b[1;33m)\u001b[0m\u001b[1;33m\u001b[0m\u001b[1;33m\u001b[0m\u001b[0m\n\u001b[0m\u001b[0;32m   2233\u001b[0m \u001b[1;33m\u001b[0m\u001b[0m\n\u001b[0;32m   2234\u001b[0m         \u001b[1;32mtry\u001b[0m\u001b[1;33m:\u001b[0m\u001b[1;33m\u001b[0m\u001b[1;33m\u001b[0m\u001b[0m\n",
      "\u001b[1;31mOSError\u001b[0m: [Errno 22] Invalid argument: 'medals.jpg'"
     ]
    },
    {
     "data": {
      "image/png": "[encoded data removed]",
      "text/plain": [
       "<Figure size 432x288 with 1 Axes>"
      ]
     },
     "metadata": {},
     "output_type": "display_data"
    }
   ],
   "source": [
    "medals = {\"Gold\":[137,47,64,50,44,20,23,8,4,17],\n",
    "          \"Silver\":[52,43,55,28,30,55,34,38,4,13],\n",
    "          \"Bronze\":[67,67,26,35,35,21,25,24,61,34]}\n",
    "index = [\"United States\", \"Germany\", \"Great Britain\", \"Russia\", \"China\", \"France\", \"Australia\", \"Italy\", \"Canada\", \"Japan\"]\n",
    "\n",
    "df = pd.DataFrame(medals, index = index)\n",
    "\n",
    "plt.style.use(\"grayscale\")\n",
    "fig, ax = plt.subplots()\n",
    "ax.bar(df.index, df[\"Gold\"], label=\"Gold\")\n",
    "ax.bar(df.index, df[\"Silver\"], bottom=df[\"Gold\"], label=\"Silver\")\n",
    "ax.bar(df.index, df[\"Bronze\"], bottom=df[\"Gold\"] + df[\"Silver\"], label=\"Bronze\")\n",
    "ax.set_xticklabels(df.index, rotation=\"90\")\n",
    "ax.set_ylabel(\"Number of medals\")\n",
    "ax.legend()\n",
    "\n",
    "# Save fig as png\n",
    "fig.savefig(\"medals.png\")\n",
    "\n",
    "# Save fig as jpg\n",
    "fig.savefig(\"medals.jpg\")\n",
    "\n",
    "# Save fig as jpg with higher quality\n",
    "fig.savefig(\"medals_100.jpg\", quality=1)\n",
    "\n",
    "# Save fig as svg\n",
    "fig.savefig(\"medals_100.svg\")\n",
    "\n",
    "# Save fig as jpg with different size\n",
    "fig.set_size_inches(5,10)\n",
    "fig.savefig(\"medals_300dpi.jpg\", dpi=300)"
   ]
  }
 ],
 "metadata": {
  "kernelspec": {
   "display_name": "Python 3 (ipykernel)",
   "language": "python",
   "name": "python3"
  },
  "language_info": {
   "codemirror_mode": {
    "name": "ipython",
    "version": 3
   },
   "file_extension": ".py",
   "mimetype": "text/x-python",
   "name": "python",
   "nbconvert_exporter": "python",
   "pygments_lexer": "ipython3",
   "version": "3.10.6"
  }
 },
 "nbformat": 4,
 "nbformat_minor": 4
}
