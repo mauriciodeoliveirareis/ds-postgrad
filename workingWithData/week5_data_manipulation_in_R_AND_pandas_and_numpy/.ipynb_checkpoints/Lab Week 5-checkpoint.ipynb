{
 "cells": [
  {
   "cell_type": "markdown",
   "metadata": {},
   "source": [
    "# Ted Talks\n",
    "\n",
    "This dataset has been adapted from the Kaggle [Ted Talks Dataset](https://www.kaggle.com/rounakbanik/ted-talks).  A full dataset description is available at the website. You will need to download the files `ted.csv` and `ted_tags.csv` in Brightspace.\n",
    "\n",
    "\n",
    "## Context\n",
    "These datasets contain information about all audio-video recordings of TED Talks uploaded to the official TED.com website until September 21st, 2017. The TED main dataset contains information about all talks including number of views, number of comments, descriptions, speakers and titles. The TED transcripts dataset contains the transcripts for all talks available on TED.com.\n",
    "\n",
    "## Data Description\n",
    "\n",
    "### ted.csv\n",
    "\n",
    "*comments*\n",
    "The number of first level comments made on the talk\n",
    "\n",
    "*description*\n",
    "A blurb of what the talk is about\n",
    "\n",
    "*duration*\n",
    "The duration of the talk in seconds\n",
    "\n",
    "*event*\n",
    "The TED/TEDx event where the talk took place\n",
    "\n",
    "*film_date*\n",
    "The Unix timestamp of the filming\n",
    "\n",
    "*languages*\n",
    "The number of languages in which the talk is available\n",
    "\n",
    "*main_speaker*\n",
    "The first named speaker of the talk\n",
    "\n",
    "*name*\n",
    "The official name of the TED Talk. Includes the title and the speaker.\n",
    "\n",
    "*num_speaker*\n",
    "The number of speakers in the talk\n",
    "\n",
    "*published_date*\n",
    "The Unix timestamp for the publication of the talk on TED.com\n",
    "\n",
    "*speaker_occupation*\n",
    "The occupation of the main speaker\n",
    "\n",
    "*title*\n",
    "The title of the talk\n",
    "\n",
    "*url*\n",
    "The URL of the talk\n",
    "\n",
    "*views*\n",
    "The number of views of the talk\n",
    "\n",
    "### ratings.csv\n",
    "\n",
    "A lookup table for ratings\n",
    "\n",
    "*id*\n",
    "The ID of the rating\n",
    "\n",
    "*rating*\n",
    "Rating description in English\n",
    "\n",
    "### talk_ratings.csv\n",
    "\n",
    "*id*\n",
    "Rating ID (corresponds with the ID in *ratings.csv*\n",
    "\n",
    "*title*\n",
    "Title of the talk\n",
    "\n",
    "*count*\n",
    "The number of times this talk was awarded given this rating\n",
    "\n",
    "### ted_tags.csv\n",
    "\n",
    "*title*\n",
    "Title of the talk\n",
    "\n",
    "*tag*\n",
    "Descriptive tag applied to the talk"
   ]
  },
  {
   "cell_type": "markdown",
   "metadata": {},
   "source": [
    "1. Load the Ted Talks dataset (ted.csv)"
   ]
  },
  {
   "cell_type": "code",
   "execution_count": 4,
   "metadata": {},
   "outputs": [
    {
     "data": {
      "text/html": [
       "<table class=\"dataframe\">\n",
       "<caption>A data.frame: 6 × 15</caption>\n",
       "<thead>\n",
       "\t<tr><th></th><th scope=col>X</th><th scope=col>comments</th><th scope=col>description</th><th scope=col>duration</th><th scope=col>event</th><th scope=col>film_date</th><th scope=col>languages</th><th scope=col>main_speaker</th><th scope=col>name</th><th scope=col>num_speaker</th><th scope=col>published_date</th><th scope=col>speaker_occupation</th><th scope=col>title</th><th scope=col>url</th><th scope=col>views</th></tr>\n",
       "\t<tr><th></th><th scope=col>&lt;int&gt;</th><th scope=col>&lt;int&gt;</th><th scope=col>&lt;chr&gt;</th><th scope=col>&lt;int&gt;</th><th scope=col>&lt;chr&gt;</th><th scope=col>&lt;int&gt;</th><th scope=col>&lt;int&gt;</th><th scope=col>&lt;chr&gt;</th><th scope=col>&lt;chr&gt;</th><th scope=col>&lt;int&gt;</th><th scope=col>&lt;int&gt;</th><th scope=col>&lt;chr&gt;</th><th scope=col>&lt;chr&gt;</th><th scope=col>&lt;chr&gt;</th><th scope=col>&lt;int&gt;</th></tr>\n",
       "</thead>\n",
       "<tbody>\n",
       "\t<tr><th scope=row>1</th><td>1</td><td>4553</td><td>Sir Ken Robinson makes an entertaining and profoundly moving case for creating an education system that nurtures (rather than undermines) creativity.                                                                                    </td><td>1164</td><td>TED2006</td><td>1140825600</td><td>60</td><td>Ken Robinson </td><td>Ken Robinson: Do schools kill creativity?    </td><td>1</td><td>1151367060</td><td>Author/educator                            </td><td>Do schools kill creativity?    </td><td>https://www.ted.com/talks/ken_robinson_says_schools_kill_creativity\n",
       "         </td><td>47227110</td></tr>\n",
       "\t<tr><th scope=row>2</th><td>2</td><td> 265</td><td>With the same humor and humanity he exuded in \"An Inconvenient Truth,\" Al Gore spells out 15 ways that individuals can address climate change immediately, from buying a hybrid to inventing a new, hotter brand name for global warming.</td><td> 977</td><td>TED2006</td><td>1140825600</td><td>43</td><td>Al Gore      </td><td>Al Gore: Averting the climate crisis         </td><td>1</td><td>1151367060</td><td>Climate advocate                           </td><td>Averting the climate crisis    </td><td>https://www.ted.com/talks/al_gore_on_averting_climate_crisis\n",
       "                </td><td> 3200520</td></tr>\n",
       "\t<tr><th scope=row>3</th><td>3</td><td> 124</td><td>New York Times columnist David Pogue takes aim at technology’s worst interface-design offenders, and provides encouraging examples of products that get it right. To funny things up, he bursts into song.                               </td><td>1286</td><td>TED2006</td><td>1140739200</td><td>26</td><td>David Pogue  </td><td>David Pogue: Simplicity sells                </td><td>1</td><td>1151367060</td><td>Technology columnist                       </td><td>Simplicity sells               </td><td>https://www.ted.com/talks/david_pogue_says_simplicity_sells\n",
       "                 </td><td> 1636292</td></tr>\n",
       "\t<tr><th scope=row>4</th><td>4</td><td> 200</td><td>In an emotionally charged talk, MacArthur-winning activist Majora Carter details her fight for environmental justice in the South Bronx -- and shows how minority neighborhoods suffer most from flawed urban policy.                    </td><td>1116</td><td>TED2006</td><td>1140912000</td><td>35</td><td>Majora Carter</td><td>Majora Carter: Greening the ghetto           </td><td>1</td><td>1151367060</td><td>Activist for environmental justice         </td><td>Greening the ghetto            </td><td>https://www.ted.com/talks/majora_carter_s_tale_of_urban_renewal\n",
       "             </td><td> 1697550</td></tr>\n",
       "\t<tr><th scope=row>5</th><td>5</td><td> 593</td><td>You've never seen data presented like this. With the drama and urgency of a sportscaster, statistics guru Hans Rosling debunks myths about the so-called \"developing world.\"                                                             </td><td>1190</td><td>TED2006</td><td>1140566400</td><td>48</td><td>Hans Rosling </td><td>Hans Rosling: The best stats you've ever seen</td><td>1</td><td>1151440680</td><td>Global health expert; data visionary       </td><td>The best stats you've ever seen</td><td>https://www.ted.com/talks/hans_rosling_shows_the_best_stats_you_ve_ever_seen\n",
       "</td><td>12005869</td></tr>\n",
       "\t<tr><th scope=row>6</th><td>6</td><td> 672</td><td>Tony Robbins discusses the \"invisible forces\" that motivate everyone's actions -- and high-fives Al Gore in the front row.                                                                                                               </td><td>1305</td><td>TED2006</td><td>1138838400</td><td>36</td><td>Tony Robbins </td><td>Tony Robbins: Why we do what we do           </td><td>1</td><td>1151440680</td><td>Life coach; expert in leadership psychology</td><td>Why we do what we do           </td><td>https://www.ted.com/talks/tony_robbins_asks_why_we_do_what_we_do\n",
       "            </td><td>20685401</td></tr>\n",
       "</tbody>\n",
       "</table>\n"
      ],
      "text/latex": [
       "A data.frame: 6 × 15\n",
       "\\begin{tabular}{r|lllllllllllllll}\n",
       "  & X & comments & description & duration & event & film\\_date & languages & main\\_speaker & name & num\\_speaker & published\\_date & speaker\\_occupation & title & url & views\\\\\n",
       "  & <int> & <int> & <chr> & <int> & <chr> & <int> & <int> & <chr> & <chr> & <int> & <int> & <chr> & <chr> & <chr> & <int>\\\\\n",
       "\\hline\n",
       "\t1 & 1 & 4553 & Sir Ken Robinson makes an entertaining and profoundly moving case for creating an education system that nurtures (rather than undermines) creativity.                                                                                     & 1164 & TED2006 & 1140825600 & 60 & Ken Robinson  & Ken Robinson: Do schools kill creativity?     & 1 & 1151367060 & Author/educator                             & Do schools kill creativity?     & https://www.ted.com/talks/ken\\_robinson\\_says\\_schools\\_kill\\_creativity\n",
       "          & 47227110\\\\\n",
       "\t2 & 2 &  265 & With the same humor and humanity he exuded in \"An Inconvenient Truth,\" Al Gore spells out 15 ways that individuals can address climate change immediately, from buying a hybrid to inventing a new, hotter brand name for global warming. &  977 & TED2006 & 1140825600 & 43 & Al Gore       & Al Gore: Averting the climate crisis          & 1 & 1151367060 & Climate advocate                            & Averting the climate crisis     & https://www.ted.com/talks/al\\_gore\\_on\\_averting\\_climate\\_crisis\n",
       "                 &  3200520\\\\\n",
       "\t3 & 3 &  124 & New York Times columnist David Pogue takes aim at technology’s worst interface-design offenders, and provides encouraging examples of products that get it right. To funny things up, he bursts into song.                                & 1286 & TED2006 & 1140739200 & 26 & David Pogue   & David Pogue: Simplicity sells                 & 1 & 1151367060 & Technology columnist                        & Simplicity sells                & https://www.ted.com/talks/david\\_pogue\\_says\\_simplicity\\_sells\n",
       "                  &  1636292\\\\\n",
       "\t4 & 4 &  200 & In an emotionally charged talk, MacArthur-winning activist Majora Carter details her fight for environmental justice in the South Bronx -- and shows how minority neighborhoods suffer most from flawed urban policy.                     & 1116 & TED2006 & 1140912000 & 35 & Majora Carter & Majora Carter: Greening the ghetto            & 1 & 1151367060 & Activist for environmental justice          & Greening the ghetto             & https://www.ted.com/talks/majora\\_carter\\_s\\_tale\\_of\\_urban\\_renewal\n",
       "              &  1697550\\\\\n",
       "\t5 & 5 &  593 & You've never seen data presented like this. With the drama and urgency of a sportscaster, statistics guru Hans Rosling debunks myths about the so-called \"developing world.\"                                                              & 1190 & TED2006 & 1140566400 & 48 & Hans Rosling  & Hans Rosling: The best stats you've ever seen & 1 & 1151440680 & Global health expert; data visionary        & The best stats you've ever seen & https://www.ted.com/talks/hans\\_rosling\\_shows\\_the\\_best\\_stats\\_you\\_ve\\_ever\\_seen\n",
       " & 12005869\\\\\n",
       "\t6 & 6 &  672 & Tony Robbins discusses the \"invisible forces\" that motivate everyone's actions -- and high-fives Al Gore in the front row.                                                                                                                & 1305 & TED2006 & 1138838400 & 36 & Tony Robbins  & Tony Robbins: Why we do what we do            & 1 & 1151440680 & Life coach; expert in leadership psychology & Why we do what we do            & https://www.ted.com/talks/tony\\_robbins\\_asks\\_why\\_we\\_do\\_what\\_we\\_do\n",
       "             & 20685401\\\\\n",
       "\\end{tabular}\n"
      ],
      "text/markdown": [
       "\n",
       "A data.frame: 6 × 15\n",
       "\n",
       "| <!--/--> | X &lt;int&gt; | comments &lt;int&gt; | description &lt;chr&gt; | duration &lt;int&gt; | event &lt;chr&gt; | film_date &lt;int&gt; | languages &lt;int&gt; | main_speaker &lt;chr&gt; | name &lt;chr&gt; | num_speaker &lt;int&gt; | published_date &lt;int&gt; | speaker_occupation &lt;chr&gt; | title &lt;chr&gt; | url &lt;chr&gt; | views &lt;int&gt; |\n",
       "|---|---|---|---|---|---|---|---|---|---|---|---|---|---|---|---|\n",
       "| 1 | 1 | 4553 | Sir Ken Robinson makes an entertaining and profoundly moving case for creating an education system that nurtures (rather than undermines) creativity.                                                                                     | 1164 | TED2006 | 1140825600 | 60 | Ken Robinson  | Ken Robinson: Do schools kill creativity?     | 1 | 1151367060 | Author/educator                             | Do schools kill creativity?     | https://www.ted.com/talks/ken_robinson_says_schools_kill_creativity\n",
       "          | 47227110 |\n",
       "| 2 | 2 |  265 | With the same humor and humanity he exuded in \"An Inconvenient Truth,\" Al Gore spells out 15 ways that individuals can address climate change immediately, from buying a hybrid to inventing a new, hotter brand name for global warming. |  977 | TED2006 | 1140825600 | 43 | Al Gore       | Al Gore: Averting the climate crisis          | 1 | 1151367060 | Climate advocate                            | Averting the climate crisis     | https://www.ted.com/talks/al_gore_on_averting_climate_crisis\n",
       "                 |  3200520 |\n",
       "| 3 | 3 |  124 | New York Times columnist David Pogue takes aim at technology’s worst interface-design offenders, and provides encouraging examples of products that get it right. To funny things up, he bursts into song.                                | 1286 | TED2006 | 1140739200 | 26 | David Pogue   | David Pogue: Simplicity sells                 | 1 | 1151367060 | Technology columnist                        | Simplicity sells                | https://www.ted.com/talks/david_pogue_says_simplicity_sells\n",
       "                  |  1636292 |\n",
       "| 4 | 4 |  200 | In an emotionally charged talk, MacArthur-winning activist Majora Carter details her fight for environmental justice in the South Bronx -- and shows how minority neighborhoods suffer most from flawed urban policy.                     | 1116 | TED2006 | 1140912000 | 35 | Majora Carter | Majora Carter: Greening the ghetto            | 1 | 1151367060 | Activist for environmental justice          | Greening the ghetto             | https://www.ted.com/talks/majora_carter_s_tale_of_urban_renewal\n",
       "              |  1697550 |\n",
       "| 5 | 5 |  593 | You've never seen data presented like this. With the drama and urgency of a sportscaster, statistics guru Hans Rosling debunks myths about the so-called \"developing world.\"                                                              | 1190 | TED2006 | 1140566400 | 48 | Hans Rosling  | Hans Rosling: The best stats you've ever seen | 1 | 1151440680 | Global health expert; data visionary        | The best stats you've ever seen | https://www.ted.com/talks/hans_rosling_shows_the_best_stats_you_ve_ever_seen\n",
       " | 12005869 |\n",
       "| 6 | 6 |  672 | Tony Robbins discusses the \"invisible forces\" that motivate everyone's actions -- and high-fives Al Gore in the front row.                                                                                                                | 1305 | TED2006 | 1138838400 | 36 | Tony Robbins  | Tony Robbins: Why we do what we do            | 1 | 1151440680 | Life coach; expert in leadership psychology | Why we do what we do            | https://www.ted.com/talks/tony_robbins_asks_why_we_do_what_we_do\n",
       "             | 20685401 |\n",
       "\n"
      ],
      "text/plain": [
       "  X comments\n",
       "1 1 4553    \n",
       "2 2  265    \n",
       "3 3  124    \n",
       "4 4  200    \n",
       "5 5  593    \n",
       "6 6  672    \n",
       "  description                                                                                                                                                                                                                              \n",
       "1 Sir Ken Robinson makes an entertaining and profoundly moving case for creating an education system that nurtures (rather than undermines) creativity.                                                                                    \n",
       "2 With the same humor and humanity he exuded in \"An Inconvenient Truth,\" Al Gore spells out 15 ways that individuals can address climate change immediately, from buying a hybrid to inventing a new, hotter brand name for global warming.\n",
       "3 New York Times columnist David Pogue takes aim at technology’s worst interface-design offenders, and provides encouraging examples of products that get it right. To funny things up, he bursts into song.                               \n",
       "4 In an emotionally charged talk, MacArthur-winning activist Majora Carter details her fight for environmental justice in the South Bronx -- and shows how minority neighborhoods suffer most from flawed urban policy.                    \n",
       "5 You've never seen data presented like this. With the drama and urgency of a sportscaster, statistics guru Hans Rosling debunks myths about the so-called \"developing world.\"                                                             \n",
       "6 Tony Robbins discusses the \"invisible forces\" that motivate everyone's actions -- and high-fives Al Gore in the front row.                                                                                                               \n",
       "  duration event   film_date  languages main_speaker \n",
       "1 1164     TED2006 1140825600 60        Ken Robinson \n",
       "2  977     TED2006 1140825600 43        Al Gore      \n",
       "3 1286     TED2006 1140739200 26        David Pogue  \n",
       "4 1116     TED2006 1140912000 35        Majora Carter\n",
       "5 1190     TED2006 1140566400 48        Hans Rosling \n",
       "6 1305     TED2006 1138838400 36        Tony Robbins \n",
       "  name                                          num_speaker published_date\n",
       "1 Ken Robinson: Do schools kill creativity?     1           1151367060    \n",
       "2 Al Gore: Averting the climate crisis          1           1151367060    \n",
       "3 David Pogue: Simplicity sells                 1           1151367060    \n",
       "4 Majora Carter: Greening the ghetto            1           1151367060    \n",
       "5 Hans Rosling: The best stats you've ever seen 1           1151440680    \n",
       "6 Tony Robbins: Why we do what we do            1           1151440680    \n",
       "  speaker_occupation                          title                          \n",
       "1 Author/educator                             Do schools kill creativity?    \n",
       "2 Climate advocate                            Averting the climate crisis    \n",
       "3 Technology columnist                        Simplicity sells               \n",
       "4 Activist for environmental justice          Greening the ghetto            \n",
       "5 Global health expert; data visionary        The best stats you've ever seen\n",
       "6 Life coach; expert in leadership psychology Why we do what we do           \n",
       "  url                                                                           \n",
       "1 https://www.ted.com/talks/ken_robinson_says_schools_kill_creativity\\n         \n",
       "2 https://www.ted.com/talks/al_gore_on_averting_climate_crisis\\n                \n",
       "3 https://www.ted.com/talks/david_pogue_says_simplicity_sells\\n                 \n",
       "4 https://www.ted.com/talks/majora_carter_s_tale_of_urban_renewal\\n             \n",
       "5 https://www.ted.com/talks/hans_rosling_shows_the_best_stats_you_ve_ever_seen\\n\n",
       "6 https://www.ted.com/talks/tony_robbins_asks_why_we_do_what_we_do\\n            \n",
       "  views   \n",
       "1 47227110\n",
       "2  3200520\n",
       "3  1636292\n",
       "4  1697550\n",
       "5 12005869\n",
       "6 20685401"
      ]
     },
     "metadata": {},
     "output_type": "display_data"
    }
   ],
   "source": [
    "ted <- read.csv(\"ted.csv\")\n",
    "head(ted)"
   ]
  },
  {
   "cell_type": "markdown",
   "metadata": {},
   "source": [
    "2. How many speakers from each occupation have been appeared on a Ted Talk? What are the top 5 most popular occupations?"
   ]
  },
  {
   "cell_type": "code",
   "execution_count": 12,
   "metadata": {},
   "outputs": [
    {
     "ename": "ERROR",
     "evalue": "\u001b[1m\u001b[33mError\u001b[39m in `summarise()`:\u001b[22m\n\u001b[1m\u001b[22m\u001b[33m!\u001b[39m Problem while computing `speakerPerOccupation = sum(main_speaker)`.\n\u001b[36mℹ\u001b[39m The error occurred in group 1: speaker_occupation = \"\".\n\u001b[1mCaused by error in `sum()`:\u001b[22m\n\u001b[33m!\u001b[39m invalid 'type' (character) of argument\n",
     "output_type": "error",
     "traceback": [
      "\u001b[1m\u001b[33mError\u001b[39m in `summarise()`:\u001b[22m\n\u001b[1m\u001b[22m\u001b[33m!\u001b[39m Problem while computing `speakerPerOccupation = sum(main_speaker)`.\n\u001b[36mℹ\u001b[39m The error occurred in group 1: speaker_occupation = \"\".\n\u001b[1mCaused by error in `sum()`:\u001b[22m\n\u001b[33m!\u001b[39m invalid 'type' (character) of argument\nTraceback:\n",
      "1. ted %>% group_by(speaker_occupation) %>% summarise(speakerPerOccupation = sum(main_speaker), \n .     .groups = \"drop\")",
      "2. summarise(., speakerPerOccupation = sum(main_speaker), .groups = \"drop\")",
      "3. summarise.grouped_df(., speakerPerOccupation = sum(main_speaker), \n .     .groups = \"drop\")",
      "4. summarise_cols(.data, dplyr_quosures(...), caller_env = caller_env())",
      "5. withCallingHandlers({\n .     for (i in seq_along(dots)) {\n .         context_poke(\"column\", old_current_column)\n .         quosures <- expand_across(dots[[i]])\n .         quosures_results <- map(quosures, summarise_eval_one, \n .             mask = mask)\n .         for (k in seq_along(quosures)) {\n .             quo <- quosures[[k]]\n .             quo_data <- attr(quo, \"dplyr:::data\")\n .             quo_result <- quosures_results[[k]]\n .             if (is.null(quo_result)) {\n .                 next\n .             }\n .             types_k <- quo_result$types\n .             chunks_k <- quo_result$chunks\n .             results_k <- quo_result$results\n .             if (!quo_data$is_named && is.data.frame(types_k)) {\n .                 chunks_extracted <- .Call(dplyr_extract_chunks, \n .                   chunks_k, types_k)\n .                 types_k_names <- names(types_k)\n .                 for (j in seq_along(chunks_extracted)) {\n .                   mask$add_one(name = types_k_names[j], chunks = chunks_extracted[[j]], \n .                     result = results_k[[j]])\n .                 }\n .                 chunks <- append(chunks, chunks_extracted)\n .                 types <- append(types, as.list(types_k))\n .                 results <- append(results, results_k)\n .                 out_names <- c(out_names, types_k_names)\n .             }\n .             else {\n .                 name <- quo_data$name_auto\n .                 mask$add_one(name = name, chunks = chunks_k, \n .                   result = results_k)\n .                 chunks <- append(chunks, list(chunks_k))\n .                 types <- append(types, list(types_k))\n .                 results <- append(results, list(results_k))\n .                 out_names <- c(out_names, name)\n .             }\n .         }\n .     }\n .     recycle_info <- .Call(dplyr_summarise_recycle_chunks, chunks, \n .         mask$get_rows(), types, results)\n .     chunks <- recycle_info$chunks\n .     sizes <- recycle_info$sizes\n .     results <- recycle_info$results\n .     for (i in seq_along(chunks)) {\n .         result <- results[[i]] %||% vec_c(!!!chunks[[i]], .ptype = types[[i]])\n .         cols[[out_names[i]]] <- result\n .     }\n . }, error = function(e) {\n .     what <- \"computing\"\n .     index <- i\n .     if (inherits(e, \"dplyr:::summarise_incompatible_size\")) {\n .         index <- e$dplyr_error_data$index\n .         what <- \"recycling\"\n .     }\n .     local_error_context(dots = dots, .index = index, mask = mask)\n .     bullets <- c(cnd_bullet_header(what), summarise_bullets(e))\n .     abort(bullets, call = error_call, parent = skip_internal_condition(e))\n . })",
      "6. map(quosures, summarise_eval_one, mask = mask)",
      "7. lapply(.x, .f, ...)",
      "8. FUN(X[[i]], ...)",
      "9. mask$eval_all_summarise(quo)",
      "10. .handleSimpleError(function (e) \n  . {\n  .     what <- \"computing\"\n  .     index <- i\n  .     if (inherits(e, \"dplyr:::summarise_incompatible_size\")) {\n  .         index <- e$dplyr_error_data$index\n  .         what <- \"recycling\"\n  .     }\n  .     local_error_context(dots = dots, .index = index, mask = mask)\n  .     bullets <- c(cnd_bullet_header(what), summarise_bullets(e))\n  .     abort(bullets, call = error_call, parent = skip_internal_condition(e))\n  . }, \"invalid 'type' (character) of argument\", base::quote(sum(main_speaker)))",
      "11. h(simpleError(msg, call))",
      "12. abort(bullets, call = error_call, parent = skip_internal_condition(e))",
      "13. signal_abort(cnd, .file)"
     ]
    }
   ],
   "source": [
    "library('dplyr')\n",
    "ted %>% group_by(speaker_occupation) %>%\n",
    "        summarise(speakerPerOccupation = n(main_speaker), \n",
    "                              .groups = 'drop')"
   ]
  },
  {
   "cell_type": "markdown",
   "metadata": {},
   "source": [
    "3. Create two subsets of the data into 2 groups, popular (top 25% of views) and niche (< top 25% of views)"
   ]
  },
  {
   "cell_type": "code",
   "execution_count": null,
   "metadata": {},
   "outputs": [],
   "source": []
  },
  {
   "cell_type": "markdown",
   "metadata": {},
   "source": [
    "4. Load the ted tags data (ted_tags.csv)"
   ]
  },
  {
   "cell_type": "code",
   "execution_count": null,
   "metadata": {},
   "outputs": [],
   "source": []
  },
  {
   "cell_type": "markdown",
   "metadata": {},
   "source": [
    "5. Count the number of rows in your main dataset, create a copy of your dataset and join in with the tags. How many rows do you have now? Why?"
   ]
  },
  {
   "cell_type": "code",
   "execution_count": null,
   "metadata": {},
   "outputs": [],
   "source": []
  },
  {
   "cell_type": "markdown",
   "metadata": {},
   "source": [
    "6. Are there any talks which don't have a corresponding entry in ted tags"
   ]
  },
  {
   "cell_type": "code",
   "execution_count": null,
   "metadata": {},
   "outputs": [],
   "source": []
  },
  {
   "cell_type": "markdown",
   "metadata": {},
   "source": [
    "7. Which is the most popular tag"
   ]
  },
  {
   "cell_type": "code",
   "execution_count": null,
   "metadata": {},
   "outputs": [],
   "source": []
  },
  {
   "cell_type": "markdown",
   "metadata": {},
   "source": [
    "8. Calculate each event's percentage contribution to the total number of talks"
   ]
  },
  {
   "cell_type": "code",
   "execution_count": null,
   "metadata": {},
   "outputs": [],
   "source": []
  }
 ],
 "metadata": {
  "kernelspec": {
   "display_name": "R",
   "language": "R",
   "name": "ir"
  },
  "language_info": {
   "codemirror_mode": "r",
   "file_extension": ".r",
   "mimetype": "text/x-r-source",
   "name": "R",
   "pygments_lexer": "r",
   "version": "4.2.1"
  }
 },
 "nbformat": 4,
 "nbformat_minor": 4
}
