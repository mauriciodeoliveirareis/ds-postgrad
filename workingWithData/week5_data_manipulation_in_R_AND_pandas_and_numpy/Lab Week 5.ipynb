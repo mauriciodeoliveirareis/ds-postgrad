{
 "cells": [
  {
   "cell_type": "markdown",
   "metadata": {},
   "source": [
    "# Ted Talks\n",
    "\n",
    "This dataset has been adapted from the Kaggle [Ted Talks Dataset](https://www.kaggle.com/rounakbanik/ted-talks).  A full dataset description is available at the website. You will need to download the files `ted.csv` and `ted_tags.csv` in Brightspace.\n",
    "\n",
    "\n",
    "## Context\n",
    "These datasets contain information about all audio-video recordings of TED Talks uploaded to the official TED.com website until September 21st, 2017. The TED main dataset contains information about all talks including number of views, number of comments, descriptions, speakers and titles. The TED transcripts dataset contains the transcripts for all talks available on TED.com.\n",
    "\n",
    "## Data Description\n",
    "\n",
    "### ted.csv\n",
    "\n",
    "*comments*\n",
    "The number of first level comments made on the talk\n",
    "\n",
    "*description*\n",
    "A blurb of what the talk is about\n",
    "\n",
    "*duration*\n",
    "The duration of the talk in seconds\n",
    "\n",
    "*event*\n",
    "The TED/TEDx event where the talk took place\n",
    "\n",
    "*film_date*\n",
    "The Unix timestamp of the filming\n",
    "\n",
    "*languages*\n",
    "The number of languages in which the talk is available\n",
    "\n",
    "*main_speaker*\n",
    "The first named speaker of the talk\n",
    "\n",
    "*name*\n",
    "The official name of the TED Talk. Includes the title and the speaker.\n",
    "\n",
    "*num_speaker*\n",
    "The number of speakers in the talk\n",
    "\n",
    "*published_date*\n",
    "The Unix timestamp for the publication of the talk on TED.com\n",
    "\n",
    "*speaker_occupation*\n",
    "The occupation of the main speaker\n",
    "\n",
    "*title*\n",
    "The title of the talk\n",
    "\n",
    "*url*\n",
    "The URL of the talk\n",
    "\n",
    "*views*\n",
    "The number of views of the talk\n",
    "\n",
    "### ratings.csv\n",
    "\n",
    "A lookup table for ratings\n",
    "\n",
    "*id*\n",
    "The ID of the rating\n",
    "\n",
    "*rating*\n",
    "Rating description in English\n",
    "\n",
    "### talk_ratings.csv\n",
    "\n",
    "*id*\n",
    "Rating ID (corresponds with the ID in *ratings.csv*\n",
    "\n",
    "*title*\n",
    "Title of the talk\n",
    "\n",
    "*count*\n",
    "The number of times this talk was awarded given this rating\n",
    "\n",
    "### ted_tags.csv\n",
    "\n",
    "*title*\n",
    "Title of the talk\n",
    "\n",
    "*tag*\n",
    "Descriptive tag applied to the talk"
   ]
  },
  {
   "cell_type": "markdown",
   "metadata": {},
   "source": [
    "1. Load the Ted Talks dataset (ted.csv)"
   ]
  },
  {
   "cell_type": "code",
   "execution_count": 4,
   "metadata": {},
   "outputs": [
    {
     "data": {
      "text/html": [
       "<table class=\"dataframe\">\n",
       "<caption>A data.frame: 6 × 15</caption>\n",
       "<thead>\n",
       "\t<tr><th></th><th scope=col>X</th><th scope=col>comments</th><th scope=col>description</th><th scope=col>duration</th><th scope=col>event</th><th scope=col>film_date</th><th scope=col>languages</th><th scope=col>main_speaker</th><th scope=col>name</th><th scope=col>num_speaker</th><th scope=col>published_date</th><th scope=col>speaker_occupation</th><th scope=col>title</th><th scope=col>url</th><th scope=col>views</th></tr>\n",
       "\t<tr><th></th><th scope=col>&lt;int&gt;</th><th scope=col>&lt;int&gt;</th><th scope=col>&lt;chr&gt;</th><th scope=col>&lt;int&gt;</th><th scope=col>&lt;chr&gt;</th><th scope=col>&lt;int&gt;</th><th scope=col>&lt;int&gt;</th><th scope=col>&lt;chr&gt;</th><th scope=col>&lt;chr&gt;</th><th scope=col>&lt;int&gt;</th><th scope=col>&lt;int&gt;</th><th scope=col>&lt;chr&gt;</th><th scope=col>&lt;chr&gt;</th><th scope=col>&lt;chr&gt;</th><th scope=col>&lt;int&gt;</th></tr>\n",
       "</thead>\n",
       "<tbody>\n",
       "\t<tr><th scope=row>1</th><td>1</td><td>4553</td><td>Sir Ken Robinson makes an entertaining and profoundly moving case for creating an education system that nurtures (rather than undermines) creativity.                                                                                    </td><td>1164</td><td>TED2006</td><td>1140825600</td><td>60</td><td>Ken Robinson </td><td>Ken Robinson: Do schools kill creativity?    </td><td>1</td><td>1151367060</td><td>Author/educator                            </td><td>Do schools kill creativity?    </td><td>https://www.ted.com/talks/ken_robinson_says_schools_kill_creativity\n",
       "         </td><td>47227110</td></tr>\n",
       "\t<tr><th scope=row>2</th><td>2</td><td> 265</td><td>With the same humor and humanity he exuded in \"An Inconvenient Truth,\" Al Gore spells out 15 ways that individuals can address climate change immediately, from buying a hybrid to inventing a new, hotter brand name for global warming.</td><td> 977</td><td>TED2006</td><td>1140825600</td><td>43</td><td>Al Gore      </td><td>Al Gore: Averting the climate crisis         </td><td>1</td><td>1151367060</td><td>Climate advocate                           </td><td>Averting the climate crisis    </td><td>https://www.ted.com/talks/al_gore_on_averting_climate_crisis\n",
       "                </td><td> 3200520</td></tr>\n",
       "\t<tr><th scope=row>3</th><td>3</td><td> 124</td><td>New York Times columnist David Pogue takes aim at technology’s worst interface-design offenders, and provides encouraging examples of products that get it right. To funny things up, he bursts into song.                               </td><td>1286</td><td>TED2006</td><td>1140739200</td><td>26</td><td>David Pogue  </td><td>David Pogue: Simplicity sells                </td><td>1</td><td>1151367060</td><td>Technology columnist                       </td><td>Simplicity sells               </td><td>https://www.ted.com/talks/david_pogue_says_simplicity_sells\n",
       "                 </td><td> 1636292</td></tr>\n",
       "\t<tr><th scope=row>4</th><td>4</td><td> 200</td><td>In an emotionally charged talk, MacArthur-winning activist Majora Carter details her fight for environmental justice in the South Bronx -- and shows how minority neighborhoods suffer most from flawed urban policy.                    </td><td>1116</td><td>TED2006</td><td>1140912000</td><td>35</td><td>Majora Carter</td><td>Majora Carter: Greening the ghetto           </td><td>1</td><td>1151367060</td><td>Activist for environmental justice         </td><td>Greening the ghetto            </td><td>https://www.ted.com/talks/majora_carter_s_tale_of_urban_renewal\n",
       "             </td><td> 1697550</td></tr>\n",
       "\t<tr><th scope=row>5</th><td>5</td><td> 593</td><td>You've never seen data presented like this. With the drama and urgency of a sportscaster, statistics guru Hans Rosling debunks myths about the so-called \"developing world.\"                                                             </td><td>1190</td><td>TED2006</td><td>1140566400</td><td>48</td><td>Hans Rosling </td><td>Hans Rosling: The best stats you've ever seen</td><td>1</td><td>1151440680</td><td>Global health expert; data visionary       </td><td>The best stats you've ever seen</td><td>https://www.ted.com/talks/hans_rosling_shows_the_best_stats_you_ve_ever_seen\n",
       "</td><td>12005869</td></tr>\n",
       "\t<tr><th scope=row>6</th><td>6</td><td> 672</td><td>Tony Robbins discusses the \"invisible forces\" that motivate everyone's actions -- and high-fives Al Gore in the front row.                                                                                                               </td><td>1305</td><td>TED2006</td><td>1138838400</td><td>36</td><td>Tony Robbins </td><td>Tony Robbins: Why we do what we do           </td><td>1</td><td>1151440680</td><td>Life coach; expert in leadership psychology</td><td>Why we do what we do           </td><td>https://www.ted.com/talks/tony_robbins_asks_why_we_do_what_we_do\n",
       "            </td><td>20685401</td></tr>\n",
       "</tbody>\n",
       "</table>\n"
      ],
      "text/latex": [
       "A data.frame: 6 × 15\n",
       "\\begin{tabular}{r|lllllllllllllll}\n",
       "  & X & comments & description & duration & event & film\\_date & languages & main\\_speaker & name & num\\_speaker & published\\_date & speaker\\_occupation & title & url & views\\\\\n",
       "  & <int> & <int> & <chr> & <int> & <chr> & <int> & <int> & <chr> & <chr> & <int> & <int> & <chr> & <chr> & <chr> & <int>\\\\\n",
       "\\hline\n",
       "\t1 & 1 & 4553 & Sir Ken Robinson makes an entertaining and profoundly moving case for creating an education system that nurtures (rather than undermines) creativity.                                                                                     & 1164 & TED2006 & 1140825600 & 60 & Ken Robinson  & Ken Robinson: Do schools kill creativity?     & 1 & 1151367060 & Author/educator                             & Do schools kill creativity?     & https://www.ted.com/talks/ken\\_robinson\\_says\\_schools\\_kill\\_creativity\n",
       "          & 47227110\\\\\n",
       "\t2 & 2 &  265 & With the same humor and humanity he exuded in \"An Inconvenient Truth,\" Al Gore spells out 15 ways that individuals can address climate change immediately, from buying a hybrid to inventing a new, hotter brand name for global warming. &  977 & TED2006 & 1140825600 & 43 & Al Gore       & Al Gore: Averting the climate crisis          & 1 & 1151367060 & Climate advocate                            & Averting the climate crisis     & https://www.ted.com/talks/al\\_gore\\_on\\_averting\\_climate\\_crisis\n",
       "                 &  3200520\\\\\n",
       "\t3 & 3 &  124 & New York Times columnist David Pogue takes aim at technology’s worst interface-design offenders, and provides encouraging examples of products that get it right. To funny things up, he bursts into song.                                & 1286 & TED2006 & 1140739200 & 26 & David Pogue   & David Pogue: Simplicity sells                 & 1 & 1151367060 & Technology columnist                        & Simplicity sells                & https://www.ted.com/talks/david\\_pogue\\_says\\_simplicity\\_sells\n",
       "                  &  1636292\\\\\n",
       "\t4 & 4 &  200 & In an emotionally charged talk, MacArthur-winning activist Majora Carter details her fight for environmental justice in the South Bronx -- and shows how minority neighborhoods suffer most from flawed urban policy.                     & 1116 & TED2006 & 1140912000 & 35 & Majora Carter & Majora Carter: Greening the ghetto            & 1 & 1151367060 & Activist for environmental justice          & Greening the ghetto             & https://www.ted.com/talks/majora\\_carter\\_s\\_tale\\_of\\_urban\\_renewal\n",
       "              &  1697550\\\\\n",
       "\t5 & 5 &  593 & You've never seen data presented like this. With the drama and urgency of a sportscaster, statistics guru Hans Rosling debunks myths about the so-called \"developing world.\"                                                              & 1190 & TED2006 & 1140566400 & 48 & Hans Rosling  & Hans Rosling: The best stats you've ever seen & 1 & 1151440680 & Global health expert; data visionary        & The best stats you've ever seen & https://www.ted.com/talks/hans\\_rosling\\_shows\\_the\\_best\\_stats\\_you\\_ve\\_ever\\_seen\n",
       " & 12005869\\\\\n",
       "\t6 & 6 &  672 & Tony Robbins discusses the \"invisible forces\" that motivate everyone's actions -- and high-fives Al Gore in the front row.                                                                                                                & 1305 & TED2006 & 1138838400 & 36 & Tony Robbins  & Tony Robbins: Why we do what we do            & 1 & 1151440680 & Life coach; expert in leadership psychology & Why we do what we do            & https://www.ted.com/talks/tony\\_robbins\\_asks\\_why\\_we\\_do\\_what\\_we\\_do\n",
       "             & 20685401\\\\\n",
       "\\end{tabular}\n"
      ],
      "text/markdown": [
       "\n",
       "A data.frame: 6 × 15\n",
       "\n",
       "| <!--/--> | X &lt;int&gt; | comments &lt;int&gt; | description &lt;chr&gt; | duration &lt;int&gt; | event &lt;chr&gt; | film_date &lt;int&gt; | languages &lt;int&gt; | main_speaker &lt;chr&gt; | name &lt;chr&gt; | num_speaker &lt;int&gt; | published_date &lt;int&gt; | speaker_occupation &lt;chr&gt; | title &lt;chr&gt; | url &lt;chr&gt; | views &lt;int&gt; |\n",
       "|---|---|---|---|---|---|---|---|---|---|---|---|---|---|---|---|\n",
       "| 1 | 1 | 4553 | Sir Ken Robinson makes an entertaining and profoundly moving case for creating an education system that nurtures (rather than undermines) creativity.                                                                                     | 1164 | TED2006 | 1140825600 | 60 | Ken Robinson  | Ken Robinson: Do schools kill creativity?     | 1 | 1151367060 | Author/educator                             | Do schools kill creativity?     | https://www.ted.com/talks/ken_robinson_says_schools_kill_creativity\n",
       "          | 47227110 |\n",
       "| 2 | 2 |  265 | With the same humor and humanity he exuded in \"An Inconvenient Truth,\" Al Gore spells out 15 ways that individuals can address climate change immediately, from buying a hybrid to inventing a new, hotter brand name for global warming. |  977 | TED2006 | 1140825600 | 43 | Al Gore       | Al Gore: Averting the climate crisis          | 1 | 1151367060 | Climate advocate                            | Averting the climate crisis     | https://www.ted.com/talks/al_gore_on_averting_climate_crisis\n",
       "                 |  3200520 |\n",
       "| 3 | 3 |  124 | New York Times columnist David Pogue takes aim at technology’s worst interface-design offenders, and provides encouraging examples of products that get it right. To funny things up, he bursts into song.                                | 1286 | TED2006 | 1140739200 | 26 | David Pogue   | David Pogue: Simplicity sells                 | 1 | 1151367060 | Technology columnist                        | Simplicity sells                | https://www.ted.com/talks/david_pogue_says_simplicity_sells\n",
       "                  |  1636292 |\n",
       "| 4 | 4 |  200 | In an emotionally charged talk, MacArthur-winning activist Majora Carter details her fight for environmental justice in the South Bronx -- and shows how minority neighborhoods suffer most from flawed urban policy.                     | 1116 | TED2006 | 1140912000 | 35 | Majora Carter | Majora Carter: Greening the ghetto            | 1 | 1151367060 | Activist for environmental justice          | Greening the ghetto             | https://www.ted.com/talks/majora_carter_s_tale_of_urban_renewal\n",
       "              |  1697550 |\n",
       "| 5 | 5 |  593 | You've never seen data presented like this. With the drama and urgency of a sportscaster, statistics guru Hans Rosling debunks myths about the so-called \"developing world.\"                                                              | 1190 | TED2006 | 1140566400 | 48 | Hans Rosling  | Hans Rosling: The best stats you've ever seen | 1 | 1151440680 | Global health expert; data visionary        | The best stats you've ever seen | https://www.ted.com/talks/hans_rosling_shows_the_best_stats_you_ve_ever_seen\n",
       " | 12005869 |\n",
       "| 6 | 6 |  672 | Tony Robbins discusses the \"invisible forces\" that motivate everyone's actions -- and high-fives Al Gore in the front row.                                                                                                                | 1305 | TED2006 | 1138838400 | 36 | Tony Robbins  | Tony Robbins: Why we do what we do            | 1 | 1151440680 | Life coach; expert in leadership psychology | Why we do what we do            | https://www.ted.com/talks/tony_robbins_asks_why_we_do_what_we_do\n",
       "             | 20685401 |\n",
       "\n"
      ],
      "text/plain": [
       "  X comments\n",
       "1 1 4553    \n",
       "2 2  265    \n",
       "3 3  124    \n",
       "4 4  200    \n",
       "5 5  593    \n",
       "6 6  672    \n",
       "  description                                                                                                                                                                                                                              \n",
       "1 Sir Ken Robinson makes an entertaining and profoundly moving case for creating an education system that nurtures (rather than undermines) creativity.                                                                                    \n",
       "2 With the same humor and humanity he exuded in \"An Inconvenient Truth,\" Al Gore spells out 15 ways that individuals can address climate change immediately, from buying a hybrid to inventing a new, hotter brand name for global warming.\n",
       "3 New York Times columnist David Pogue takes aim at technology’s worst interface-design offenders, and provides encouraging examples of products that get it right. To funny things up, he bursts into song.                               \n",
       "4 In an emotionally charged talk, MacArthur-winning activist Majora Carter details her fight for environmental justice in the South Bronx -- and shows how minority neighborhoods suffer most from flawed urban policy.                    \n",
       "5 You've never seen data presented like this. With the drama and urgency of a sportscaster, statistics guru Hans Rosling debunks myths about the so-called \"developing world.\"                                                             \n",
       "6 Tony Robbins discusses the \"invisible forces\" that motivate everyone's actions -- and high-fives Al Gore in the front row.                                                                                                               \n",
       "  duration event   film_date  languages main_speaker \n",
       "1 1164     TED2006 1140825600 60        Ken Robinson \n",
       "2  977     TED2006 1140825600 43        Al Gore      \n",
       "3 1286     TED2006 1140739200 26        David Pogue  \n",
       "4 1116     TED2006 1140912000 35        Majora Carter\n",
       "5 1190     TED2006 1140566400 48        Hans Rosling \n",
       "6 1305     TED2006 1138838400 36        Tony Robbins \n",
       "  name                                          num_speaker published_date\n",
       "1 Ken Robinson: Do schools kill creativity?     1           1151367060    \n",
       "2 Al Gore: Averting the climate crisis          1           1151367060    \n",
       "3 David Pogue: Simplicity sells                 1           1151367060    \n",
       "4 Majora Carter: Greening the ghetto            1           1151367060    \n",
       "5 Hans Rosling: The best stats you've ever seen 1           1151440680    \n",
       "6 Tony Robbins: Why we do what we do            1           1151440680    \n",
       "  speaker_occupation                          title                          \n",
       "1 Author/educator                             Do schools kill creativity?    \n",
       "2 Climate advocate                            Averting the climate crisis    \n",
       "3 Technology columnist                        Simplicity sells               \n",
       "4 Activist for environmental justice          Greening the ghetto            \n",
       "5 Global health expert; data visionary        The best stats you've ever seen\n",
       "6 Life coach; expert in leadership psychology Why we do what we do           \n",
       "  url                                                                           \n",
       "1 https://www.ted.com/talks/ken_robinson_says_schools_kill_creativity\\n         \n",
       "2 https://www.ted.com/talks/al_gore_on_averting_climate_crisis\\n                \n",
       "3 https://www.ted.com/talks/david_pogue_says_simplicity_sells\\n                 \n",
       "4 https://www.ted.com/talks/majora_carter_s_tale_of_urban_renewal\\n             \n",
       "5 https://www.ted.com/talks/hans_rosling_shows_the_best_stats_you_ve_ever_seen\\n\n",
       "6 https://www.ted.com/talks/tony_robbins_asks_why_we_do_what_we_do\\n            \n",
       "  views   \n",
       "1 47227110\n",
       "2  3200520\n",
       "3  1636292\n",
       "4  1697550\n",
       "5 12005869\n",
       "6 20685401"
      ]
     },
     "metadata": {},
     "output_type": "display_data"
    }
   ],
   "source": [
    "ted <- read.csv(\"ted.csv\")\n",
    "head(ted)"
   ]
  },
  {
   "cell_type": "markdown",
   "metadata": {},
   "source": [
    "2. How many speakers from each occupation have been appeared on a Ted Talk? What are the top 5 most popular occupations?"
   ]
  },
  {
   "cell_type": "code",
   "execution_count": 21,
   "metadata": {},
   "outputs": [
    {
     "name": "stderr",
     "output_type": "stream",
     "text": [
      "\u001b[1m\u001b[22mSelecting by n\n"
     ]
    },
    {
     "data": {
      "text/html": [
       "<table class=\"dataframe\">\n",
       "<caption>A tibble: 5 × 2</caption>\n",
       "<thead>\n",
       "\t<tr><th scope=col>speaker_occupation</th><th scope=col>n</th></tr>\n",
       "\t<tr><th scope=col>&lt;chr&gt;</th><th scope=col>&lt;int&gt;</th></tr>\n",
       "</thead>\n",
       "<tbody>\n",
       "\t<tr><td>Writer      </td><td>45</td></tr>\n",
       "\t<tr><td>Artist      </td><td>34</td></tr>\n",
       "\t<tr><td>Designer    </td><td>34</td></tr>\n",
       "\t<tr><td>Journalist  </td><td>33</td></tr>\n",
       "\t<tr><td>Entrepreneur</td><td>31</td></tr>\n",
       "</tbody>\n",
       "</table>\n"
      ],
      "text/latex": [
       "A tibble: 5 × 2\n",
       "\\begin{tabular}{ll}\n",
       " speaker\\_occupation & n\\\\\n",
       " <chr> & <int>\\\\\n",
       "\\hline\n",
       "\t Writer       & 45\\\\\n",
       "\t Artist       & 34\\\\\n",
       "\t Designer     & 34\\\\\n",
       "\t Journalist   & 33\\\\\n",
       "\t Entrepreneur & 31\\\\\n",
       "\\end{tabular}\n"
      ],
      "text/markdown": [
       "\n",
       "A tibble: 5 × 2\n",
       "\n",
       "| speaker_occupation &lt;chr&gt; | n &lt;int&gt; |\n",
       "|---|---|\n",
       "| Writer       | 45 |\n",
       "| Artist       | 34 |\n",
       "| Designer     | 34 |\n",
       "| Journalist   | 33 |\n",
       "| Entrepreneur | 31 |\n",
       "\n"
      ],
      "text/plain": [
       "  speaker_occupation n \n",
       "1 Writer             45\n",
       "2 Artist             34\n",
       "3 Designer           34\n",
       "4 Journalist         33\n",
       "5 Entrepreneur       31"
      ]
     },
     "metadata": {},
     "output_type": "display_data"
    }
   ],
   "source": [
    "library('dplyr')\n",
    "ted %>% group_by(speaker_occupation) %>%\n",
    "        summarise(n = n(), \n",
    "                              .groups = 'drop') %>%\n",
    "        arrange(desc(n)) %>% top_n(5)"
   ]
  },
  {
   "cell_type": "markdown",
   "metadata": {},
   "source": [
    "3. Create two subsets of the data into 2 groups, popular (top 25% of views) and niche (< top 25% of views)"
   ]
  },
  {
   "cell_type": "code",
   "execution_count": 42,
   "metadata": {},
   "outputs": [],
   "source": [
    "# totalViews <- summarise()\n",
    "totalViews <- (ted %>% summarise(totalViews = sum(views)))$totalViews\n",
    "ted <- mutate(ted, percentViews = (views *100) / totalViews)\n",
    "getSubsetBasedOnPercentViews <- function(data, top = TRUE, percent = 25) {\n",
    "    arrangedData <- NULL\n",
    "    if(top)\n",
    "        arrangedData <- data %>% arrange(desc(percentViews))\n",
    "    else \n",
    "        arrangedData <- data %>% arrange(percentViews)\n",
    "    \n",
    "    totalPercent <- 0\n",
    "    howManyRows <- 0\n",
    "    for(i in 1:nrow(arrangedData)) {\n",
    "        row <- arrangedData[i,]\n",
    "        totalPercent <- totalPercent + row$percentViews\n",
    "        howManyRows <- i\n",
    "        if(totalPercent >= percent) break\n",
    "        # do stuff with row\n",
    "    }\n",
    "    subset <- arrangedData[1:howManyRows,]\n",
    "    return (subset)\n",
    "}\n",
    "top25Percent <- getSubsetBasedOnPercentViews(ted, top = TRUE)\n",
    "botton25Percent <- getSubsetBasedOnPercentViews(ted, top = FALSE)\n",
    "\n",
    "# poppularTed <- "
   ]
  },
  {
   "cell_type": "markdown",
   "metadata": {},
   "source": [
    "4. Load the ted tags data (ted_tags.csv)"
   ]
  },
  {
   "cell_type": "code",
   "execution_count": 50,
   "metadata": {},
   "outputs": [
    {
     "data": {
      "text/html": [
       "<table class=\"dataframe\">\n",
       "<caption>A data.frame: 6 × 3</caption>\n",
       "<thead>\n",
       "\t<tr><th></th><th scope=col>X</th><th scope=col>title</th><th scope=col>tags</th></tr>\n",
       "\t<tr><th></th><th scope=col>&lt;int&gt;</th><th scope=col>&lt;chr&gt;</th><th scope=col>&lt;chr&gt;</th></tr>\n",
       "</thead>\n",
       "<tbody>\n",
       "\t<tr><th scope=row>1</th><td>1</td><td>Do schools kill creativity?</td><td>children  </td></tr>\n",
       "\t<tr><th scope=row>2</th><td>2</td><td>Do schools kill creativity?</td><td>creativity</td></tr>\n",
       "\t<tr><th scope=row>3</th><td>3</td><td>Do schools kill creativity?</td><td>culture   </td></tr>\n",
       "\t<tr><th scope=row>4</th><td>4</td><td>Do schools kill creativity?</td><td>dance     </td></tr>\n",
       "\t<tr><th scope=row>5</th><td>5</td><td>Do schools kill creativity?</td><td>education </td></tr>\n",
       "\t<tr><th scope=row>6</th><td>6</td><td>Do schools kill creativity?</td><td>parenting </td></tr>\n",
       "</tbody>\n",
       "</table>\n"
      ],
      "text/latex": [
       "A data.frame: 6 × 3\n",
       "\\begin{tabular}{r|lll}\n",
       "  & X & title & tags\\\\\n",
       "  & <int> & <chr> & <chr>\\\\\n",
       "\\hline\n",
       "\t1 & 1 & Do schools kill creativity? & children  \\\\\n",
       "\t2 & 2 & Do schools kill creativity? & creativity\\\\\n",
       "\t3 & 3 & Do schools kill creativity? & culture   \\\\\n",
       "\t4 & 4 & Do schools kill creativity? & dance     \\\\\n",
       "\t5 & 5 & Do schools kill creativity? & education \\\\\n",
       "\t6 & 6 & Do schools kill creativity? & parenting \\\\\n",
       "\\end{tabular}\n"
      ],
      "text/markdown": [
       "\n",
       "A data.frame: 6 × 3\n",
       "\n",
       "| <!--/--> | X &lt;int&gt; | title &lt;chr&gt; | tags &lt;chr&gt; |\n",
       "|---|---|---|---|\n",
       "| 1 | 1 | Do schools kill creativity? | children   |\n",
       "| 2 | 2 | Do schools kill creativity? | creativity |\n",
       "| 3 | 3 | Do schools kill creativity? | culture    |\n",
       "| 4 | 4 | Do schools kill creativity? | dance      |\n",
       "| 5 | 5 | Do schools kill creativity? | education  |\n",
       "| 6 | 6 | Do schools kill creativity? | parenting  |\n",
       "\n"
      ],
      "text/plain": [
       "  X title                       tags      \n",
       "1 1 Do schools kill creativity? children  \n",
       "2 2 Do schools kill creativity? creativity\n",
       "3 3 Do schools kill creativity? culture   \n",
       "4 4 Do schools kill creativity? dance     \n",
       "5 5 Do schools kill creativity? education \n",
       "6 6 Do schools kill creativity? parenting "
      ]
     },
     "metadata": {},
     "output_type": "display_data"
    }
   ],
   "source": [
    "tedTags <- read.csv(\"ted_tags.csv\")\n",
    "head(tedTags)"
   ]
  },
  {
   "cell_type": "markdown",
   "metadata": {},
   "source": [
    "5. Count the number of rows in your main dataset, create a copy of your dataset and join in with the tags. How many rows do you have now? Why?"
   ]
  },
  {
   "cell_type": "code",
   "execution_count": 56,
   "metadata": {},
   "outputs": [
    {
     "data": {
      "text/html": [
       "19154"
      ],
      "text/latex": [
       "19154"
      ],
      "text/markdown": [
       "19154"
      ],
      "text/plain": [
       "[1] 19154"
      ]
     },
     "metadata": {},
     "output_type": "display_data"
    },
    {
     "data": {
      "text/html": [
       "2550"
      ],
      "text/latex": [
       "2550"
      ],
      "text/markdown": [
       "2550"
      ],
      "text/plain": [
       "[1] 2550"
      ]
     },
     "metadata": {},
     "output_type": "display_data"
    },
    {
     "data": {
      "text/html": [
       "<table class=\"dataframe\">\n",
       "<caption>A data.frame: 6 × 18</caption>\n",
       "<thead>\n",
       "\t<tr><th></th><th scope=col>X.x</th><th scope=col>comments</th><th scope=col>description</th><th scope=col>duration</th><th scope=col>event</th><th scope=col>film_date</th><th scope=col>languages</th><th scope=col>main_speaker</th><th scope=col>name</th><th scope=col>num_speaker</th><th scope=col>published_date</th><th scope=col>speaker_occupation</th><th scope=col>title</th><th scope=col>url</th><th scope=col>views</th><th scope=col>percentViews</th><th scope=col>X.y</th><th scope=col>tags</th></tr>\n",
       "\t<tr><th></th><th scope=col>&lt;int&gt;</th><th scope=col>&lt;int&gt;</th><th scope=col>&lt;chr&gt;</th><th scope=col>&lt;int&gt;</th><th scope=col>&lt;chr&gt;</th><th scope=col>&lt;int&gt;</th><th scope=col>&lt;int&gt;</th><th scope=col>&lt;chr&gt;</th><th scope=col>&lt;chr&gt;</th><th scope=col>&lt;int&gt;</th><th scope=col>&lt;int&gt;</th><th scope=col>&lt;chr&gt;</th><th scope=col>&lt;chr&gt;</th><th scope=col>&lt;chr&gt;</th><th scope=col>&lt;int&gt;</th><th scope=col>&lt;dbl&gt;</th><th scope=col>&lt;int&gt;</th><th scope=col>&lt;chr&gt;</th></tr>\n",
       "</thead>\n",
       "<tbody>\n",
       "\t<tr><th scope=row>1</th><td>1</td><td>4553</td><td>Sir Ken Robinson makes an entertaining and profoundly moving case for creating an education system that nurtures (rather than undermines) creativity.</td><td>1164</td><td>TED2006</td><td>1140825600</td><td>60</td><td>Ken Robinson</td><td>Ken Robinson: Do schools kill creativity?</td><td>1</td><td>1151367060</td><td>Author/educator</td><td>Do schools kill creativity?</td><td>https://www.ted.com/talks/ken_robinson_says_schools_kill_creativity\n",
       "</td><td>47227110</td><td>1.09053</td><td>1</td><td>children  </td></tr>\n",
       "\t<tr><th scope=row>2</th><td>1</td><td>4553</td><td>Sir Ken Robinson makes an entertaining and profoundly moving case for creating an education system that nurtures (rather than undermines) creativity.</td><td>1164</td><td>TED2006</td><td>1140825600</td><td>60</td><td>Ken Robinson</td><td>Ken Robinson: Do schools kill creativity?</td><td>1</td><td>1151367060</td><td>Author/educator</td><td>Do schools kill creativity?</td><td>https://www.ted.com/talks/ken_robinson_says_schools_kill_creativity\n",
       "</td><td>47227110</td><td>1.09053</td><td>2</td><td>creativity</td></tr>\n",
       "\t<tr><th scope=row>3</th><td>1</td><td>4553</td><td>Sir Ken Robinson makes an entertaining and profoundly moving case for creating an education system that nurtures (rather than undermines) creativity.</td><td>1164</td><td>TED2006</td><td>1140825600</td><td>60</td><td>Ken Robinson</td><td>Ken Robinson: Do schools kill creativity?</td><td>1</td><td>1151367060</td><td>Author/educator</td><td>Do schools kill creativity?</td><td>https://www.ted.com/talks/ken_robinson_says_schools_kill_creativity\n",
       "</td><td>47227110</td><td>1.09053</td><td>3</td><td>culture   </td></tr>\n",
       "\t<tr><th scope=row>4</th><td>1</td><td>4553</td><td>Sir Ken Robinson makes an entertaining and profoundly moving case for creating an education system that nurtures (rather than undermines) creativity.</td><td>1164</td><td>TED2006</td><td>1140825600</td><td>60</td><td>Ken Robinson</td><td>Ken Robinson: Do schools kill creativity?</td><td>1</td><td>1151367060</td><td>Author/educator</td><td>Do schools kill creativity?</td><td>https://www.ted.com/talks/ken_robinson_says_schools_kill_creativity\n",
       "</td><td>47227110</td><td>1.09053</td><td>4</td><td>dance     </td></tr>\n",
       "\t<tr><th scope=row>5</th><td>1</td><td>4553</td><td>Sir Ken Robinson makes an entertaining and profoundly moving case for creating an education system that nurtures (rather than undermines) creativity.</td><td>1164</td><td>TED2006</td><td>1140825600</td><td>60</td><td>Ken Robinson</td><td>Ken Robinson: Do schools kill creativity?</td><td>1</td><td>1151367060</td><td>Author/educator</td><td>Do schools kill creativity?</td><td>https://www.ted.com/talks/ken_robinson_says_schools_kill_creativity\n",
       "</td><td>47227110</td><td>1.09053</td><td>5</td><td>education </td></tr>\n",
       "\t<tr><th scope=row>6</th><td>1</td><td>4553</td><td>Sir Ken Robinson makes an entertaining and profoundly moving case for creating an education system that nurtures (rather than undermines) creativity.</td><td>1164</td><td>TED2006</td><td>1140825600</td><td>60</td><td>Ken Robinson</td><td>Ken Robinson: Do schools kill creativity?</td><td>1</td><td>1151367060</td><td>Author/educator</td><td>Do schools kill creativity?</td><td>https://www.ted.com/talks/ken_robinson_says_schools_kill_creativity\n",
       "</td><td>47227110</td><td>1.09053</td><td>6</td><td>parenting </td></tr>\n",
       "</tbody>\n",
       "</table>\n"
      ],
      "text/latex": [
       "A data.frame: 6 × 18\n",
       "\\begin{tabular}{r|llllllllllllllllll}\n",
       "  & X.x & comments & description & duration & event & film\\_date & languages & main\\_speaker & name & num\\_speaker & published\\_date & speaker\\_occupation & title & url & views & percentViews & X.y & tags\\\\\n",
       "  & <int> & <int> & <chr> & <int> & <chr> & <int> & <int> & <chr> & <chr> & <int> & <int> & <chr> & <chr> & <chr> & <int> & <dbl> & <int> & <chr>\\\\\n",
       "\\hline\n",
       "\t1 & 1 & 4553 & Sir Ken Robinson makes an entertaining and profoundly moving case for creating an education system that nurtures (rather than undermines) creativity. & 1164 & TED2006 & 1140825600 & 60 & Ken Robinson & Ken Robinson: Do schools kill creativity? & 1 & 1151367060 & Author/educator & Do schools kill creativity? & https://www.ted.com/talks/ken\\_robinson\\_says\\_schools\\_kill\\_creativity\n",
       " & 47227110 & 1.09053 & 1 & children  \\\\\n",
       "\t2 & 1 & 4553 & Sir Ken Robinson makes an entertaining and profoundly moving case for creating an education system that nurtures (rather than undermines) creativity. & 1164 & TED2006 & 1140825600 & 60 & Ken Robinson & Ken Robinson: Do schools kill creativity? & 1 & 1151367060 & Author/educator & Do schools kill creativity? & https://www.ted.com/talks/ken\\_robinson\\_says\\_schools\\_kill\\_creativity\n",
       " & 47227110 & 1.09053 & 2 & creativity\\\\\n",
       "\t3 & 1 & 4553 & Sir Ken Robinson makes an entertaining and profoundly moving case for creating an education system that nurtures (rather than undermines) creativity. & 1164 & TED2006 & 1140825600 & 60 & Ken Robinson & Ken Robinson: Do schools kill creativity? & 1 & 1151367060 & Author/educator & Do schools kill creativity? & https://www.ted.com/talks/ken\\_robinson\\_says\\_schools\\_kill\\_creativity\n",
       " & 47227110 & 1.09053 & 3 & culture   \\\\\n",
       "\t4 & 1 & 4553 & Sir Ken Robinson makes an entertaining and profoundly moving case for creating an education system that nurtures (rather than undermines) creativity. & 1164 & TED2006 & 1140825600 & 60 & Ken Robinson & Ken Robinson: Do schools kill creativity? & 1 & 1151367060 & Author/educator & Do schools kill creativity? & https://www.ted.com/talks/ken\\_robinson\\_says\\_schools\\_kill\\_creativity\n",
       " & 47227110 & 1.09053 & 4 & dance     \\\\\n",
       "\t5 & 1 & 4553 & Sir Ken Robinson makes an entertaining and profoundly moving case for creating an education system that nurtures (rather than undermines) creativity. & 1164 & TED2006 & 1140825600 & 60 & Ken Robinson & Ken Robinson: Do schools kill creativity? & 1 & 1151367060 & Author/educator & Do schools kill creativity? & https://www.ted.com/talks/ken\\_robinson\\_says\\_schools\\_kill\\_creativity\n",
       " & 47227110 & 1.09053 & 5 & education \\\\\n",
       "\t6 & 1 & 4553 & Sir Ken Robinson makes an entertaining and profoundly moving case for creating an education system that nurtures (rather than undermines) creativity. & 1164 & TED2006 & 1140825600 & 60 & Ken Robinson & Ken Robinson: Do schools kill creativity? & 1 & 1151367060 & Author/educator & Do schools kill creativity? & https://www.ted.com/talks/ken\\_robinson\\_says\\_schools\\_kill\\_creativity\n",
       " & 47227110 & 1.09053 & 6 & parenting \\\\\n",
       "\\end{tabular}\n"
      ],
      "text/markdown": [
       "\n",
       "A data.frame: 6 × 18\n",
       "\n",
       "| <!--/--> | X.x &lt;int&gt; | comments &lt;int&gt; | description &lt;chr&gt; | duration &lt;int&gt; | event &lt;chr&gt; | film_date &lt;int&gt; | languages &lt;int&gt; | main_speaker &lt;chr&gt; | name &lt;chr&gt; | num_speaker &lt;int&gt; | published_date &lt;int&gt; | speaker_occupation &lt;chr&gt; | title &lt;chr&gt; | url &lt;chr&gt; | views &lt;int&gt; | percentViews &lt;dbl&gt; | X.y &lt;int&gt; | tags &lt;chr&gt; |\n",
       "|---|---|---|---|---|---|---|---|---|---|---|---|---|---|---|---|---|---|---|\n",
       "| 1 | 1 | 4553 | Sir Ken Robinson makes an entertaining and profoundly moving case for creating an education system that nurtures (rather than undermines) creativity. | 1164 | TED2006 | 1140825600 | 60 | Ken Robinson | Ken Robinson: Do schools kill creativity? | 1 | 1151367060 | Author/educator | Do schools kill creativity? | https://www.ted.com/talks/ken_robinson_says_schools_kill_creativity\n",
       " | 47227110 | 1.09053 | 1 | children   |\n",
       "| 2 | 1 | 4553 | Sir Ken Robinson makes an entertaining and profoundly moving case for creating an education system that nurtures (rather than undermines) creativity. | 1164 | TED2006 | 1140825600 | 60 | Ken Robinson | Ken Robinson: Do schools kill creativity? | 1 | 1151367060 | Author/educator | Do schools kill creativity? | https://www.ted.com/talks/ken_robinson_says_schools_kill_creativity\n",
       " | 47227110 | 1.09053 | 2 | creativity |\n",
       "| 3 | 1 | 4553 | Sir Ken Robinson makes an entertaining and profoundly moving case for creating an education system that nurtures (rather than undermines) creativity. | 1164 | TED2006 | 1140825600 | 60 | Ken Robinson | Ken Robinson: Do schools kill creativity? | 1 | 1151367060 | Author/educator | Do schools kill creativity? | https://www.ted.com/talks/ken_robinson_says_schools_kill_creativity\n",
       " | 47227110 | 1.09053 | 3 | culture    |\n",
       "| 4 | 1 | 4553 | Sir Ken Robinson makes an entertaining and profoundly moving case for creating an education system that nurtures (rather than undermines) creativity. | 1164 | TED2006 | 1140825600 | 60 | Ken Robinson | Ken Robinson: Do schools kill creativity? | 1 | 1151367060 | Author/educator | Do schools kill creativity? | https://www.ted.com/talks/ken_robinson_says_schools_kill_creativity\n",
       " | 47227110 | 1.09053 | 4 | dance      |\n",
       "| 5 | 1 | 4553 | Sir Ken Robinson makes an entertaining and profoundly moving case for creating an education system that nurtures (rather than undermines) creativity. | 1164 | TED2006 | 1140825600 | 60 | Ken Robinson | Ken Robinson: Do schools kill creativity? | 1 | 1151367060 | Author/educator | Do schools kill creativity? | https://www.ted.com/talks/ken_robinson_says_schools_kill_creativity\n",
       " | 47227110 | 1.09053 | 5 | education  |\n",
       "| 6 | 1 | 4553 | Sir Ken Robinson makes an entertaining and profoundly moving case for creating an education system that nurtures (rather than undermines) creativity. | 1164 | TED2006 | 1140825600 | 60 | Ken Robinson | Ken Robinson: Do schools kill creativity? | 1 | 1151367060 | Author/educator | Do schools kill creativity? | https://www.ted.com/talks/ken_robinson_says_schools_kill_creativity\n",
       " | 47227110 | 1.09053 | 6 | parenting  |\n",
       "\n"
      ],
      "text/plain": [
       "  X.x comments\n",
       "1 1   4553    \n",
       "2 1   4553    \n",
       "3 1   4553    \n",
       "4 1   4553    \n",
       "5 1   4553    \n",
       "6 1   4553    \n",
       "  description                                                                                                                                          \n",
       "1 Sir Ken Robinson makes an entertaining and profoundly moving case for creating an education system that nurtures (rather than undermines) creativity.\n",
       "2 Sir Ken Robinson makes an entertaining and profoundly moving case for creating an education system that nurtures (rather than undermines) creativity.\n",
       "3 Sir Ken Robinson makes an entertaining and profoundly moving case for creating an education system that nurtures (rather than undermines) creativity.\n",
       "4 Sir Ken Robinson makes an entertaining and profoundly moving case for creating an education system that nurtures (rather than undermines) creativity.\n",
       "5 Sir Ken Robinson makes an entertaining and profoundly moving case for creating an education system that nurtures (rather than undermines) creativity.\n",
       "6 Sir Ken Robinson makes an entertaining and profoundly moving case for creating an education system that nurtures (rather than undermines) creativity.\n",
       "  duration event   film_date  languages main_speaker\n",
       "1 1164     TED2006 1140825600 60        Ken Robinson\n",
       "2 1164     TED2006 1140825600 60        Ken Robinson\n",
       "3 1164     TED2006 1140825600 60        Ken Robinson\n",
       "4 1164     TED2006 1140825600 60        Ken Robinson\n",
       "5 1164     TED2006 1140825600 60        Ken Robinson\n",
       "6 1164     TED2006 1140825600 60        Ken Robinson\n",
       "  name                                      num_speaker published_date\n",
       "1 Ken Robinson: Do schools kill creativity? 1           1151367060    \n",
       "2 Ken Robinson: Do schools kill creativity? 1           1151367060    \n",
       "3 Ken Robinson: Do schools kill creativity? 1           1151367060    \n",
       "4 Ken Robinson: Do schools kill creativity? 1           1151367060    \n",
       "5 Ken Robinson: Do schools kill creativity? 1           1151367060    \n",
       "6 Ken Robinson: Do schools kill creativity? 1           1151367060    \n",
       "  speaker_occupation title                      \n",
       "1 Author/educator    Do schools kill creativity?\n",
       "2 Author/educator    Do schools kill creativity?\n",
       "3 Author/educator    Do schools kill creativity?\n",
       "4 Author/educator    Do schools kill creativity?\n",
       "5 Author/educator    Do schools kill creativity?\n",
       "6 Author/educator    Do schools kill creativity?\n",
       "  url                                                                  \n",
       "1 https://www.ted.com/talks/ken_robinson_says_schools_kill_creativity\\n\n",
       "2 https://www.ted.com/talks/ken_robinson_says_schools_kill_creativity\\n\n",
       "3 https://www.ted.com/talks/ken_robinson_says_schools_kill_creativity\\n\n",
       "4 https://www.ted.com/talks/ken_robinson_says_schools_kill_creativity\\n\n",
       "5 https://www.ted.com/talks/ken_robinson_says_schools_kill_creativity\\n\n",
       "6 https://www.ted.com/talks/ken_robinson_says_schools_kill_creativity\\n\n",
       "  views    percentViews X.y tags      \n",
       "1 47227110 1.09053      1   children  \n",
       "2 47227110 1.09053      2   creativity\n",
       "3 47227110 1.09053      3   culture   \n",
       "4 47227110 1.09053      4   dance     \n",
       "5 47227110 1.09053      5   education \n",
       "6 47227110 1.09053      6   parenting "
      ]
     },
     "metadata": {},
     "output_type": "display_data"
    },
    {
     "data": {
      "text/html": [
       "19154"
      ],
      "text/latex": [
       "19154"
      ],
      "text/markdown": [
       "19154"
      ],
      "text/plain": [
       "[1] 19154"
      ]
     },
     "metadata": {},
     "output_type": "display_data"
    }
   ],
   "source": [
    "nrow(tedTags)\n",
    "nrow(ted)\n",
    "tedAndTedTags <- inner_join(ted, tedTags, by = \"title\")\n",
    "head(tedAndTedTags)\n",
    "nrow(tedAndTedTags)"
   ]
  },
  {
   "cell_type": "markdown",
   "metadata": {},
   "source": [
    "6. Are there any talks which don't have a corresponding entry in ted tags"
   ]
  },
  {
   "cell_type": "code",
   "execution_count": 57,
   "metadata": {},
   "outputs": [
    {
     "data": {
      "text/html": [
       "TRUE"
      ],
      "text/latex": [
       "TRUE"
      ],
      "text/markdown": [
       "TRUE"
      ],
      "text/plain": [
       "[1] TRUE"
      ]
     },
     "metadata": {},
     "output_type": "display_data"
    }
   ],
   "source": [
    "nrow(tedTags) == nrow(tedAndTedTags)"
   ]
  },
  {
   "cell_type": "markdown",
   "metadata": {},
   "source": [
    "7. Which is the most popular tag"
   ]
  },
  {
   "cell_type": "code",
   "execution_count": 59,
   "metadata": {},
   "outputs": [
    {
     "name": "stderr",
     "output_type": "stream",
     "text": [
      "\u001b[1m\u001b[22mSelecting by n\n"
     ]
    },
    {
     "data": {
      "text/html": [
       "<table class=\"dataframe\">\n",
       "<caption>A tibble: 5 × 2</caption>\n",
       "<thead>\n",
       "\t<tr><th scope=col>tags</th><th scope=col>n</th></tr>\n",
       "\t<tr><th scope=col>&lt;chr&gt;</th><th scope=col>&lt;int&gt;</th></tr>\n",
       "</thead>\n",
       "<tbody>\n",
       "\t<tr><td>technology  </td><td>727</td></tr>\n",
       "\t<tr><td>science     </td><td>567</td></tr>\n",
       "\t<tr><td>globalissues</td><td>501</td></tr>\n",
       "\t<tr><td>culture     </td><td>486</td></tr>\n",
       "\t<tr><td>TEDx        </td><td>450</td></tr>\n",
       "</tbody>\n",
       "</table>\n"
      ],
      "text/latex": [
       "A tibble: 5 × 2\n",
       "\\begin{tabular}{ll}\n",
       " tags & n\\\\\n",
       " <chr> & <int>\\\\\n",
       "\\hline\n",
       "\t technology   & 727\\\\\n",
       "\t science      & 567\\\\\n",
       "\t globalissues & 501\\\\\n",
       "\t culture      & 486\\\\\n",
       "\t TEDx         & 450\\\\\n",
       "\\end{tabular}\n"
      ],
      "text/markdown": [
       "\n",
       "A tibble: 5 × 2\n",
       "\n",
       "| tags &lt;chr&gt; | n &lt;int&gt; |\n",
       "|---|---|\n",
       "| technology   | 727 |\n",
       "| science      | 567 |\n",
       "| globalissues | 501 |\n",
       "| culture      | 486 |\n",
       "| TEDx         | 450 |\n",
       "\n"
      ],
      "text/plain": [
       "  tags         n  \n",
       "1 technology   727\n",
       "2 science      567\n",
       "3 globalissues 501\n",
       "4 culture      486\n",
       "5 TEDx         450"
      ]
     },
     "metadata": {},
     "output_type": "display_data"
    }
   ],
   "source": [
    "tedAndTedTags %>% group_by(tags) %>%\n",
    "        summarise(n = n(), \n",
    "                              .groups = 'drop') %>%\n",
    "        arrange(desc(n)) %>% top_n(5)"
   ]
  },
  {
   "cell_type": "markdown",
   "metadata": {},
   "source": [
    "8. Calculate each event's percentage contribution to the total number of talks"
   ]
  },
  {
   "cell_type": "code",
   "execution_count": 78,
   "metadata": {},
   "outputs": [
    {
     "data": {
      "text/html": [
       "<table class=\"dataframe\">\n",
       "<caption>A data.frame: 355 × 2</caption>\n",
       "<thead>\n",
       "\t<tr><th scope=col>event</th><th scope=col>eventPercentageContribution</th></tr>\n",
       "\t<tr><th scope=col>&lt;chr&gt;</th><th scope=col>&lt;dbl&gt;</th></tr>\n",
       "</thead>\n",
       "<tbody>\n",
       "\t<tr><td>TED2016         </td><td>5.377467</td></tr>\n",
       "\t<tr><td>TED2017         </td><td>3.628485</td></tr>\n",
       "\t<tr><td>TEDGlobal 2012  </td><td>3.064634</td></tr>\n",
       "\t<tr><td>TED2009         </td><td>2.902788</td></tr>\n",
       "\t<tr><td>TEDSummit       </td><td>2.594758</td></tr>\n",
       "\t<tr><td>TED2015         </td><td>2.542550</td></tr>\n",
       "\t<tr><td>TED2014         </td><td>2.344158</td></tr>\n",
       "\t<tr><td>TED2007         </td><td>2.338937</td></tr>\n",
       "\t<tr><td>TED2012         </td><td>2.213637</td></tr>\n",
       "\t<tr><td>TEDGlobal 2013  </td><td>2.156208</td></tr>\n",
       "\t<tr><td>TEDGlobal 2009  </td><td>2.150987</td></tr>\n",
       "\t<tr><td>TED2013         </td><td>2.093557</td></tr>\n",
       "\t<tr><td>TEDGlobal 2011  </td><td>2.088337</td></tr>\n",
       "\t<tr><td>TED2010         </td><td>2.062232</td></tr>\n",
       "\t<tr><td>TED2008         </td><td>2.020466</td></tr>\n",
       "\t<tr><td>TED2011         </td><td>1.931711</td></tr>\n",
       "\t<tr><td>TEDWomen 2016   </td><td>1.869061</td></tr>\n",
       "\t<tr><td>TED2006         </td><td>1.733319</td></tr>\n",
       "\t<tr><td>TEDGlobal 2010  </td><td>1.691553</td></tr>\n",
       "\t<tr><td>TEDGlobal 2014  </td><td>1.383523</td></tr>\n",
       "\t<tr><td>TED2005         </td><td>1.373081</td></tr>\n",
       "\t<tr><td>TEDxBeaconStreet</td><td>1.289548</td></tr>\n",
       "\t<tr><td>TED Talks Live  </td><td>1.263444</td></tr>\n",
       "\t<tr><td>TED2003         </td><td>1.258223</td></tr>\n",
       "\t<tr><td>TEDGlobal 2005  </td><td>1.106818</td></tr>\n",
       "\t<tr><td>TEDNYC          </td><td>1.080714</td></tr>\n",
       "\t<tr><td>TEDIndia 2009   </td><td>1.075493</td></tr>\n",
       "\t<tr><td>TED2004         </td><td>1.075493</td></tr>\n",
       "\t<tr><td>TED2002         </td><td>1.023285</td></tr>\n",
       "\t<tr><td>TEDWomen 2010   </td><td>1.018064</td></tr>\n",
       "\t<tr><td>⋮</td><td>⋮</td></tr>\n",
       "\t<tr><td>TEDxDubai                  </td><td>0.02088337</td></tr>\n",
       "\t<tr><td>TEDxColbyCollege           </td><td>0.02088337</td></tr>\n",
       "\t<tr><td>TEDxSBU                    </td><td>0.02088337</td></tr>\n",
       "\t<tr><td>TEDxBeirut                 </td><td>0.02088337</td></tr>\n",
       "\t<tr><td>TEDxLeuvenSalon            </td><td>0.02088337</td></tr>\n",
       "\t<tr><td>TED@London                 </td><td>0.02088337</td></tr>\n",
       "\t<tr><td>TEDxNorthwesternU          </td><td>0.02088337</td></tr>\n",
       "\t<tr><td>TEDxSiliconValley          </td><td>0.02088337</td></tr>\n",
       "\t<tr><td>Bowery Poetry Club         </td><td>0.02088337</td></tr>\n",
       "\t<tr><td>Justice with Michael Sandel</td><td>0.02088337</td></tr>\n",
       "\t<tr><td>TEDxSussexUniversity       </td><td>0.02088337</td></tr>\n",
       "\t<tr><td>AORN Congress              </td><td>0.02088337</td></tr>\n",
       "\t<tr><td>TEDxIslay                  </td><td>0.02088337</td></tr>\n",
       "\t<tr><td>The Do Lectures            </td><td>0.02088337</td></tr>\n",
       "\t<tr><td>TEDxUofM                   </td><td>0.01566252</td></tr>\n",
       "\t<tr><td>TEDxSonomaCounty           </td><td>0.01566252</td></tr>\n",
       "\t<tr><td>TEDxMuncyStatePrison       </td><td>0.01566252</td></tr>\n",
       "\t<tr><td>TEDxWinnipeg               </td><td>0.01566252</td></tr>\n",
       "\t<tr><td>TEDxZurich 2013            </td><td>0.01566252</td></tr>\n",
       "\t<tr><td>SoulPancake                </td><td>0.01566252</td></tr>\n",
       "\t<tr><td>DLD 2007                   </td><td>0.01566252</td></tr>\n",
       "\t<tr><td>TEDxZurich 2011            </td><td>0.01566252</td></tr>\n",
       "\t<tr><td>BBC TV                     </td><td>0.01566252</td></tr>\n",
       "\t<tr><td>NextGen:Charity            </td><td>0.01566252</td></tr>\n",
       "\t<tr><td>TEDYouth 2012              </td><td>0.01566252</td></tr>\n",
       "\t<tr><td>Handheld Learning          </td><td>0.01566252</td></tr>\n",
       "\t<tr><td>Michael Howard Studios     </td><td>0.01566252</td></tr>\n",
       "\t<tr><td>TEDxHelvetia               </td><td>0.01044168</td></tr>\n",
       "\t<tr><td>TEDxConcorde               </td><td>0.01044168</td></tr>\n",
       "\t<tr><td>TED@SXSWi                  </td><td>0.01044168</td></tr>\n",
       "</tbody>\n",
       "</table>\n"
      ],
      "text/latex": [
       "A data.frame: 355 × 2\n",
       "\\begin{tabular}{ll}\n",
       " event & eventPercentageContribution\\\\\n",
       " <chr> & <dbl>\\\\\n",
       "\\hline\n",
       "\t TED2016          & 5.377467\\\\\n",
       "\t TED2017          & 3.628485\\\\\n",
       "\t TEDGlobal 2012   & 3.064634\\\\\n",
       "\t TED2009          & 2.902788\\\\\n",
       "\t TEDSummit        & 2.594758\\\\\n",
       "\t TED2015          & 2.542550\\\\\n",
       "\t TED2014          & 2.344158\\\\\n",
       "\t TED2007          & 2.338937\\\\\n",
       "\t TED2012          & 2.213637\\\\\n",
       "\t TEDGlobal 2013   & 2.156208\\\\\n",
       "\t TEDGlobal 2009   & 2.150987\\\\\n",
       "\t TED2013          & 2.093557\\\\\n",
       "\t TEDGlobal 2011   & 2.088337\\\\\n",
       "\t TED2010          & 2.062232\\\\\n",
       "\t TED2008          & 2.020466\\\\\n",
       "\t TED2011          & 1.931711\\\\\n",
       "\t TEDWomen 2016    & 1.869061\\\\\n",
       "\t TED2006          & 1.733319\\\\\n",
       "\t TEDGlobal 2010   & 1.691553\\\\\n",
       "\t TEDGlobal 2014   & 1.383523\\\\\n",
       "\t TED2005          & 1.373081\\\\\n",
       "\t TEDxBeaconStreet & 1.289548\\\\\n",
       "\t TED Talks Live   & 1.263444\\\\\n",
       "\t TED2003          & 1.258223\\\\\n",
       "\t TEDGlobal 2005   & 1.106818\\\\\n",
       "\t TEDNYC           & 1.080714\\\\\n",
       "\t TEDIndia 2009    & 1.075493\\\\\n",
       "\t TED2004          & 1.075493\\\\\n",
       "\t TED2002          & 1.023285\\\\\n",
       "\t TEDWomen 2010    & 1.018064\\\\\n",
       "\t ⋮ & ⋮\\\\\n",
       "\t TEDxDubai                   & 0.02088337\\\\\n",
       "\t TEDxColbyCollege            & 0.02088337\\\\\n",
       "\t TEDxSBU                     & 0.02088337\\\\\n",
       "\t TEDxBeirut                  & 0.02088337\\\\\n",
       "\t TEDxLeuvenSalon             & 0.02088337\\\\\n",
       "\t TED@London                  & 0.02088337\\\\\n",
       "\t TEDxNorthwesternU           & 0.02088337\\\\\n",
       "\t TEDxSiliconValley           & 0.02088337\\\\\n",
       "\t Bowery Poetry Club          & 0.02088337\\\\\n",
       "\t Justice with Michael Sandel & 0.02088337\\\\\n",
       "\t TEDxSussexUniversity        & 0.02088337\\\\\n",
       "\t AORN Congress               & 0.02088337\\\\\n",
       "\t TEDxIslay                   & 0.02088337\\\\\n",
       "\t The Do Lectures             & 0.02088337\\\\\n",
       "\t TEDxUofM                    & 0.01566252\\\\\n",
       "\t TEDxSonomaCounty            & 0.01566252\\\\\n",
       "\t TEDxMuncyStatePrison        & 0.01566252\\\\\n",
       "\t TEDxWinnipeg                & 0.01566252\\\\\n",
       "\t TEDxZurich 2013             & 0.01566252\\\\\n",
       "\t SoulPancake                 & 0.01566252\\\\\n",
       "\t DLD 2007                    & 0.01566252\\\\\n",
       "\t TEDxZurich 2011             & 0.01566252\\\\\n",
       "\t BBC TV                      & 0.01566252\\\\\n",
       "\t NextGen:Charity             & 0.01566252\\\\\n",
       "\t TEDYouth 2012               & 0.01566252\\\\\n",
       "\t Handheld Learning           & 0.01566252\\\\\n",
       "\t Michael Howard Studios      & 0.01566252\\\\\n",
       "\t TEDxHelvetia                & 0.01044168\\\\\n",
       "\t TEDxConcorde                & 0.01044168\\\\\n",
       "\t TED@SXSWi                   & 0.01044168\\\\\n",
       "\\end{tabular}\n"
      ],
      "text/markdown": [
       "\n",
       "A data.frame: 355 × 2\n",
       "\n",
       "| event &lt;chr&gt; | eventPercentageContribution &lt;dbl&gt; |\n",
       "|---|---|\n",
       "| TED2016          | 5.377467 |\n",
       "| TED2017          | 3.628485 |\n",
       "| TEDGlobal 2012   | 3.064634 |\n",
       "| TED2009          | 2.902788 |\n",
       "| TEDSummit        | 2.594758 |\n",
       "| TED2015          | 2.542550 |\n",
       "| TED2014          | 2.344158 |\n",
       "| TED2007          | 2.338937 |\n",
       "| TED2012          | 2.213637 |\n",
       "| TEDGlobal 2013   | 2.156208 |\n",
       "| TEDGlobal 2009   | 2.150987 |\n",
       "| TED2013          | 2.093557 |\n",
       "| TEDGlobal 2011   | 2.088337 |\n",
       "| TED2010          | 2.062232 |\n",
       "| TED2008          | 2.020466 |\n",
       "| TED2011          | 1.931711 |\n",
       "| TEDWomen 2016    | 1.869061 |\n",
       "| TED2006          | 1.733319 |\n",
       "| TEDGlobal 2010   | 1.691553 |\n",
       "| TEDGlobal 2014   | 1.383523 |\n",
       "| TED2005          | 1.373081 |\n",
       "| TEDxBeaconStreet | 1.289548 |\n",
       "| TED Talks Live   | 1.263444 |\n",
       "| TED2003          | 1.258223 |\n",
       "| TEDGlobal 2005   | 1.106818 |\n",
       "| TEDNYC           | 1.080714 |\n",
       "| TEDIndia 2009    | 1.075493 |\n",
       "| TED2004          | 1.075493 |\n",
       "| TED2002          | 1.023285 |\n",
       "| TEDWomen 2010    | 1.018064 |\n",
       "| ⋮ | ⋮ |\n",
       "| TEDxDubai                   | 0.02088337 |\n",
       "| TEDxColbyCollege            | 0.02088337 |\n",
       "| TEDxSBU                     | 0.02088337 |\n",
       "| TEDxBeirut                  | 0.02088337 |\n",
       "| TEDxLeuvenSalon             | 0.02088337 |\n",
       "| TED@London                  | 0.02088337 |\n",
       "| TEDxNorthwesternU           | 0.02088337 |\n",
       "| TEDxSiliconValley           | 0.02088337 |\n",
       "| Bowery Poetry Club          | 0.02088337 |\n",
       "| Justice with Michael Sandel | 0.02088337 |\n",
       "| TEDxSussexUniversity        | 0.02088337 |\n",
       "| AORN Congress               | 0.02088337 |\n",
       "| TEDxIslay                   | 0.02088337 |\n",
       "| The Do Lectures             | 0.02088337 |\n",
       "| TEDxUofM                    | 0.01566252 |\n",
       "| TEDxSonomaCounty            | 0.01566252 |\n",
       "| TEDxMuncyStatePrison        | 0.01566252 |\n",
       "| TEDxWinnipeg                | 0.01566252 |\n",
       "| TEDxZurich 2013             | 0.01566252 |\n",
       "| SoulPancake                 | 0.01566252 |\n",
       "| DLD 2007                    | 0.01566252 |\n",
       "| TEDxZurich 2011             | 0.01566252 |\n",
       "| BBC TV                      | 0.01566252 |\n",
       "| NextGen:Charity             | 0.01566252 |\n",
       "| TEDYouth 2012               | 0.01566252 |\n",
       "| Handheld Learning           | 0.01566252 |\n",
       "| Michael Howard Studios      | 0.01566252 |\n",
       "| TEDxHelvetia                | 0.01044168 |\n",
       "| TEDxConcorde                | 0.01044168 |\n",
       "| TED@SXSWi                   | 0.01044168 |\n",
       "\n"
      ],
      "text/plain": [
       "    event                       eventPercentageContribution\n",
       "1   TED2016                     5.377467                   \n",
       "2   TED2017                     3.628485                   \n",
       "3   TEDGlobal 2012              3.064634                   \n",
       "4   TED2009                     2.902788                   \n",
       "5   TEDSummit                   2.594758                   \n",
       "6   TED2015                     2.542550                   \n",
       "7   TED2014                     2.344158                   \n",
       "8   TED2007                     2.338937                   \n",
       "9   TED2012                     2.213637                   \n",
       "10  TEDGlobal 2013              2.156208                   \n",
       "11  TEDGlobal 2009              2.150987                   \n",
       "12  TED2013                     2.093557                   \n",
       "13  TEDGlobal 2011              2.088337                   \n",
       "14  TED2010                     2.062232                   \n",
       "15  TED2008                     2.020466                   \n",
       "16  TED2011                     1.931711                   \n",
       "17  TEDWomen 2016               1.869061                   \n",
       "18  TED2006                     1.733319                   \n",
       "19  TEDGlobal 2010              1.691553                   \n",
       "20  TEDGlobal 2014              1.383523                   \n",
       "21  TED2005                     1.373081                   \n",
       "22  TEDxBeaconStreet            1.289548                   \n",
       "23  TED Talks Live              1.263444                   \n",
       "24  TED2003                     1.258223                   \n",
       "25  TEDGlobal 2005              1.106818                   \n",
       "26  TEDNYC                      1.080714                   \n",
       "27  TEDIndia 2009               1.075493                   \n",
       "28  TED2004                     1.075493                   \n",
       "29  TED2002                     1.023285                   \n",
       "30  TEDWomen 2010               1.018064                   \n",
       "⋮   ⋮                           ⋮                          \n",
       "326 TEDxDubai                   0.02088337                 \n",
       "327 TEDxColbyCollege            0.02088337                 \n",
       "328 TEDxSBU                     0.02088337                 \n",
       "329 TEDxBeirut                  0.02088337                 \n",
       "330 TEDxLeuvenSalon             0.02088337                 \n",
       "331 TED@London                  0.02088337                 \n",
       "332 TEDxNorthwesternU           0.02088337                 \n",
       "333 TEDxSiliconValley           0.02088337                 \n",
       "334 Bowery Poetry Club          0.02088337                 \n",
       "335 Justice with Michael Sandel 0.02088337                 \n",
       "336 TEDxSussexUniversity        0.02088337                 \n",
       "337 AORN Congress               0.02088337                 \n",
       "338 TEDxIslay                   0.02088337                 \n",
       "339 The Do Lectures             0.02088337                 \n",
       "340 TEDxUofM                    0.01566252                 \n",
       "341 TEDxSonomaCounty            0.01566252                 \n",
       "342 TEDxMuncyStatePrison        0.01566252                 \n",
       "343 TEDxWinnipeg                0.01566252                 \n",
       "344 TEDxZurich 2013             0.01566252                 \n",
       "345 SoulPancake                 0.01566252                 \n",
       "346 DLD 2007                    0.01566252                 \n",
       "347 TEDxZurich 2011             0.01566252                 \n",
       "348 BBC TV                      0.01566252                 \n",
       "349 NextGen:Charity             0.01566252                 \n",
       "350 TEDYouth 2012               0.01566252                 \n",
       "351 Handheld Learning           0.01566252                 \n",
       "352 Michael Howard Studios      0.01566252                 \n",
       "353 TEDxHelvetia                0.01044168                 \n",
       "354 TEDxConcorde                0.01044168                 \n",
       "355 TED@SXSWi                   0.01044168                 "
      ]
     },
     "metadata": {},
     "output_type": "display_data"
    }
   ],
   "source": [
    "tedEventsCounted <- tedAndTedTags %>% group_by(event) %>%\n",
    "        summarise(totalTalksInEvent = n(), \n",
    "                              .groups = 'drop') %>%\n",
    "        arrange(desc(totalTalksInEvent)) \n",
    "tedAndTedTagsWithEventsConted <- inner_join(tedAndTedTags, tedEventsCounted, by = \"event\")\n",
    "\n",
    "tedAndTedTagsWithEventsConted <-\n",
    "    mutate(tedAndTedTagsWithEventsConted, \n",
    "       eventPercentageContribution = (totalTalksInEvent * 100) / nrow(tedAndTedTagsWithEventsConted))\n",
    "unique(select(tedAndTedTagsWithEventsConted, c(event, eventPercentageContribution))) %>%\n",
    "arrange(desc(eventPercentageContribution))\n",
    "    "
   ]
  }
 ],
 "metadata": {
  "kernelspec": {
   "display_name": "R",
   "language": "R",
   "name": "ir"
  },
  "language_info": {
   "codemirror_mode": "r",
   "file_extension": ".r",
   "mimetype": "text/x-r-source",
   "name": "R",
   "pygments_lexer": "r",
   "version": "4.2.1"
  }
 },
 "nbformat": 4,
 "nbformat_minor": 4
}
