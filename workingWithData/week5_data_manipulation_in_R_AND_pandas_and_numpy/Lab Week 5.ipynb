{
 "cells": [
  {
   "cell_type": "markdown",
   "metadata": {},
   "source": [
    "# Ted Talks\n",
    "\n",
    "This dataset has been adapted from the Kaggle [Ted Talks Dataset](https://www.kaggle.com/rounakbanik/ted-talks).  A full dataset description is available at the website. You will need to download the files `ted.csv` and `ted_tags.csv` in Brightspace.\n",
    "\n",
    "\n",
    "## Context\n",
    "These datasets contain information about all audio-video recordings of TED Talks uploaded to the official TED.com website until September 21st, 2017. The TED main dataset contains information about all talks including number of views, number of comments, descriptions, speakers and titles. The TED transcripts dataset contains the transcripts for all talks available on TED.com.\n",
    "\n",
    "## Data Description\n",
    "\n",
    "### ted.csv\n",
    "\n",
    "*comments*\n",
    "The number of first level comments made on the talk\n",
    "\n",
    "*description*\n",
    "A blurb of what the talk is about\n",
    "\n",
    "*duration*\n",
    "The duration of the talk in seconds\n",
    "\n",
    "*event*\n",
    "The TED/TEDx event where the talk took place\n",
    "\n",
    "*film_date*\n",
    "The Unix timestamp of the filming\n",
    "\n",
    "*languages*\n",
    "The number of languages in which the talk is available\n",
    "\n",
    "*main_speaker*\n",
    "The first named speaker of the talk\n",
    "\n",
    "*name*\n",
    "The official name of the TED Talk. Includes the title and the speaker.\n",
    "\n",
    "*num_speaker*\n",
    "The number of speakers in the talk\n",
    "\n",
    "*published_date*\n",
    "The Unix timestamp for the publication of the talk on TED.com\n",
    "\n",
    "*speaker_occupation*\n",
    "The occupation of the main speaker\n",
    "\n",
    "*title*\n",
    "The title of the talk\n",
    "\n",
    "*url*\n",
    "The URL of the talk\n",
    "\n",
    "*views*\n",
    "The number of views of the talk\n",
    "\n",
    "### ratings.csv\n",
    "\n",
    "A lookup table for ratings\n",
    "\n",
    "*id*\n",
    "The ID of the rating\n",
    "\n",
    "*rating*\n",
    "Rating description in English\n",
    "\n",
    "### talk_ratings.csv\n",
    "\n",
    "*id*\n",
    "Rating ID (corresponds with the ID in *ratings.csv*\n",
    "\n",
    "*title*\n",
    "Title of the talk\n",
    "\n",
    "*count*\n",
    "The number of times this talk was awarded given this rating\n",
    "\n",
    "### ted_tags.csv\n",
    "\n",
    "*title*\n",
    "Title of the talk\n",
    "\n",
    "*tag*\n",
    "Descriptive tag applied to the talk"
   ]
  },
  {
   "cell_type": "markdown",
   "metadata": {},
   "source": [
    "1. Load the Ted Talks dataset (ted.csv)"
   ]
  },
  {
   "cell_type": "code",
   "execution_count": 4,
   "metadata": {},
   "outputs": [
    {
     "data": {
      "text/html": [
       "<table class=\"dataframe\">\n",
       "<caption>A data.frame: 6 × 15</caption>\n",
       "<thead>\n",
       "\t<tr><th></th><th scope=col>X</th><th scope=col>comments</th><th scope=col>description</th><th scope=col>duration</th><th scope=col>event</th><th scope=col>film_date</th><th scope=col>languages</th><th scope=col>main_speaker</th><th scope=col>name</th><th scope=col>num_speaker</th><th scope=col>published_date</th><th scope=col>speaker_occupation</th><th scope=col>title</th><th scope=col>url</th><th scope=col>views</th></tr>\n",
       "\t<tr><th></th><th scope=col>&lt;int&gt;</th><th scope=col>&lt;int&gt;</th><th scope=col>&lt;chr&gt;</th><th scope=col>&lt;int&gt;</th><th scope=col>&lt;chr&gt;</th><th scope=col>&lt;int&gt;</th><th scope=col>&lt;int&gt;</th><th scope=col>&lt;chr&gt;</th><th scope=col>&lt;chr&gt;</th><th scope=col>&lt;int&gt;</th><th scope=col>&lt;int&gt;</th><th scope=col>&lt;chr&gt;</th><th scope=col>&lt;chr&gt;</th><th scope=col>&lt;chr&gt;</th><th scope=col>&lt;int&gt;</th></tr>\n",
       "</thead>\n",
       "<tbody>\n",
       "\t<tr><th scope=row>1</th><td>1</td><td>4553</td><td>Sir Ken Robinson makes an entertaining and profoundly moving case for creating an education system that nurtures (rather than undermines) creativity.                                                                                    </td><td>1164</td><td>TED2006</td><td>1140825600</td><td>60</td><td>Ken Robinson </td><td>Ken Robinson: Do schools kill creativity?    </td><td>1</td><td>1151367060</td><td>Author/educator                            </td><td>Do schools kill creativity?    </td><td>https://www.ted.com/talks/ken_robinson_says_schools_kill_creativity\n",
       "         </td><td>47227110</td></tr>\n",
       "\t<tr><th scope=row>2</th><td>2</td><td> 265</td><td>With the same humor and humanity he exuded in \"An Inconvenient Truth,\" Al Gore spells out 15 ways that individuals can address climate change immediately, from buying a hybrid to inventing a new, hotter brand name for global warming.</td><td> 977</td><td>TED2006</td><td>1140825600</td><td>43</td><td>Al Gore      </td><td>Al Gore: Averting the climate crisis         </td><td>1</td><td>1151367060</td><td>Climate advocate                           </td><td>Averting the climate crisis    </td><td>https://www.ted.com/talks/al_gore_on_averting_climate_crisis\n",
       "                </td><td> 3200520</td></tr>\n",
       "\t<tr><th scope=row>3</th><td>3</td><td> 124</td><td>New York Times columnist David Pogue takes aim at technology’s worst interface-design offenders, and provides encouraging examples of products that get it right. To funny things up, he bursts into song.                               </td><td>1286</td><td>TED2006</td><td>1140739200</td><td>26</td><td>David Pogue  </td><td>David Pogue: Simplicity sells                </td><td>1</td><td>1151367060</td><td>Technology columnist                       </td><td>Simplicity sells               </td><td>https://www.ted.com/talks/david_pogue_says_simplicity_sells\n",
       "                 </td><td> 1636292</td></tr>\n",
       "\t<tr><th scope=row>4</th><td>4</td><td> 200</td><td>In an emotionally charged talk, MacArthur-winning activist Majora Carter details her fight for environmental justice in the South Bronx -- and shows how minority neighborhoods suffer most from flawed urban policy.                    </td><td>1116</td><td>TED2006</td><td>1140912000</td><td>35</td><td>Majora Carter</td><td>Majora Carter: Greening the ghetto           </td><td>1</td><td>1151367060</td><td>Activist for environmental justice         </td><td>Greening the ghetto            </td><td>https://www.ted.com/talks/majora_carter_s_tale_of_urban_renewal\n",
       "             </td><td> 1697550</td></tr>\n",
       "\t<tr><th scope=row>5</th><td>5</td><td> 593</td><td>You've never seen data presented like this. With the drama and urgency of a sportscaster, statistics guru Hans Rosling debunks myths about the so-called \"developing world.\"                                                             </td><td>1190</td><td>TED2006</td><td>1140566400</td><td>48</td><td>Hans Rosling </td><td>Hans Rosling: The best stats you've ever seen</td><td>1</td><td>1151440680</td><td>Global health expert; data visionary       </td><td>The best stats you've ever seen</td><td>https://www.ted.com/talks/hans_rosling_shows_the_best_stats_you_ve_ever_seen\n",
       "</td><td>12005869</td></tr>\n",
       "\t<tr><th scope=row>6</th><td>6</td><td> 672</td><td>Tony Robbins discusses the \"invisible forces\" that motivate everyone's actions -- and high-fives Al Gore in the front row.                                                                                                               </td><td>1305</td><td>TED2006</td><td>1138838400</td><td>36</td><td>Tony Robbins </td><td>Tony Robbins: Why we do what we do           </td><td>1</td><td>1151440680</td><td>Life coach; expert in leadership psychology</td><td>Why we do what we do           </td><td>https://www.ted.com/talks/tony_robbins_asks_why_we_do_what_we_do\n",
       "            </td><td>20685401</td></tr>\n",
       "</tbody>\n",
       "</table>\n"
      ],
      "text/latex": [
       "A data.frame: 6 × 15\n",
       "\\begin{tabular}{r|lllllllllllllll}\n",
       "  & X & comments & description & duration & event & film\\_date & languages & main\\_speaker & name & num\\_speaker & published\\_date & speaker\\_occupation & title & url & views\\\\\n",
       "  & <int> & <int> & <chr> & <int> & <chr> & <int> & <int> & <chr> & <chr> & <int> & <int> & <chr> & <chr> & <chr> & <int>\\\\\n",
       "\\hline\n",
       "\t1 & 1 & 4553 & Sir Ken Robinson makes an entertaining and profoundly moving case for creating an education system that nurtures (rather than undermines) creativity.                                                                                     & 1164 & TED2006 & 1140825600 & 60 & Ken Robinson  & Ken Robinson: Do schools kill creativity?     & 1 & 1151367060 & Author/educator                             & Do schools kill creativity?     & https://www.ted.com/talks/ken\\_robinson\\_says\\_schools\\_kill\\_creativity\n",
       "          & 47227110\\\\\n",
       "\t2 & 2 &  265 & With the same humor and humanity he exuded in \"An Inconvenient Truth,\" Al Gore spells out 15 ways that individuals can address climate change immediately, from buying a hybrid to inventing a new, hotter brand name for global warming. &  977 & TED2006 & 1140825600 & 43 & Al Gore       & Al Gore: Averting the climate crisis          & 1 & 1151367060 & Climate advocate                            & Averting the climate crisis     & https://www.ted.com/talks/al\\_gore\\_on\\_averting\\_climate\\_crisis\n",
       "                 &  3200520\\\\\n",
       "\t3 & 3 &  124 & New York Times columnist David Pogue takes aim at technology’s worst interface-design offenders, and provides encouraging examples of products that get it right. To funny things up, he bursts into song.                                & 1286 & TED2006 & 1140739200 & 26 & David Pogue   & David Pogue: Simplicity sells                 & 1 & 1151367060 & Technology columnist                        & Simplicity sells                & https://www.ted.com/talks/david\\_pogue\\_says\\_simplicity\\_sells\n",
       "                  &  1636292\\\\\n",
       "\t4 & 4 &  200 & In an emotionally charged talk, MacArthur-winning activist Majora Carter details her fight for environmental justice in the South Bronx -- and shows how minority neighborhoods suffer most from flawed urban policy.                     & 1116 & TED2006 & 1140912000 & 35 & Majora Carter & Majora Carter: Greening the ghetto            & 1 & 1151367060 & Activist for environmental justice          & Greening the ghetto             & https://www.ted.com/talks/majora\\_carter\\_s\\_tale\\_of\\_urban\\_renewal\n",
       "              &  1697550\\\\\n",
       "\t5 & 5 &  593 & You've never seen data presented like this. With the drama and urgency of a sportscaster, statistics guru Hans Rosling debunks myths about the so-called \"developing world.\"                                                              & 1190 & TED2006 & 1140566400 & 48 & Hans Rosling  & Hans Rosling: The best stats you've ever seen & 1 & 1151440680 & Global health expert; data visionary        & The best stats you've ever seen & https://www.ted.com/talks/hans\\_rosling\\_shows\\_the\\_best\\_stats\\_you\\_ve\\_ever\\_seen\n",
       " & 12005869\\\\\n",
       "\t6 & 6 &  672 & Tony Robbins discusses the \"invisible forces\" that motivate everyone's actions -- and high-fives Al Gore in the front row.                                                                                                                & 1305 & TED2006 & 1138838400 & 36 & Tony Robbins  & Tony Robbins: Why we do what we do            & 1 & 1151440680 & Life coach; expert in leadership psychology & Why we do what we do            & https://www.ted.com/talks/tony\\_robbins\\_asks\\_why\\_we\\_do\\_what\\_we\\_do\n",
       "             & 20685401\\\\\n",
       "\\end{tabular}\n"
      ],
      "text/markdown": [
       "\n",
       "A data.frame: 6 × 15\n",
       "\n",
       "| <!--/--> | X &lt;int&gt; | comments &lt;int&gt; | description &lt;chr&gt; | duration &lt;int&gt; | event &lt;chr&gt; | film_date &lt;int&gt; | languages &lt;int&gt; | main_speaker &lt;chr&gt; | name &lt;chr&gt; | num_speaker &lt;int&gt; | published_date &lt;int&gt; | speaker_occupation &lt;chr&gt; | title &lt;chr&gt; | url &lt;chr&gt; | views &lt;int&gt; |\n",
       "|---|---|---|---|---|---|---|---|---|---|---|---|---|---|---|---|\n",
       "| 1 | 1 | 4553 | Sir Ken Robinson makes an entertaining and profoundly moving case for creating an education system that nurtures (rather than undermines) creativity.                                                                                     | 1164 | TED2006 | 1140825600 | 60 | Ken Robinson  | Ken Robinson: Do schools kill creativity?     | 1 | 1151367060 | Author/educator                             | Do schools kill creativity?     | https://www.ted.com/talks/ken_robinson_says_schools_kill_creativity\n",
       "          | 47227110 |\n",
       "| 2 | 2 |  265 | With the same humor and humanity he exuded in \"An Inconvenient Truth,\" Al Gore spells out 15 ways that individuals can address climate change immediately, from buying a hybrid to inventing a new, hotter brand name for global warming. |  977 | TED2006 | 1140825600 | 43 | Al Gore       | Al Gore: Averting the climate crisis          | 1 | 1151367060 | Climate advocate                            | Averting the climate crisis     | https://www.ted.com/talks/al_gore_on_averting_climate_crisis\n",
       "                 |  3200520 |\n",
       "| 3 | 3 |  124 | New York Times columnist David Pogue takes aim at technology’s worst interface-design offenders, and provides encouraging examples of products that get it right. To funny things up, he bursts into song.                                | 1286 | TED2006 | 1140739200 | 26 | David Pogue   | David Pogue: Simplicity sells                 | 1 | 1151367060 | Technology columnist                        | Simplicity sells                | https://www.ted.com/talks/david_pogue_says_simplicity_sells\n",
       "                  |  1636292 |\n",
       "| 4 | 4 |  200 | In an emotionally charged talk, MacArthur-winning activist Majora Carter details her fight for environmental justice in the South Bronx -- and shows how minority neighborhoods suffer most from flawed urban policy.                     | 1116 | TED2006 | 1140912000 | 35 | Majora Carter | Majora Carter: Greening the ghetto            | 1 | 1151367060 | Activist for environmental justice          | Greening the ghetto             | https://www.ted.com/talks/majora_carter_s_tale_of_urban_renewal\n",
       "              |  1697550 |\n",
       "| 5 | 5 |  593 | You've never seen data presented like this. With the drama and urgency of a sportscaster, statistics guru Hans Rosling debunks myths about the so-called \"developing world.\"                                                              | 1190 | TED2006 | 1140566400 | 48 | Hans Rosling  | Hans Rosling: The best stats you've ever seen | 1 | 1151440680 | Global health expert; data visionary        | The best stats you've ever seen | https://www.ted.com/talks/hans_rosling_shows_the_best_stats_you_ve_ever_seen\n",
       " | 12005869 |\n",
       "| 6 | 6 |  672 | Tony Robbins discusses the \"invisible forces\" that motivate everyone's actions -- and high-fives Al Gore in the front row.                                                                                                                | 1305 | TED2006 | 1138838400 | 36 | Tony Robbins  | Tony Robbins: Why we do what we do            | 1 | 1151440680 | Life coach; expert in leadership psychology | Why we do what we do            | https://www.ted.com/talks/tony_robbins_asks_why_we_do_what_we_do\n",
       "             | 20685401 |\n",
       "\n"
      ],
      "text/plain": [
       "  X comments\n",
       "1 1 4553    \n",
       "2 2  265    \n",
       "3 3  124    \n",
       "4 4  200    \n",
       "5 5  593    \n",
       "6 6  672    \n",
       "  description                                                                                                                                                                                                                              \n",
       "1 Sir Ken Robinson makes an entertaining and profoundly moving case for creating an education system that nurtures (rather than undermines) creativity.                                                                                    \n",
       "2 With the same humor and humanity he exuded in \"An Inconvenient Truth,\" Al Gore spells out 15 ways that individuals can address climate change immediately, from buying a hybrid to inventing a new, hotter brand name for global warming.\n",
       "3 New York Times columnist David Pogue takes aim at technology’s worst interface-design offenders, and provides encouraging examples of products that get it right. To funny things up, he bursts into song.                               \n",
       "4 In an emotionally charged talk, MacArthur-winning activist Majora Carter details her fight for environmental justice in the South Bronx -- and shows how minority neighborhoods suffer most from flawed urban policy.                    \n",
       "5 You've never seen data presented like this. With the drama and urgency of a sportscaster, statistics guru Hans Rosling debunks myths about the so-called \"developing world.\"                                                             \n",
       "6 Tony Robbins discusses the \"invisible forces\" that motivate everyone's actions -- and high-fives Al Gore in the front row.                                                                                                               \n",
       "  duration event   film_date  languages main_speaker \n",
       "1 1164     TED2006 1140825600 60        Ken Robinson \n",
       "2  977     TED2006 1140825600 43        Al Gore      \n",
       "3 1286     TED2006 1140739200 26        David Pogue  \n",
       "4 1116     TED2006 1140912000 35        Majora Carter\n",
       "5 1190     TED2006 1140566400 48        Hans Rosling \n",
       "6 1305     TED2006 1138838400 36        Tony Robbins \n",
       "  name                                          num_speaker published_date\n",
       "1 Ken Robinson: Do schools kill creativity?     1           1151367060    \n",
       "2 Al Gore: Averting the climate crisis          1           1151367060    \n",
       "3 David Pogue: Simplicity sells                 1           1151367060    \n",
       "4 Majora Carter: Greening the ghetto            1           1151367060    \n",
       "5 Hans Rosling: The best stats you've ever seen 1           1151440680    \n",
       "6 Tony Robbins: Why we do what we do            1           1151440680    \n",
       "  speaker_occupation                          title                          \n",
       "1 Author/educator                             Do schools kill creativity?    \n",
       "2 Climate advocate                            Averting the climate crisis    \n",
       "3 Technology columnist                        Simplicity sells               \n",
       "4 Activist for environmental justice          Greening the ghetto            \n",
       "5 Global health expert; data visionary        The best stats you've ever seen\n",
       "6 Life coach; expert in leadership psychology Why we do what we do           \n",
       "  url                                                                           \n",
       "1 https://www.ted.com/talks/ken_robinson_says_schools_kill_creativity\\n         \n",
       "2 https://www.ted.com/talks/al_gore_on_averting_climate_crisis\\n                \n",
       "3 https://www.ted.com/talks/david_pogue_says_simplicity_sells\\n                 \n",
       "4 https://www.ted.com/talks/majora_carter_s_tale_of_urban_renewal\\n             \n",
       "5 https://www.ted.com/talks/hans_rosling_shows_the_best_stats_you_ve_ever_seen\\n\n",
       "6 https://www.ted.com/talks/tony_robbins_asks_why_we_do_what_we_do\\n            \n",
       "  views   \n",
       "1 47227110\n",
       "2  3200520\n",
       "3  1636292\n",
       "4  1697550\n",
       "5 12005869\n",
       "6 20685401"
      ]
     },
     "metadata": {},
     "output_type": "display_data"
    }
   ],
   "source": [
    "ted <- read.csv(\"ted.csv\")\n",
    "head(ted)"
   ]
  },
  {
   "cell_type": "markdown",
   "metadata": {},
   "source": [
    "2. How many speakers from each occupation have been appeared on a Ted Talk? What are the top 5 most popular occupations?"
   ]
  },
  {
   "cell_type": "code",
   "execution_count": 21,
   "metadata": {},
   "outputs": [
    {
     "name": "stderr",
     "output_type": "stream",
     "text": [
      "\u001b[1m\u001b[22mSelecting by n\n"
     ]
    },
    {
     "data": {
      "text/html": [
       "<table class=\"dataframe\">\n",
       "<caption>A tibble: 5 × 2</caption>\n",
       "<thead>\n",
       "\t<tr><th scope=col>speaker_occupation</th><th scope=col>n</th></tr>\n",
       "\t<tr><th scope=col>&lt;chr&gt;</th><th scope=col>&lt;int&gt;</th></tr>\n",
       "</thead>\n",
       "<tbody>\n",
       "\t<tr><td>Writer      </td><td>45</td></tr>\n",
       "\t<tr><td>Artist      </td><td>34</td></tr>\n",
       "\t<tr><td>Designer    </td><td>34</td></tr>\n",
       "\t<tr><td>Journalist  </td><td>33</td></tr>\n",
       "\t<tr><td>Entrepreneur</td><td>31</td></tr>\n",
       "</tbody>\n",
       "</table>\n"
      ],
      "text/latex": [
       "A tibble: 5 × 2\n",
       "\\begin{tabular}{ll}\n",
       " speaker\\_occupation & n\\\\\n",
       " <chr> & <int>\\\\\n",
       "\\hline\n",
       "\t Writer       & 45\\\\\n",
       "\t Artist       & 34\\\\\n",
       "\t Designer     & 34\\\\\n",
       "\t Journalist   & 33\\\\\n",
       "\t Entrepreneur & 31\\\\\n",
       "\\end{tabular}\n"
      ],
      "text/markdown": [
       "\n",
       "A tibble: 5 × 2\n",
       "\n",
       "| speaker_occupation &lt;chr&gt; | n &lt;int&gt; |\n",
       "|---|---|\n",
       "| Writer       | 45 |\n",
       "| Artist       | 34 |\n",
       "| Designer     | 34 |\n",
       "| Journalist   | 33 |\n",
       "| Entrepreneur | 31 |\n",
       "\n"
      ],
      "text/plain": [
       "  speaker_occupation n \n",
       "1 Writer             45\n",
       "2 Artist             34\n",
       "3 Designer           34\n",
       "4 Journalist         33\n",
       "5 Entrepreneur       31"
      ]
     },
     "metadata": {},
     "output_type": "display_data"
    }
   ],
   "source": [
    "library('dplyr')\n",
    "ted %>% group_by(speaker_occupation) %>%\n",
    "        summarise(n = n(), \n",
    "                              .groups = 'drop') %>%\n",
    "        arrange(desc(n)) %>% top_n(5)"
   ]
  },
  {
   "cell_type": "markdown",
   "metadata": {},
   "source": [
    "3. Create two subsets of the data into 2 groups, popular (top 25% of views) and niche (< top 25% of views)"
   ]
  },
  {
   "cell_type": "code",
   "execution_count": 42,
   "metadata": {},
   "outputs": [],
   "source": [
    "# totalViews <- summarise()\n",
    "totalViews <- (ted %>% summarise(totalViews = sum(views)))$totalViews\n",
    "ted <- mutate(ted, percentViews = (views *100) / totalViews)\n",
    "getSubsetBasedOnPercentViews <- function(data, top = TRUE, percent = 25) {\n",
    "    arrangedData <- NULL\n",
    "    if(top)\n",
    "        arrangedData <- data %>% arrange(desc(percentViews))\n",
    "    else \n",
    "        arrangedData <- data %>% arrange(percentViews)\n",
    "    \n",
    "    totalPercent <- 0\n",
    "    howManyRows <- 0\n",
    "    for(i in 1:nrow(arrangedData)) {\n",
    "        row <- arrangedData[i,]\n",
    "        totalPercent <- totalPercent + row$percentViews\n",
    "        howManyRows <- i\n",
    "        if(totalPercent >= percent) break\n",
    "        # do stuff with row\n",
    "    }\n",
    "    subset <- arrangedData[1:howManyRows,]\n",
    "    return (subset)\n",
    "}\n",
    "top25Percent <- getSubsetBasedOnPercentViews(ted, top = TRUE)\n",
    "botton25Percent <- getSubsetBasedOnPercentViews(ted, top = FALSE)\n",
    "\n",
    "# poppularTed <- "
   ]
  },
  {
   "cell_type": "markdown",
   "metadata": {},
   "source": [
    "4. Load the ted tags data (ted_tags.csv)"
   ]
  },
  {
   "cell_type": "code",
   "execution_count": 50,
   "metadata": {},
   "outputs": [
    {
     "data": {
      "text/html": [
       "<table class=\"dataframe\">\n",
       "<caption>A data.frame: 6 × 3</caption>\n",
       "<thead>\n",
       "\t<tr><th></th><th scope=col>X</th><th scope=col>title</th><th scope=col>tags</th></tr>\n",
       "\t<tr><th></th><th scope=col>&lt;int&gt;</th><th scope=col>&lt;chr&gt;</th><th scope=col>&lt;chr&gt;</th></tr>\n",
       "</thead>\n",
       "<tbody>\n",
       "\t<tr><th scope=row>1</th><td>1</td><td>Do schools kill creativity?</td><td>children  </td></tr>\n",
       "\t<tr><th scope=row>2</th><td>2</td><td>Do schools kill creativity?</td><td>creativity</td></tr>\n",
       "\t<tr><th scope=row>3</th><td>3</td><td>Do schools kill creativity?</td><td>culture   </td></tr>\n",
       "\t<tr><th scope=row>4</th><td>4</td><td>Do schools kill creativity?</td><td>dance     </td></tr>\n",
       "\t<tr><th scope=row>5</th><td>5</td><td>Do schools kill creativity?</td><td>education </td></tr>\n",
       "\t<tr><th scope=row>6</th><td>6</td><td>Do schools kill creativity?</td><td>parenting </td></tr>\n",
       "</tbody>\n",
       "</table>\n"
      ],
      "text/latex": [
       "A data.frame: 6 × 3\n",
       "\\begin{tabular}{r|lll}\n",
       "  & X & title & tags\\\\\n",
       "  & <int> & <chr> & <chr>\\\\\n",
       "\\hline\n",
       "\t1 & 1 & Do schools kill creativity? & children  \\\\\n",
       "\t2 & 2 & Do schools kill creativity? & creativity\\\\\n",
       "\t3 & 3 & Do schools kill creativity? & culture   \\\\\n",
       "\t4 & 4 & Do schools kill creativity? & dance     \\\\\n",
       "\t5 & 5 & Do schools kill creativity? & education \\\\\n",
       "\t6 & 6 & Do schools kill creativity? & parenting \\\\\n",
       "\\end{tabular}\n"
      ],
      "text/markdown": [
       "\n",
       "A data.frame: 6 × 3\n",
       "\n",
       "| <!--/--> | X &lt;int&gt; | title &lt;chr&gt; | tags &lt;chr&gt; |\n",
       "|---|---|---|---|\n",
       "| 1 | 1 | Do schools kill creativity? | children   |\n",
       "| 2 | 2 | Do schools kill creativity? | creativity |\n",
       "| 3 | 3 | Do schools kill creativity? | culture    |\n",
       "| 4 | 4 | Do schools kill creativity? | dance      |\n",
       "| 5 | 5 | Do schools kill creativity? | education  |\n",
       "| 6 | 6 | Do schools kill creativity? | parenting  |\n",
       "\n"
      ],
      "text/plain": [
       "  X title                       tags      \n",
       "1 1 Do schools kill creativity? children  \n",
       "2 2 Do schools kill creativity? creativity\n",
       "3 3 Do schools kill creativity? culture   \n",
       "4 4 Do schools kill creativity? dance     \n",
       "5 5 Do schools kill creativity? education \n",
       "6 6 Do schools kill creativity? parenting "
      ]
     },
     "metadata": {},
     "output_type": "display_data"
    }
   ],
   "source": [
    "tedTags <- read.csv(\"ted_tags.csv\")\n",
    "head(tedTags)"
   ]
  },
  {
   "cell_type": "markdown",
   "metadata": {},
   "source": [
    "5. Count the number of rows in your main dataset, create a copy of your dataset and join in with the tags. How many rows do you have now? Why?"
   ]
  },
  {
   "cell_type": "code",
   "execution_count": 56,
   "metadata": {},
   "outputs": [
    {
     "data": {
      "text/html": [
       "19154"
      ],
      "text/latex": [
       "19154"
      ],
      "text/markdown": [
       "19154"
      ],
      "text/plain": [
       "[1] 19154"
      ]
     },
     "metadata": {},
     "output_type": "display_data"
    },
    {
     "data": {
      "text/html": [
       "2550"
      ],
      "text/latex": [
       "2550"
      ],
      "text/markdown": [
       "2550"
      ],
      "text/plain": [
       "[1] 2550"
      ]
     },
     "metadata": {},
     "output_type": "display_data"
    },
    {
     "data": {
      "text/html": [
       "<table class=\"dataframe\">\n",
       "<caption>A data.frame: 6 × 18</caption>\n",
       "<thead>\n",
       "\t<tr><th></th><th scope=col>X.x</th><th scope=col>comments</th><th scope=col>description</th><th scope=col>duration</th><th scope=col>event</th><th scope=col>film_date</th><th scope=col>languages</th><th scope=col>main_speaker</th><th scope=col>name</th><th scope=col>num_speaker</th><th scope=col>published_date</th><th scope=col>speaker_occupation</th><th scope=col>title</th><th scope=col>url</th><th scope=col>views</th><th scope=col>percentViews</th><th scope=col>X.y</th><th scope=col>tags</th></tr>\n",
       "\t<tr><th></th><th scope=col>&lt;int&gt;</th><th scope=col>&lt;int&gt;</th><th scope=col>&lt;chr&gt;</th><th scope=col>&lt;int&gt;</th><th scope=col>&lt;chr&gt;</th><th scope=col>&lt;int&gt;</th><th scope=col>&lt;int&gt;</th><th scope=col>&lt;chr&gt;</th><th scope=col>&lt;chr&gt;</th><th scope=col>&lt;int&gt;</th><th scope=col>&lt;int&gt;</th><th scope=col>&lt;chr&gt;</th><th scope=col>&lt;chr&gt;</th><th scope=col>&lt;chr&gt;</th><th scope=col>&lt;int&gt;</th><th scope=col>&lt;dbl&gt;</th><th scope=col>&lt;int&gt;</th><th scope=col>&lt;chr&gt;</th></tr>\n",
       "</thead>\n",
       "<tbody>\n",
       "\t<tr><th scope=row>1</th><td>1</td><td>4553</td><td>Sir Ken Robinson makes an entertaining and profoundly moving case for creating an education system that nurtures (rather than undermines) creativity.</td><td>1164</td><td>TED2006</td><td>1140825600</td><td>60</td><td>Ken Robinson</td><td>Ken Robinson: Do schools kill creativity?</td><td>1</td><td>1151367060</td><td>Author/educator</td><td>Do schools kill creativity?</td><td>https://www.ted.com/talks/ken_robinson_says_schools_kill_creativity\n",
       "</td><td>47227110</td><td>1.09053</td><td>1</td><td>children  </td></tr>\n",
       "\t<tr><th scope=row>2</th><td>1</td><td>4553</td><td>Sir Ken Robinson makes an entertaining and profoundly moving case for creating an education system that nurtures (rather than undermines) creativity.</td><td>1164</td><td>TED2006</td><td>1140825600</td><td>60</td><td>Ken Robinson</td><td>Ken Robinson: Do schools kill creativity?</td><td>1</td><td>1151367060</td><td>Author/educator</td><td>Do schools kill creativity?</td><td>https://www.ted.com/talks/ken_robinson_says_schools_kill_creativity\n",
       "</td><td>47227110</td><td>1.09053</td><td>2</td><td>creativity</td></tr>\n",
       "\t<tr><th scope=row>3</th><td>1</td><td>4553</td><td>Sir Ken Robinson makes an entertaining and profoundly moving case for creating an education system that nurtures (rather than undermines) creativity.</td><td>1164</td><td>TED2006</td><td>1140825600</td><td>60</td><td>Ken Robinson</td><td>Ken Robinson: Do schools kill creativity?</td><td>1</td><td>1151367060</td><td>Author/educator</td><td>Do schools kill creativity?</td><td>https://www.ted.com/talks/ken_robinson_says_schools_kill_creativity\n",
       "</td><td>47227110</td><td>1.09053</td><td>3</td><td>culture   </td></tr>\n",
       "\t<tr><th scope=row>4</th><td>1</td><td>4553</td><td>Sir Ken Robinson makes an entertaining and profoundly moving case for creating an education system that nurtures (rather than undermines) creativity.</td><td>1164</td><td>TED2006</td><td>1140825600</td><td>60</td><td>Ken Robinson</td><td>Ken Robinson: Do schools kill creativity?</td><td>1</td><td>1151367060</td><td>Author/educator</td><td>Do schools kill creativity?</td><td>https://www.ted.com/talks/ken_robinson_says_schools_kill_creativity\n",
       "</td><td>47227110</td><td>1.09053</td><td>4</td><td>dance     </td></tr>\n",
       "\t<tr><th scope=row>5</th><td>1</td><td>4553</td><td>Sir Ken Robinson makes an entertaining and profoundly moving case for creating an education system that nurtures (rather than undermines) creativity.</td><td>1164</td><td>TED2006</td><td>1140825600</td><td>60</td><td>Ken Robinson</td><td>Ken Robinson: Do schools kill creativity?</td><td>1</td><td>1151367060</td><td>Author/educator</td><td>Do schools kill creativity?</td><td>https://www.ted.com/talks/ken_robinson_says_schools_kill_creativity\n",
       "</td><td>47227110</td><td>1.09053</td><td>5</td><td>education </td></tr>\n",
       "\t<tr><th scope=row>6</th><td>1</td><td>4553</td><td>Sir Ken Robinson makes an entertaining and profoundly moving case for creating an education system that nurtures (rather than undermines) creativity.</td><td>1164</td><td>TED2006</td><td>1140825600</td><td>60</td><td>Ken Robinson</td><td>Ken Robinson: Do schools kill creativity?</td><td>1</td><td>1151367060</td><td>Author/educator</td><td>Do schools kill creativity?</td><td>https://www.ted.com/talks/ken_robinson_says_schools_kill_creativity\n",
       "</td><td>47227110</td><td>1.09053</td><td>6</td><td>parenting </td></tr>\n",
       "</tbody>\n",
       "</table>\n"
      ],
      "text/latex": [
       "A data.frame: 6 × 18\n",
       "\\begin{tabular}{r|llllllllllllllllll}\n",
       "  & X.x & comments & description & duration & event & film\\_date & languages & main\\_speaker & name & num\\_speaker & published\\_date & speaker\\_occupation & title & url & views & percentViews & X.y & tags\\\\\n",
       "  & <int> & <int> & <chr> & <int> & <chr> & <int> & <int> & <chr> & <chr> & <int> & <int> & <chr> & <chr> & <chr> & <int> & <dbl> & <int> & <chr>\\\\\n",
       "\\hline\n",
       "\t1 & 1 & 4553 & Sir Ken Robinson makes an entertaining and profoundly moving case for creating an education system that nurtures (rather than undermines) creativity. & 1164 & TED2006 & 1140825600 & 60 & Ken Robinson & Ken Robinson: Do schools kill creativity? & 1 & 1151367060 & Author/educator & Do schools kill creativity? & https://www.ted.com/talks/ken\\_robinson\\_says\\_schools\\_kill\\_creativity\n",
       " & 47227110 & 1.09053 & 1 & children  \\\\\n",
       "\t2 & 1 & 4553 & Sir Ken Robinson makes an entertaining and profoundly moving case for creating an education system that nurtures (rather than undermines) creativity. & 1164 & TED2006 & 1140825600 & 60 & Ken Robinson & Ken Robinson: Do schools kill creativity? & 1 & 1151367060 & Author/educator & Do schools kill creativity? & https://www.ted.com/talks/ken\\_robinson\\_says\\_schools\\_kill\\_creativity\n",
       " & 47227110 & 1.09053 & 2 & creativity\\\\\n",
       "\t3 & 1 & 4553 & Sir Ken Robinson makes an entertaining and profoundly moving case for creating an education system that nurtures (rather than undermines) creativity. & 1164 & TED2006 & 1140825600 & 60 & Ken Robinson & Ken Robinson: Do schools kill creativity? & 1 & 1151367060 & Author/educator & Do schools kill creativity? & https://www.ted.com/talks/ken\\_robinson\\_says\\_schools\\_kill\\_creativity\n",
       " & 47227110 & 1.09053 & 3 & culture   \\\\\n",
       "\t4 & 1 & 4553 & Sir Ken Robinson makes an entertaining and profoundly moving case for creating an education system that nurtures (rather than undermines) creativity. & 1164 & TED2006 & 1140825600 & 60 & Ken Robinson & Ken Robinson: Do schools kill creativity? & 1 & 1151367060 & Author/educator & Do schools kill creativity? & https://www.ted.com/talks/ken\\_robinson\\_says\\_schools\\_kill\\_creativity\n",
       " & 47227110 & 1.09053 & 4 & dance     \\\\\n",
       "\t5 & 1 & 4553 & Sir Ken Robinson makes an entertaining and profoundly moving case for creating an education system that nurtures (rather than undermines) creativity. & 1164 & TED2006 & 1140825600 & 60 & Ken Robinson & Ken Robinson: Do schools kill creativity? & 1 & 1151367060 & Author/educator & Do schools kill creativity? & https://www.ted.com/talks/ken\\_robinson\\_says\\_schools\\_kill\\_creativity\n",
       " & 47227110 & 1.09053 & 5 & education \\\\\n",
       "\t6 & 1 & 4553 & Sir Ken Robinson makes an entertaining and profoundly moving case for creating an education system that nurtures (rather than undermines) creativity. & 1164 & TED2006 & 1140825600 & 60 & Ken Robinson & Ken Robinson: Do schools kill creativity? & 1 & 1151367060 & Author/educator & Do schools kill creativity? & https://www.ted.com/talks/ken\\_robinson\\_says\\_schools\\_kill\\_creativity\n",
       " & 47227110 & 1.09053 & 6 & parenting \\\\\n",
       "\\end{tabular}\n"
      ],
      "text/markdown": [
       "\n",
       "A data.frame: 6 × 18\n",
       "\n",
       "| <!--/--> | X.x &lt;int&gt; | comments &lt;int&gt; | description &lt;chr&gt; | duration &lt;int&gt; | event &lt;chr&gt; | film_date &lt;int&gt; | languages &lt;int&gt; | main_speaker &lt;chr&gt; | name &lt;chr&gt; | num_speaker &lt;int&gt; | published_date &lt;int&gt; | speaker_occupation &lt;chr&gt; | title &lt;chr&gt; | url &lt;chr&gt; | views &lt;int&gt; | percentViews &lt;dbl&gt; | X.y &lt;int&gt; | tags &lt;chr&gt; |\n",
       "|---|---|---|---|---|---|---|---|---|---|---|---|---|---|---|---|---|---|---|\n",
       "| 1 | 1 | 4553 | Sir Ken Robinson makes an entertaining and profoundly moving case for creating an education system that nurtures (rather than undermines) creativity. | 1164 | TED2006 | 1140825600 | 60 | Ken Robinson | Ken Robinson: Do schools kill creativity? | 1 | 1151367060 | Author/educator | Do schools kill creativity? | https://www.ted.com/talks/ken_robinson_says_schools_kill_creativity\n",
       " | 47227110 | 1.09053 | 1 | children   |\n",
       "| 2 | 1 | 4553 | Sir Ken Robinson makes an entertaining and profoundly moving case for creating an education system that nurtures (rather than undermines) creativity. | 1164 | TED2006 | 1140825600 | 60 | Ken Robinson | Ken Robinson: Do schools kill creativity? | 1 | 1151367060 | Author/educator | Do schools kill creativity? | https://www.ted.com/talks/ken_robinson_says_schools_kill_creativity\n",
       " | 47227110 | 1.09053 | 2 | creativity |\n",
       "| 3 | 1 | 4553 | Sir Ken Robinson makes an entertaining and profoundly moving case for creating an education system that nurtures (rather than undermines) creativity. | 1164 | TED2006 | 1140825600 | 60 | Ken Robinson | Ken Robinson: Do schools kill creativity? | 1 | 1151367060 | Author/educator | Do schools kill creativity? | https://www.ted.com/talks/ken_robinson_says_schools_kill_creativity\n",
       " | 47227110 | 1.09053 | 3 | culture    |\n",
       "| 4 | 1 | 4553 | Sir Ken Robinson makes an entertaining and profoundly moving case for creating an education system that nurtures (rather than undermines) creativity. | 1164 | TED2006 | 1140825600 | 60 | Ken Robinson | Ken Robinson: Do schools kill creativity? | 1 | 1151367060 | Author/educator | Do schools kill creativity? | https://www.ted.com/talks/ken_robinson_says_schools_kill_creativity\n",
       " | 47227110 | 1.09053 | 4 | dance      |\n",
       "| 5 | 1 | 4553 | Sir Ken Robinson makes an entertaining and profoundly moving case for creating an education system that nurtures (rather than undermines) creativity. | 1164 | TED2006 | 1140825600 | 60 | Ken Robinson | Ken Robinson: Do schools kill creativity? | 1 | 1151367060 | Author/educator | Do schools kill creativity? | https://www.ted.com/talks/ken_robinson_says_schools_kill_creativity\n",
       " | 47227110 | 1.09053 | 5 | education  |\n",
       "| 6 | 1 | 4553 | Sir Ken Robinson makes an entertaining and profoundly moving case for creating an education system that nurtures (rather than undermines) creativity. | 1164 | TED2006 | 1140825600 | 60 | Ken Robinson | Ken Robinson: Do schools kill creativity? | 1 | 1151367060 | Author/educator | Do schools kill creativity? | https://www.ted.com/talks/ken_robinson_says_schools_kill_creativity\n",
       " | 47227110 | 1.09053 | 6 | parenting  |\n",
       "\n"
      ],
      "text/plain": [
       "  X.x comments\n",
       "1 1   4553    \n",
       "2 1   4553    \n",
       "3 1   4553    \n",
       "4 1   4553    \n",
       "5 1   4553    \n",
       "6 1   4553    \n",
       "  description                                                                                                                                          \n",
       "1 Sir Ken Robinson makes an entertaining and profoundly moving case for creating an education system that nurtures (rather than undermines) creativity.\n",
       "2 Sir Ken Robinson makes an entertaining and profoundly moving case for creating an education system that nurtures (rather than undermines) creativity.\n",
       "3 Sir Ken Robinson makes an entertaining and profoundly moving case for creating an education system that nurtures (rather than undermines) creativity.\n",
       "4 Sir Ken Robinson makes an entertaining and profoundly moving case for creating an education system that nurtures (rather than undermines) creativity.\n",
       "5 Sir Ken Robinson makes an entertaining and profoundly moving case for creating an education system that nurtures (rather than undermines) creativity.\n",
       "6 Sir Ken Robinson makes an entertaining and profoundly moving case for creating an education system that nurtures (rather than undermines) creativity.\n",
       "  duration event   film_date  languages main_speaker\n",
       "1 1164     TED2006 1140825600 60        Ken Robinson\n",
       "2 1164     TED2006 1140825600 60        Ken Robinson\n",
       "3 1164     TED2006 1140825600 60        Ken Robinson\n",
       "4 1164     TED2006 1140825600 60        Ken Robinson\n",
       "5 1164     TED2006 1140825600 60        Ken Robinson\n",
       "6 1164     TED2006 1140825600 60        Ken Robinson\n",
       "  name                                      num_speaker published_date\n",
       "1 Ken Robinson: Do schools kill creativity? 1           1151367060    \n",
       "2 Ken Robinson: Do schools kill creativity? 1           1151367060    \n",
       "3 Ken Robinson: Do schools kill creativity? 1           1151367060    \n",
       "4 Ken Robinson: Do schools kill creativity? 1           1151367060    \n",
       "5 Ken Robinson: Do schools kill creativity? 1           1151367060    \n",
       "6 Ken Robinson: Do schools kill creativity? 1           1151367060    \n",
       "  speaker_occupation title                      \n",
       "1 Author/educator    Do schools kill creativity?\n",
       "2 Author/educator    Do schools kill creativity?\n",
       "3 Author/educator    Do schools kill creativity?\n",
       "4 Author/educator    Do schools kill creativity?\n",
       "5 Author/educator    Do schools kill creativity?\n",
       "6 Author/educator    Do schools kill creativity?\n",
       "  url                                                                  \n",
       "1 https://www.ted.com/talks/ken_robinson_says_schools_kill_creativity\\n\n",
       "2 https://www.ted.com/talks/ken_robinson_says_schools_kill_creativity\\n\n",
       "3 https://www.ted.com/talks/ken_robinson_says_schools_kill_creativity\\n\n",
       "4 https://www.ted.com/talks/ken_robinson_says_schools_kill_creativity\\n\n",
       "5 https://www.ted.com/talks/ken_robinson_says_schools_kill_creativity\\n\n",
       "6 https://www.ted.com/talks/ken_robinson_says_schools_kill_creativity\\n\n",
       "  views    percentViews X.y tags      \n",
       "1 47227110 1.09053      1   children  \n",
       "2 47227110 1.09053      2   creativity\n",
       "3 47227110 1.09053      3   culture   \n",
       "4 47227110 1.09053      4   dance     \n",
       "5 47227110 1.09053      5   education \n",
       "6 47227110 1.09053      6   parenting "
      ]
     },
     "metadata": {},
     "output_type": "display_data"
    },
    {
     "data": {
      "text/html": [
       "19154"
      ],
      "text/latex": [
       "19154"
      ],
      "text/markdown": [
       "19154"
      ],
      "text/plain": [
       "[1] 19154"
      ]
     },
     "metadata": {},
     "output_type": "display_data"
    }
   ],
   "source": [
    "nrow(tedTags)\n",
    "nrow(ted)\n",
    "tedAndTedTags <- inner_join(ted, tedTags, by = \"title\")\n",
    "head(tedAndTedTags)\n",
    "nrow(tedAndTedTags)"
   ]
  },
  {
   "cell_type": "markdown",
   "metadata": {},
   "source": [
    "6. Are there any talks which don't have a corresponding entry in ted tags"
   ]
  },
  {
   "cell_type": "code",
   "execution_count": 57,
   "metadata": {},
   "outputs": [
    {
     "data": {
      "text/html": [
       "TRUE"
      ],
      "text/latex": [
       "TRUE"
      ],
      "text/markdown": [
       "TRUE"
      ],
      "text/plain": [
       "[1] TRUE"
      ]
     },
     "metadata": {},
     "output_type": "display_data"
    }
   ],
   "source": [
    "nrow(tedTags) == nrow(tedAndTedTags)"
   ]
  },
  {
   "cell_type": "markdown",
   "metadata": {},
   "source": [
    "7. Which is the most popular tag"
   ]
  },
  {
   "cell_type": "code",
   "execution_count": 59,
   "metadata": {},
   "outputs": [
    {
     "name": "stderr",
     "output_type": "stream",
     "text": [
      "\u001b[1m\u001b[22mSelecting by n\n"
     ]
    },
    {
     "data": {
      "text/html": [
       "<table class=\"dataframe\">\n",
       "<caption>A tibble: 5 × 2</caption>\n",
       "<thead>\n",
       "\t<tr><th scope=col>tags</th><th scope=col>n</th></tr>\n",
       "\t<tr><th scope=col>&lt;chr&gt;</th><th scope=col>&lt;int&gt;</th></tr>\n",
       "</thead>\n",
       "<tbody>\n",
       "\t<tr><td>technology  </td><td>727</td></tr>\n",
       "\t<tr><td>science     </td><td>567</td></tr>\n",
       "\t<tr><td>globalissues</td><td>501</td></tr>\n",
       "\t<tr><td>culture     </td><td>486</td></tr>\n",
       "\t<tr><td>TEDx        </td><td>450</td></tr>\n",
       "</tbody>\n",
       "</table>\n"
      ],
      "text/latex": [
       "A tibble: 5 × 2\n",
       "\\begin{tabular}{ll}\n",
       " tags & n\\\\\n",
       " <chr> & <int>\\\\\n",
       "\\hline\n",
       "\t technology   & 727\\\\\n",
       "\t science      & 567\\\\\n",
       "\t globalissues & 501\\\\\n",
       "\t culture      & 486\\\\\n",
       "\t TEDx         & 450\\\\\n",
       "\\end{tabular}\n"
      ],
      "text/markdown": [
       "\n",
       "A tibble: 5 × 2\n",
       "\n",
       "| tags &lt;chr&gt; | n &lt;int&gt; |\n",
       "|---|---|\n",
       "| technology   | 727 |\n",
       "| science      | 567 |\n",
       "| globalissues | 501 |\n",
       "| culture      | 486 |\n",
       "| TEDx         | 450 |\n",
       "\n"
      ],
      "text/plain": [
       "  tags         n  \n",
       "1 technology   727\n",
       "2 science      567\n",
       "3 globalissues 501\n",
       "4 culture      486\n",
       "5 TEDx         450"
      ]
     },
     "metadata": {},
     "output_type": "display_data"
    }
   ],
   "source": [
    "tedAndTedTags %>% group_by(tags) %>%\n",
    "        summarise(n = n(), \n",
    "                              .groups = 'drop') %>%\n",
    "        arrange(desc(n)) %>% top_n(5)"
   ]
  },
  {
   "cell_type": "markdown",
   "metadata": {},
   "source": [
    "8. Calculate each event's percentage contribution to the total number of talks"
   ]
  },
  {
   "cell_type": "code",
   "execution_count": 75,
   "metadata": {},
   "outputs": [
    {
     "data": {
      "text/html": [
       "<table class=\"dataframe\">\n",
       "<caption>A data.frame: 19154 × 1</caption>\n",
       "<thead>\n",
       "\t<tr><th scope=col>eventPercentageContribution</th></tr>\n",
       "\t<tr><th scope=col>&lt;dbl&gt;</th></tr>\n",
       "</thead>\n",
       "<tbody>\n",
       "\t<tr><td>1.73331941</td></tr>\n",
       "\t<tr><td>1.73331941</td></tr>\n",
       "\t<tr><td>1.73331941</td></tr>\n",
       "\t<tr><td>1.73331941</td></tr>\n",
       "\t<tr><td>1.73331941</td></tr>\n",
       "\t<tr><td>1.73331941</td></tr>\n",
       "\t<tr><td>1.73331941</td></tr>\n",
       "\t<tr><td>3.06463402</td></tr>\n",
       "\t<tr><td>3.06463402</td></tr>\n",
       "\t<tr><td>3.06463402</td></tr>\n",
       "\t<tr><td>3.06463402</td></tr>\n",
       "\t<tr><td>3.06463402</td></tr>\n",
       "\t<tr><td>3.06463402</td></tr>\n",
       "\t<tr><td>0.02610421</td></tr>\n",
       "\t<tr><td>0.02610421</td></tr>\n",
       "\t<tr><td>0.02610421</td></tr>\n",
       "\t<tr><td>0.02610421</td></tr>\n",
       "\t<tr><td>0.02610421</td></tr>\n",
       "\t<tr><td>0.08353347</td></tr>\n",
       "\t<tr><td>0.08353347</td></tr>\n",
       "\t<tr><td>0.08353347</td></tr>\n",
       "\t<tr><td>0.08353347</td></tr>\n",
       "\t<tr><td>0.08353347</td></tr>\n",
       "\t<tr><td>0.08353347</td></tr>\n",
       "\t<tr><td>0.08353347</td></tr>\n",
       "\t<tr><td>0.08353347</td></tr>\n",
       "\t<tr><td>0.08353347</td></tr>\n",
       "\t<tr><td>2.90278793</td></tr>\n",
       "\t<tr><td>2.90278793</td></tr>\n",
       "\t<tr><td>2.90278793</td></tr>\n",
       "\t<tr><td>⋮</td></tr>\n",
       "\t<tr><td>0.02088337</td></tr>\n",
       "\t<tr><td>0.02088337</td></tr>\n",
       "\t<tr><td>0.02088337</td></tr>\n",
       "\t<tr><td>0.13052104</td></tr>\n",
       "\t<tr><td>0.13052104</td></tr>\n",
       "\t<tr><td>0.13052104</td></tr>\n",
       "\t<tr><td>0.13052104</td></tr>\n",
       "\t<tr><td>0.06787094</td></tr>\n",
       "\t<tr><td>0.06787094</td></tr>\n",
       "\t<tr><td>0.06787094</td></tr>\n",
       "\t<tr><td>0.06787094</td></tr>\n",
       "\t<tr><td>0.02088337</td></tr>\n",
       "\t<tr><td>0.02088337</td></tr>\n",
       "\t<tr><td>0.02088337</td></tr>\n",
       "\t<tr><td>0.02088337</td></tr>\n",
       "\t<tr><td>0.97629738</td></tr>\n",
       "\t<tr><td>0.97629738</td></tr>\n",
       "\t<tr><td>0.97629738</td></tr>\n",
       "\t<tr><td>0.97629738</td></tr>\n",
       "\t<tr><td>0.97629738</td></tr>\n",
       "\t<tr><td>0.38112144</td></tr>\n",
       "\t<tr><td>0.38112144</td></tr>\n",
       "\t<tr><td>0.38112144</td></tr>\n",
       "\t<tr><td>0.38112144</td></tr>\n",
       "\t<tr><td>0.38112144</td></tr>\n",
       "\t<tr><td>0.06787094</td></tr>\n",
       "\t<tr><td>0.06787094</td></tr>\n",
       "\t<tr><td>0.06787094</td></tr>\n",
       "\t<tr><td>0.06787094</td></tr>\n",
       "\t<tr><td>0.06787094</td></tr>\n",
       "</tbody>\n",
       "</table>\n"
      ],
      "text/latex": [
       "A data.frame: 19154 × 1\n",
       "\\begin{tabular}{l}\n",
       " eventPercentageContribution\\\\\n",
       " <dbl>\\\\\n",
       "\\hline\n",
       "\t 1.73331941\\\\\n",
       "\t 1.73331941\\\\\n",
       "\t 1.73331941\\\\\n",
       "\t 1.73331941\\\\\n",
       "\t 1.73331941\\\\\n",
       "\t 1.73331941\\\\\n",
       "\t 1.73331941\\\\\n",
       "\t 3.06463402\\\\\n",
       "\t 3.06463402\\\\\n",
       "\t 3.06463402\\\\\n",
       "\t 3.06463402\\\\\n",
       "\t 3.06463402\\\\\n",
       "\t 3.06463402\\\\\n",
       "\t 0.02610421\\\\\n",
       "\t 0.02610421\\\\\n",
       "\t 0.02610421\\\\\n",
       "\t 0.02610421\\\\\n",
       "\t 0.02610421\\\\\n",
       "\t 0.08353347\\\\\n",
       "\t 0.08353347\\\\\n",
       "\t 0.08353347\\\\\n",
       "\t 0.08353347\\\\\n",
       "\t 0.08353347\\\\\n",
       "\t 0.08353347\\\\\n",
       "\t 0.08353347\\\\\n",
       "\t 0.08353347\\\\\n",
       "\t 0.08353347\\\\\n",
       "\t 2.90278793\\\\\n",
       "\t 2.90278793\\\\\n",
       "\t 2.90278793\\\\\n",
       "\t ⋮\\\\\n",
       "\t 0.02088337\\\\\n",
       "\t 0.02088337\\\\\n",
       "\t 0.02088337\\\\\n",
       "\t 0.13052104\\\\\n",
       "\t 0.13052104\\\\\n",
       "\t 0.13052104\\\\\n",
       "\t 0.13052104\\\\\n",
       "\t 0.06787094\\\\\n",
       "\t 0.06787094\\\\\n",
       "\t 0.06787094\\\\\n",
       "\t 0.06787094\\\\\n",
       "\t 0.02088337\\\\\n",
       "\t 0.02088337\\\\\n",
       "\t 0.02088337\\\\\n",
       "\t 0.02088337\\\\\n",
       "\t 0.97629738\\\\\n",
       "\t 0.97629738\\\\\n",
       "\t 0.97629738\\\\\n",
       "\t 0.97629738\\\\\n",
       "\t 0.97629738\\\\\n",
       "\t 0.38112144\\\\\n",
       "\t 0.38112144\\\\\n",
       "\t 0.38112144\\\\\n",
       "\t 0.38112144\\\\\n",
       "\t 0.38112144\\\\\n",
       "\t 0.06787094\\\\\n",
       "\t 0.06787094\\\\\n",
       "\t 0.06787094\\\\\n",
       "\t 0.06787094\\\\\n",
       "\t 0.06787094\\\\\n",
       "\\end{tabular}\n"
      ],
      "text/markdown": [
       "\n",
       "A data.frame: 19154 × 1\n",
       "\n",
       "| eventPercentageContribution &lt;dbl&gt; |\n",
       "|---|\n",
       "| 1.73331941 |\n",
       "| 1.73331941 |\n",
       "| 1.73331941 |\n",
       "| 1.73331941 |\n",
       "| 1.73331941 |\n",
       "| 1.73331941 |\n",
       "| 1.73331941 |\n",
       "| 3.06463402 |\n",
       "| 3.06463402 |\n",
       "| 3.06463402 |\n",
       "| 3.06463402 |\n",
       "| 3.06463402 |\n",
       "| 3.06463402 |\n",
       "| 0.02610421 |\n",
       "| 0.02610421 |\n",
       "| 0.02610421 |\n",
       "| 0.02610421 |\n",
       "| 0.02610421 |\n",
       "| 0.08353347 |\n",
       "| 0.08353347 |\n",
       "| 0.08353347 |\n",
       "| 0.08353347 |\n",
       "| 0.08353347 |\n",
       "| 0.08353347 |\n",
       "| 0.08353347 |\n",
       "| 0.08353347 |\n",
       "| 0.08353347 |\n",
       "| 2.90278793 |\n",
       "| 2.90278793 |\n",
       "| 2.90278793 |\n",
       "| ⋮ |\n",
       "| 0.02088337 |\n",
       "| 0.02088337 |\n",
       "| 0.02088337 |\n",
       "| 0.13052104 |\n",
       "| 0.13052104 |\n",
       "| 0.13052104 |\n",
       "| 0.13052104 |\n",
       "| 0.06787094 |\n",
       "| 0.06787094 |\n",
       "| 0.06787094 |\n",
       "| 0.06787094 |\n",
       "| 0.02088337 |\n",
       "| 0.02088337 |\n",
       "| 0.02088337 |\n",
       "| 0.02088337 |\n",
       "| 0.97629738 |\n",
       "| 0.97629738 |\n",
       "| 0.97629738 |\n",
       "| 0.97629738 |\n",
       "| 0.97629738 |\n",
       "| 0.38112144 |\n",
       "| 0.38112144 |\n",
       "| 0.38112144 |\n",
       "| 0.38112144 |\n",
       "| 0.38112144 |\n",
       "| 0.06787094 |\n",
       "| 0.06787094 |\n",
       "| 0.06787094 |\n",
       "| 0.06787094 |\n",
       "| 0.06787094 |\n",
       "\n"
      ],
      "text/plain": [
       "      eventPercentageContribution\n",
       "1     1.73331941                 \n",
       "2     1.73331941                 \n",
       "3     1.73331941                 \n",
       "4     1.73331941                 \n",
       "5     1.73331941                 \n",
       "6     1.73331941                 \n",
       "7     1.73331941                 \n",
       "8     3.06463402                 \n",
       "9     3.06463402                 \n",
       "10    3.06463402                 \n",
       "11    3.06463402                 \n",
       "12    3.06463402                 \n",
       "13    3.06463402                 \n",
       "14    0.02610421                 \n",
       "15    0.02610421                 \n",
       "16    0.02610421                 \n",
       "17    0.02610421                 \n",
       "18    0.02610421                 \n",
       "19    0.08353347                 \n",
       "20    0.08353347                 \n",
       "21    0.08353347                 \n",
       "22    0.08353347                 \n",
       "23    0.08353347                 \n",
       "24    0.08353347                 \n",
       "25    0.08353347                 \n",
       "26    0.08353347                 \n",
       "27    0.08353347                 \n",
       "28    2.90278793                 \n",
       "29    2.90278793                 \n",
       "30    2.90278793                 \n",
       "⋮     ⋮                          \n",
       "19125 0.02088337                 \n",
       "19126 0.02088337                 \n",
       "19127 0.02088337                 \n",
       "19128 0.13052104                 \n",
       "19129 0.13052104                 \n",
       "19130 0.13052104                 \n",
       "19131 0.13052104                 \n",
       "19132 0.06787094                 \n",
       "19133 0.06787094                 \n",
       "19134 0.06787094                 \n",
       "19135 0.06787094                 \n",
       "19136 0.02088337                 \n",
       "19137 0.02088337                 \n",
       "19138 0.02088337                 \n",
       "19139 0.02088337                 \n",
       "19140 0.97629738                 \n",
       "19141 0.97629738                 \n",
       "19142 0.97629738                 \n",
       "19143 0.97629738                 \n",
       "19144 0.97629738                 \n",
       "19145 0.38112144                 \n",
       "19146 0.38112144                 \n",
       "19147 0.38112144                 \n",
       "19148 0.38112144                 \n",
       "19149 0.38112144                 \n",
       "19150 0.06787094                 \n",
       "19151 0.06787094                 \n",
       "19152 0.06787094                 \n",
       "19153 0.06787094                 \n",
       "19154 0.06787094                 "
      ]
     },
     "metadata": {},
     "output_type": "display_data"
    }
   ],
   "source": [
    "tedEventsCounted <- tedAndTedTags %>% group_by(event) %>%\n",
    "        summarise(totalTalksInEvent = n(), \n",
    "                              .groups = 'drop') %>%\n",
    "        arrange(desc(totalTalksInEvent)) \n",
    "tedAndTedTagsWithEventsConted <- inner_join(tedAndTedTags, tedEventsCounted, by = \"event\")\n",
    "# head(tedAndTedTagsWithEventsConted)\n",
    "tedAndTedTagsWithEventsConted <-\n",
    "    mutate(tedAndTedTagsWithEventsConted, \n",
    "       eventPercentageContribution = (totalTalksInEvent * 100) / nrow(tedAndTedTagsWithEventsConted))\n",
    "select(tedAndTedTagsWithEventsConted, c(eventPercentageContribution))\n",
    "# tedAndTedTagsWithEventsConted %>% group_by(event, eventPercentageContribution) %>%\n",
    "#     summarise(event = all(event), eventPercentageContributions = all(eventPercentageContributions))\n",
    "    "
   ]
  }
 ],
 "metadata": {
  "kernelspec": {
   "display_name": "R",
   "language": "R",
   "name": "ir"
  },
  "language_info": {
   "codemirror_mode": "r",
   "file_extension": ".r",
   "mimetype": "text/x-r-source",
   "name": "R",
   "pygments_lexer": "r",
   "version": "4.2.1"
  }
 },
 "nbformat": 4,
 "nbformat_minor": 4
}
