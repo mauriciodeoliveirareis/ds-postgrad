{
 "cells": [
  {
   "cell_type": "markdown",
   "metadata": {},
   "source": [
    "# Summary Statistics Lecture Practical\n",
    "\n",
    "This notebook can be used to follow along with the lecture notes. "
   ]
  },
  {
   "cell_type": "code",
   "execution_count": 22,
   "metadata": {},
   "outputs": [],
   "source": [
    "url <- 'http://archive.ics.uci.edu/ml/machine-learning-databases/00222/bank.zip'\n",
    "download.file(url, destfile = 'bank.zip')\n",
    "unzip('bank.zip', list = T)"
   ]
  },
  {
   "cell_type": "markdown",
   "metadata": {},
   "source": [
    "## Data Description\n",
    "\n",
    "### Numeric Data\n",
    "\n",
    "1. age\n",
    "2. balance\n",
    "3. contact day\n",
    "4. duration\n",
    "5. campaign contacts\n",
    "6. previous contacts\n",
    "7. previous days (-1, no previous contact)\n",
    "\n",
    "\n",
    "### Categorical Data\n",
    "\n",
    "1. job (11) { ’admin’, ’entrepreneur’. . . }\n",
    "2. marital (3) { ’divorced’, ’married’, ’single’ } \n",
    "3. education (3) { ’primary’, ’secondary’. . . }\n",
    "4. default (2) { ’yes’, ’no’ }\n",
    "5. housing loan (2) { ’yes’, ’no’ }\n",
    "6. Personal loan (2) { ’yes’, ’no’ }\n",
    "7. contact type (2) { ’telephone’, ’cellular’ }\n",
    "8. contact month (12) { ’jan’, ’feb’. . . }\n",
    "9. previous outcome (3) { ’success’, ’failure’. . . }\n",
    "10. subscribed (2) { ’yes’, ’no’ }\n"
   ]
  },
  {
   "cell_type": "markdown",
   "metadata": {},
   "source": [
    "## Task 1: Import the data into R\n",
    "\n",
    "Make sure you run the initial steps in the cell above to download and unzip the dataset. Then import the data into R, you may need to manually inspect the dataset to get an idea of the format. Save the dataframe in a variable called bankData."
   ]
  },
  {
   "cell_type": "code",
   "execution_count": 68,
   "metadata": {},
   "outputs": [],
   "source": [
    "bankData <- read.csv('bank-full.csv', sep=\";\", na.strings=c(\"\",\"unknown\",\"NA\"))"
   ]
  },
  {
   "cell_type": "markdown",
   "metadata": {},
   "source": [
    "## Task 2: Basic Checks\n",
    "\n",
    "Before we get to work on the dataframe we want to perform some basic checks. First, get an idea of the size of the dataset by checking the number of columns and rows. Then double check the first few and last few rows of the dataframe to make sure there were no problems with the import"
   ]
  },
  {
   "cell_type": "code",
   "execution_count": 69,
   "metadata": {},
   "outputs": [
    {
     "data": {
      "text/html": [
       "17"
      ],
      "text/latex": [
       "17"
      ],
      "text/markdown": [
       "17"
      ],
      "text/plain": [
       "[1] 17"
      ]
     },
     "metadata": {},
     "output_type": "display_data"
    },
    {
     "data": {
      "text/html": [
       "45211"
      ],
      "text/latex": [
       "45211"
      ],
      "text/markdown": [
       "45211"
      ],
      "text/plain": [
       "[1] 45211"
      ]
     },
     "metadata": {},
     "output_type": "display_data"
    },
    {
     "data": {
      "text/html": [
       "<table class=\"dataframe\">\n",
       "<caption>A data.frame: 6 × 17</caption>\n",
       "<thead>\n",
       "\t<tr><th></th><th scope=col>age</th><th scope=col>job</th><th scope=col>marital</th><th scope=col>education</th><th scope=col>default</th><th scope=col>balance</th><th scope=col>housing</th><th scope=col>loan</th><th scope=col>contact</th><th scope=col>day</th><th scope=col>month</th><th scope=col>duration</th><th scope=col>campaign</th><th scope=col>pdays</th><th scope=col>previous</th><th scope=col>poutcome</th><th scope=col>y</th></tr>\n",
       "\t<tr><th></th><th scope=col>&lt;int&gt;</th><th scope=col>&lt;chr&gt;</th><th scope=col>&lt;chr&gt;</th><th scope=col>&lt;chr&gt;</th><th scope=col>&lt;chr&gt;</th><th scope=col>&lt;int&gt;</th><th scope=col>&lt;chr&gt;</th><th scope=col>&lt;chr&gt;</th><th scope=col>&lt;chr&gt;</th><th scope=col>&lt;int&gt;</th><th scope=col>&lt;chr&gt;</th><th scope=col>&lt;int&gt;</th><th scope=col>&lt;int&gt;</th><th scope=col>&lt;int&gt;</th><th scope=col>&lt;int&gt;</th><th scope=col>&lt;chr&gt;</th><th scope=col>&lt;chr&gt;</th></tr>\n",
       "</thead>\n",
       "<tbody>\n",
       "\t<tr><th scope=row>1</th><td>58</td><td>management  </td><td>married</td><td>tertiary </td><td>no</td><td>2143</td><td>yes</td><td>no </td><td>NA</td><td>5</td><td>may</td><td>261</td><td>1</td><td>-1</td><td>0</td><td>NA</td><td>no</td></tr>\n",
       "\t<tr><th scope=row>2</th><td>44</td><td>technician  </td><td>single </td><td>secondary</td><td>no</td><td>  29</td><td>yes</td><td>no </td><td>NA</td><td>5</td><td>may</td><td>151</td><td>1</td><td>-1</td><td>0</td><td>NA</td><td>no</td></tr>\n",
       "\t<tr><th scope=row>3</th><td>33</td><td>entrepreneur</td><td>married</td><td>secondary</td><td>no</td><td>   2</td><td>yes</td><td>yes</td><td>NA</td><td>5</td><td>may</td><td> 76</td><td>1</td><td>-1</td><td>0</td><td>NA</td><td>no</td></tr>\n",
       "\t<tr><th scope=row>4</th><td>47</td><td>blue-collar </td><td>married</td><td>NA       </td><td>no</td><td>1506</td><td>yes</td><td>no </td><td>NA</td><td>5</td><td>may</td><td> 92</td><td>1</td><td>-1</td><td>0</td><td>NA</td><td>no</td></tr>\n",
       "\t<tr><th scope=row>5</th><td>33</td><td>NA          </td><td>single </td><td>NA       </td><td>no</td><td>   1</td><td>no </td><td>no </td><td>NA</td><td>5</td><td>may</td><td>198</td><td>1</td><td>-1</td><td>0</td><td>NA</td><td>no</td></tr>\n",
       "\t<tr><th scope=row>6</th><td>35</td><td>management  </td><td>married</td><td>tertiary </td><td>no</td><td> 231</td><td>yes</td><td>no </td><td>NA</td><td>5</td><td>may</td><td>139</td><td>1</td><td>-1</td><td>0</td><td>NA</td><td>no</td></tr>\n",
       "</tbody>\n",
       "</table>\n"
      ],
      "text/latex": [
       "A data.frame: 6 × 17\n",
       "\\begin{tabular}{r|lllllllllllllllll}\n",
       "  & age & job & marital & education & default & balance & housing & loan & contact & day & month & duration & campaign & pdays & previous & poutcome & y\\\\\n",
       "  & <int> & <chr> & <chr> & <chr> & <chr> & <int> & <chr> & <chr> & <chr> & <int> & <chr> & <int> & <int> & <int> & <int> & <chr> & <chr>\\\\\n",
       "\\hline\n",
       "\t1 & 58 & management   & married & tertiary  & no & 2143 & yes & no  & NA & 5 & may & 261 & 1 & -1 & 0 & NA & no\\\\\n",
       "\t2 & 44 & technician   & single  & secondary & no &   29 & yes & no  & NA & 5 & may & 151 & 1 & -1 & 0 & NA & no\\\\\n",
       "\t3 & 33 & entrepreneur & married & secondary & no &    2 & yes & yes & NA & 5 & may &  76 & 1 & -1 & 0 & NA & no\\\\\n",
       "\t4 & 47 & blue-collar  & married & NA        & no & 1506 & yes & no  & NA & 5 & may &  92 & 1 & -1 & 0 & NA & no\\\\\n",
       "\t5 & 33 & NA           & single  & NA        & no &    1 & no  & no  & NA & 5 & may & 198 & 1 & -1 & 0 & NA & no\\\\\n",
       "\t6 & 35 & management   & married & tertiary  & no &  231 & yes & no  & NA & 5 & may & 139 & 1 & -1 & 0 & NA & no\\\\\n",
       "\\end{tabular}\n"
      ],
      "text/markdown": [
       "\n",
       "A data.frame: 6 × 17\n",
       "\n",
       "| <!--/--> | age &lt;int&gt; | job &lt;chr&gt; | marital &lt;chr&gt; | education &lt;chr&gt; | default &lt;chr&gt; | balance &lt;int&gt; | housing &lt;chr&gt; | loan &lt;chr&gt; | contact &lt;chr&gt; | day &lt;int&gt; | month &lt;chr&gt; | duration &lt;int&gt; | campaign &lt;int&gt; | pdays &lt;int&gt; | previous &lt;int&gt; | poutcome &lt;chr&gt; | y &lt;chr&gt; |\n",
       "|---|---|---|---|---|---|---|---|---|---|---|---|---|---|---|---|---|---|\n",
       "| 1 | 58 | management   | married | tertiary  | no | 2143 | yes | no  | NA | 5 | may | 261 | 1 | -1 | 0 | NA | no |\n",
       "| 2 | 44 | technician   | single  | secondary | no |   29 | yes | no  | NA | 5 | may | 151 | 1 | -1 | 0 | NA | no |\n",
       "| 3 | 33 | entrepreneur | married | secondary | no |    2 | yes | yes | NA | 5 | may |  76 | 1 | -1 | 0 | NA | no |\n",
       "| 4 | 47 | blue-collar  | married | NA        | no | 1506 | yes | no  | NA | 5 | may |  92 | 1 | -1 | 0 | NA | no |\n",
       "| 5 | 33 | NA           | single  | NA        | no |    1 | no  | no  | NA | 5 | may | 198 | 1 | -1 | 0 | NA | no |\n",
       "| 6 | 35 | management   | married | tertiary  | no |  231 | yes | no  | NA | 5 | may | 139 | 1 | -1 | 0 | NA | no |\n",
       "\n"
      ],
      "text/plain": [
       "  age job          marital education default balance housing loan contact day\n",
       "1 58  management   married tertiary  no      2143    yes     no   NA      5  \n",
       "2 44  technician   single  secondary no        29    yes     no   NA      5  \n",
       "3 33  entrepreneur married secondary no         2    yes     yes  NA      5  \n",
       "4 47  blue-collar  married NA        no      1506    yes     no   NA      5  \n",
       "5 33  NA           single  NA        no         1    no      no   NA      5  \n",
       "6 35  management   married tertiary  no       231    yes     no   NA      5  \n",
       "  month duration campaign pdays previous poutcome y \n",
       "1 may   261      1        -1    0        NA       no\n",
       "2 may   151      1        -1    0        NA       no\n",
       "3 may    76      1        -1    0        NA       no\n",
       "4 may    92      1        -1    0        NA       no\n",
       "5 may   198      1        -1    0        NA       no\n",
       "6 may   139      1        -1    0        NA       no"
      ]
     },
     "metadata": {},
     "output_type": "display_data"
    }
   ],
   "source": [
    "ncol(bankData)\n",
    "nrow(bankData)\n",
    "head(bankData)"
   ]
  },
  {
   "cell_type": "markdown",
   "metadata": {},
   "source": [
    "## Task 3: Type Conversion\n",
    "\n",
    "By default, read_delim reads character columns as characters, but all of our character columns should be factors. Manually convert columns 2,3,4 and 5 to factors below"
   ]
  },
  {
   "cell_type": "code",
   "execution_count": 70,
   "metadata": {},
   "outputs": [
    {
     "data": {
      "text/html": [
       "<table class=\"dataframe\">\n",
       "<caption>A data.frame: 6 × 17</caption>\n",
       "<thead>\n",
       "\t<tr><th></th><th scope=col>age</th><th scope=col>job</th><th scope=col>marital</th><th scope=col>education</th><th scope=col>default</th><th scope=col>balance</th><th scope=col>housing</th><th scope=col>loan</th><th scope=col>contact</th><th scope=col>day</th><th scope=col>month</th><th scope=col>duration</th><th scope=col>campaign</th><th scope=col>pdays</th><th scope=col>previous</th><th scope=col>poutcome</th><th scope=col>y</th></tr>\n",
       "\t<tr><th></th><th scope=col>&lt;int&gt;</th><th scope=col>&lt;fct&gt;</th><th scope=col>&lt;fct&gt;</th><th scope=col>&lt;fct&gt;</th><th scope=col>&lt;fct&gt;</th><th scope=col>&lt;int&gt;</th><th scope=col>&lt;chr&gt;</th><th scope=col>&lt;chr&gt;</th><th scope=col>&lt;chr&gt;</th><th scope=col>&lt;int&gt;</th><th scope=col>&lt;chr&gt;</th><th scope=col>&lt;int&gt;</th><th scope=col>&lt;int&gt;</th><th scope=col>&lt;int&gt;</th><th scope=col>&lt;int&gt;</th><th scope=col>&lt;chr&gt;</th><th scope=col>&lt;chr&gt;</th></tr>\n",
       "</thead>\n",
       "<tbody>\n",
       "\t<tr><th scope=row>1</th><td>58</td><td>management  </td><td>married</td><td>tertiary </td><td>no</td><td>2143</td><td>yes</td><td>no </td><td>NA</td><td>5</td><td>may</td><td>261</td><td>1</td><td>-1</td><td>0</td><td>NA</td><td>no</td></tr>\n",
       "\t<tr><th scope=row>2</th><td>44</td><td>technician  </td><td>single </td><td>secondary</td><td>no</td><td>  29</td><td>yes</td><td>no </td><td>NA</td><td>5</td><td>may</td><td>151</td><td>1</td><td>-1</td><td>0</td><td>NA</td><td>no</td></tr>\n",
       "\t<tr><th scope=row>3</th><td>33</td><td>entrepreneur</td><td>married</td><td>secondary</td><td>no</td><td>   2</td><td>yes</td><td>yes</td><td>NA</td><td>5</td><td>may</td><td> 76</td><td>1</td><td>-1</td><td>0</td><td>NA</td><td>no</td></tr>\n",
       "\t<tr><th scope=row>4</th><td>47</td><td>blue-collar </td><td>married</td><td>NA       </td><td>no</td><td>1506</td><td>yes</td><td>no </td><td>NA</td><td>5</td><td>may</td><td> 92</td><td>1</td><td>-1</td><td>0</td><td>NA</td><td>no</td></tr>\n",
       "\t<tr><th scope=row>5</th><td>33</td><td>NA          </td><td>single </td><td>NA       </td><td>no</td><td>   1</td><td>no </td><td>no </td><td>NA</td><td>5</td><td>may</td><td>198</td><td>1</td><td>-1</td><td>0</td><td>NA</td><td>no</td></tr>\n",
       "\t<tr><th scope=row>6</th><td>35</td><td>management  </td><td>married</td><td>tertiary </td><td>no</td><td> 231</td><td>yes</td><td>no </td><td>NA</td><td>5</td><td>may</td><td>139</td><td>1</td><td>-1</td><td>0</td><td>NA</td><td>no</td></tr>\n",
       "</tbody>\n",
       "</table>\n"
      ],
      "text/latex": [
       "A data.frame: 6 × 17\n",
       "\\begin{tabular}{r|lllllllllllllllll}\n",
       "  & age & job & marital & education & default & balance & housing & loan & contact & day & month & duration & campaign & pdays & previous & poutcome & y\\\\\n",
       "  & <int> & <fct> & <fct> & <fct> & <fct> & <int> & <chr> & <chr> & <chr> & <int> & <chr> & <int> & <int> & <int> & <int> & <chr> & <chr>\\\\\n",
       "\\hline\n",
       "\t1 & 58 & management   & married & tertiary  & no & 2143 & yes & no  & NA & 5 & may & 261 & 1 & -1 & 0 & NA & no\\\\\n",
       "\t2 & 44 & technician   & single  & secondary & no &   29 & yes & no  & NA & 5 & may & 151 & 1 & -1 & 0 & NA & no\\\\\n",
       "\t3 & 33 & entrepreneur & married & secondary & no &    2 & yes & yes & NA & 5 & may &  76 & 1 & -1 & 0 & NA & no\\\\\n",
       "\t4 & 47 & blue-collar  & married & NA        & no & 1506 & yes & no  & NA & 5 & may &  92 & 1 & -1 & 0 & NA & no\\\\\n",
       "\t5 & 33 & NA           & single  & NA        & no &    1 & no  & no  & NA & 5 & may & 198 & 1 & -1 & 0 & NA & no\\\\\n",
       "\t6 & 35 & management   & married & tertiary  & no &  231 & yes & no  & NA & 5 & may & 139 & 1 & -1 & 0 & NA & no\\\\\n",
       "\\end{tabular}\n"
      ],
      "text/markdown": [
       "\n",
       "A data.frame: 6 × 17\n",
       "\n",
       "| <!--/--> | age &lt;int&gt; | job &lt;fct&gt; | marital &lt;fct&gt; | education &lt;fct&gt; | default &lt;fct&gt; | balance &lt;int&gt; | housing &lt;chr&gt; | loan &lt;chr&gt; | contact &lt;chr&gt; | day &lt;int&gt; | month &lt;chr&gt; | duration &lt;int&gt; | campaign &lt;int&gt; | pdays &lt;int&gt; | previous &lt;int&gt; | poutcome &lt;chr&gt; | y &lt;chr&gt; |\n",
       "|---|---|---|---|---|---|---|---|---|---|---|---|---|---|---|---|---|---|\n",
       "| 1 | 58 | management   | married | tertiary  | no | 2143 | yes | no  | NA | 5 | may | 261 | 1 | -1 | 0 | NA | no |\n",
       "| 2 | 44 | technician   | single  | secondary | no |   29 | yes | no  | NA | 5 | may | 151 | 1 | -1 | 0 | NA | no |\n",
       "| 3 | 33 | entrepreneur | married | secondary | no |    2 | yes | yes | NA | 5 | may |  76 | 1 | -1 | 0 | NA | no |\n",
       "| 4 | 47 | blue-collar  | married | NA        | no | 1506 | yes | no  | NA | 5 | may |  92 | 1 | -1 | 0 | NA | no |\n",
       "| 5 | 33 | NA           | single  | NA        | no |    1 | no  | no  | NA | 5 | may | 198 | 1 | -1 | 0 | NA | no |\n",
       "| 6 | 35 | management   | married | tertiary  | no |  231 | yes | no  | NA | 5 | may | 139 | 1 | -1 | 0 | NA | no |\n",
       "\n"
      ],
      "text/plain": [
       "  age job          marital education default balance housing loan contact day\n",
       "1 58  management   married tertiary  no      2143    yes     no   NA      5  \n",
       "2 44  technician   single  secondary no        29    yes     no   NA      5  \n",
       "3 33  entrepreneur married secondary no         2    yes     yes  NA      5  \n",
       "4 47  blue-collar  married NA        no      1506    yes     no   NA      5  \n",
       "5 33  NA           single  NA        no         1    no      no   NA      5  \n",
       "6 35  management   married tertiary  no       231    yes     no   NA      5  \n",
       "  month duration campaign pdays previous poutcome y \n",
       "1 may   261      1        -1    0        NA       no\n",
       "2 may   151      1        -1    0        NA       no\n",
       "3 may    76      1        -1    0        NA       no\n",
       "4 may    92      1        -1    0        NA       no\n",
       "5 may   198      1        -1    0        NA       no\n",
       "6 may   139      1        -1    0        NA       no"
      ]
     },
     "metadata": {},
     "output_type": "display_data"
    }
   ],
   "source": [
    "bankData[,2] <- as.factor(bankData[,2])\n",
    "bankData[,3] <- as.factor(bankData[,3])\n",
    "bankData[,4] <- as.factor(bankData[,4])\n",
    "bankData[,5] <- as.factor(bankData[,5])\n",
    "head(bankData)"
   ]
  },
  {
   "cell_type": "markdown",
   "metadata": {},
   "source": [
    "Or, use a loop to convert all factor columns"
   ]
  },
  {
   "cell_type": "code",
   "execution_count": 71,
   "metadata": {},
   "outputs": [
    {
     "data": {
      "text/html": [
       "<table class=\"dataframe\">\n",
       "<caption>A data.frame: 6 × 17</caption>\n",
       "<thead>\n",
       "\t<tr><th></th><th scope=col>age</th><th scope=col>job</th><th scope=col>marital</th><th scope=col>education</th><th scope=col>default</th><th scope=col>balance</th><th scope=col>housing</th><th scope=col>loan</th><th scope=col>contact</th><th scope=col>day</th><th scope=col>month</th><th scope=col>duration</th><th scope=col>campaign</th><th scope=col>pdays</th><th scope=col>previous</th><th scope=col>poutcome</th><th scope=col>y</th></tr>\n",
       "\t<tr><th></th><th scope=col>&lt;int&gt;</th><th scope=col>&lt;fct&gt;</th><th scope=col>&lt;fct&gt;</th><th scope=col>&lt;fct&gt;</th><th scope=col>&lt;fct&gt;</th><th scope=col>&lt;int&gt;</th><th scope=col>&lt;chr&gt;</th><th scope=col>&lt;chr&gt;</th><th scope=col>&lt;chr&gt;</th><th scope=col>&lt;int&gt;</th><th scope=col>&lt;chr&gt;</th><th scope=col>&lt;int&gt;</th><th scope=col>&lt;int&gt;</th><th scope=col>&lt;int&gt;</th><th scope=col>&lt;int&gt;</th><th scope=col>&lt;chr&gt;</th><th scope=col>&lt;chr&gt;</th></tr>\n",
       "</thead>\n",
       "<tbody>\n",
       "\t<tr><th scope=row>1</th><td>58</td><td>management  </td><td>married</td><td>tertiary </td><td>no</td><td>2143</td><td>yes</td><td>no </td><td>NA</td><td>5</td><td>may</td><td>261</td><td>1</td><td>-1</td><td>0</td><td>NA</td><td>no</td></tr>\n",
       "\t<tr><th scope=row>2</th><td>44</td><td>technician  </td><td>single </td><td>secondary</td><td>no</td><td>  29</td><td>yes</td><td>no </td><td>NA</td><td>5</td><td>may</td><td>151</td><td>1</td><td>-1</td><td>0</td><td>NA</td><td>no</td></tr>\n",
       "\t<tr><th scope=row>3</th><td>33</td><td>entrepreneur</td><td>married</td><td>secondary</td><td>no</td><td>   2</td><td>yes</td><td>yes</td><td>NA</td><td>5</td><td>may</td><td> 76</td><td>1</td><td>-1</td><td>0</td><td>NA</td><td>no</td></tr>\n",
       "\t<tr><th scope=row>4</th><td>47</td><td>blue-collar </td><td>married</td><td>NA       </td><td>no</td><td>1506</td><td>yes</td><td>no </td><td>NA</td><td>5</td><td>may</td><td> 92</td><td>1</td><td>-1</td><td>0</td><td>NA</td><td>no</td></tr>\n",
       "\t<tr><th scope=row>5</th><td>33</td><td>NA          </td><td>single </td><td>NA       </td><td>no</td><td>   1</td><td>no </td><td>no </td><td>NA</td><td>5</td><td>may</td><td>198</td><td>1</td><td>-1</td><td>0</td><td>NA</td><td>no</td></tr>\n",
       "\t<tr><th scope=row>6</th><td>35</td><td>management  </td><td>married</td><td>tertiary </td><td>no</td><td> 231</td><td>yes</td><td>no </td><td>NA</td><td>5</td><td>may</td><td>139</td><td>1</td><td>-1</td><td>0</td><td>NA</td><td>no</td></tr>\n",
       "</tbody>\n",
       "</table>\n"
      ],
      "text/latex": [
       "A data.frame: 6 × 17\n",
       "\\begin{tabular}{r|lllllllllllllllll}\n",
       "  & age & job & marital & education & default & balance & housing & loan & contact & day & month & duration & campaign & pdays & previous & poutcome & y\\\\\n",
       "  & <int> & <fct> & <fct> & <fct> & <fct> & <int> & <chr> & <chr> & <chr> & <int> & <chr> & <int> & <int> & <int> & <int> & <chr> & <chr>\\\\\n",
       "\\hline\n",
       "\t1 & 58 & management   & married & tertiary  & no & 2143 & yes & no  & NA & 5 & may & 261 & 1 & -1 & 0 & NA & no\\\\\n",
       "\t2 & 44 & technician   & single  & secondary & no &   29 & yes & no  & NA & 5 & may & 151 & 1 & -1 & 0 & NA & no\\\\\n",
       "\t3 & 33 & entrepreneur & married & secondary & no &    2 & yes & yes & NA & 5 & may &  76 & 1 & -1 & 0 & NA & no\\\\\n",
       "\t4 & 47 & blue-collar  & married & NA        & no & 1506 & yes & no  & NA & 5 & may &  92 & 1 & -1 & 0 & NA & no\\\\\n",
       "\t5 & 33 & NA           & single  & NA        & no &    1 & no  & no  & NA & 5 & may & 198 & 1 & -1 & 0 & NA & no\\\\\n",
       "\t6 & 35 & management   & married & tertiary  & no &  231 & yes & no  & NA & 5 & may & 139 & 1 & -1 & 0 & NA & no\\\\\n",
       "\\end{tabular}\n"
      ],
      "text/markdown": [
       "\n",
       "A data.frame: 6 × 17\n",
       "\n",
       "| <!--/--> | age &lt;int&gt; | job &lt;fct&gt; | marital &lt;fct&gt; | education &lt;fct&gt; | default &lt;fct&gt; | balance &lt;int&gt; | housing &lt;chr&gt; | loan &lt;chr&gt; | contact &lt;chr&gt; | day &lt;int&gt; | month &lt;chr&gt; | duration &lt;int&gt; | campaign &lt;int&gt; | pdays &lt;int&gt; | previous &lt;int&gt; | poutcome &lt;chr&gt; | y &lt;chr&gt; |\n",
       "|---|---|---|---|---|---|---|---|---|---|---|---|---|---|---|---|---|---|\n",
       "| 1 | 58 | management   | married | tertiary  | no | 2143 | yes | no  | NA | 5 | may | 261 | 1 | -1 | 0 | NA | no |\n",
       "| 2 | 44 | technician   | single  | secondary | no |   29 | yes | no  | NA | 5 | may | 151 | 1 | -1 | 0 | NA | no |\n",
       "| 3 | 33 | entrepreneur | married | secondary | no |    2 | yes | yes | NA | 5 | may |  76 | 1 | -1 | 0 | NA | no |\n",
       "| 4 | 47 | blue-collar  | married | NA        | no | 1506 | yes | no  | NA | 5 | may |  92 | 1 | -1 | 0 | NA | no |\n",
       "| 5 | 33 | NA           | single  | NA        | no |    1 | no  | no  | NA | 5 | may | 198 | 1 | -1 | 0 | NA | no |\n",
       "| 6 | 35 | management   | married | tertiary  | no |  231 | yes | no  | NA | 5 | may | 139 | 1 | -1 | 0 | NA | no |\n",
       "\n"
      ],
      "text/plain": [
       "  age job          marital education default balance housing loan contact day\n",
       "1 58  management   married tertiary  no      2143    yes     no   NA      5  \n",
       "2 44  technician   single  secondary no        29    yes     no   NA      5  \n",
       "3 33  entrepreneur married secondary no         2    yes     yes  NA      5  \n",
       "4 47  blue-collar  married NA        no      1506    yes     no   NA      5  \n",
       "5 33  NA           single  NA        no         1    no      no   NA      5  \n",
       "6 35  management   married tertiary  no       231    yes     no   NA      5  \n",
       "  month duration campaign pdays previous poutcome y \n",
       "1 may   261      1        -1    0        NA       no\n",
       "2 may   151      1        -1    0        NA       no\n",
       "3 may    76      1        -1    0        NA       no\n",
       "4 may    92      1        -1    0        NA       no\n",
       "5 may   198      1        -1    0        NA       no\n",
       "6 may   139      1        -1    0        NA       no"
      ]
     },
     "metadata": {},
     "output_type": "display_data"
    }
   ],
   "source": [
    "for(factIndex in 2:5){\n",
    "    bankData[,factIndex] <- as.factor(bankData[,factIndex])\n",
    "}\n",
    "head(bankData)"
   ]
  },
  {
   "cell_type": "markdown",
   "metadata": {},
   "source": [
    "## Task 4: Finding NAs\n",
    "\n",
    "1. How many NAs are there for the education attribute?\n",
    "2. What percentage of the total is this?"
   ]
  },
  {
   "cell_type": "code",
   "execution_count": 72,
   "metadata": {},
   "outputs": [
    {
     "data": {
      "text/html": [
       "1857"
      ],
      "text/latex": [
       "1857"
      ],
      "text/markdown": [
       "1857"
      ],
      "text/plain": [
       "[1] 1857"
      ]
     },
     "metadata": {},
     "output_type": "display_data"
    },
    {
     "data": {
      "text/html": [
       "1857"
      ],
      "text/latex": [
       "1857"
      ],
      "text/markdown": [
       "1857"
      ],
      "text/plain": [
       "[1] 1857"
      ]
     },
     "metadata": {},
     "output_type": "display_data"
    },
    {
     "data": {
      "text/html": [
       "4.10740748932782"
      ],
      "text/latex": [
       "4.10740748932782"
      ],
      "text/markdown": [
       "4.10740748932782"
      ],
      "text/plain": [
       "[1] 4.107407"
      ]
     },
     "metadata": {},
     "output_type": "display_data"
    }
   ],
   "source": [
    "sum(is.na(bankData$education))#No NAs but loads of unkowns, I'll conver those to NA\n",
    "bankData$education[bankData$education == \"unknown\"] = NA\n",
    "qtyOfNAs <- sum(is.na(bankData$education))\n",
    "qtyOfNAs #Now we can see 1857 NAs\n",
    "(qtyOfNAs * 100 / nrow(bankData)) #Calculate percentage of NAs"
   ]
  },
  {
   "cell_type": "markdown",
   "metadata": {},
   "source": [
    "## Finding NAs in all columns\n",
    "\n",
    "See the lecture notes for how to do this. Get a list of all columns containing at least 1 NA and find the counts of each"
   ]
  },
  {
   "cell_type": "code",
   "execution_count": 99,
   "metadata": {},
   "outputs": [
    {
     "name": "stdout",
     "output_type": "stream",
     "text": [
      "      age       job   marital education   default   balance   housing      loan \n",
      "     0.00      0.64      0.00      4.11      0.00      0.00      0.00      0.00 \n",
      "  contact       day     month  duration  campaign     pdays  previous  poutcome \n",
      "    28.80      0.00      0.00      0.00      0.00      0.00      0.00     81.75 \n",
      "        y \n",
      "     0.00 \n"
     ]
    }
   ],
   "source": [
    "\n",
    "# colsAndRowsWithNA <- which(is.na(bankData), arr.ind=TRUE)\n",
    "# rowsWithNA <- colsAndRowsWithNA[,1]\n",
    "# colsWithNA <- colsAndRowsWithNA[,2]\n",
    "# colsWithNA <- colsWithNA[!duplicated(colsWithNA)] \n",
    "# #colsWithNA\n",
    "# for(col in colsWithNA){\n",
    "#     print(cat(\"Num NA rows for col \", col, \" is: \", length(colsAndRowsWithNA[colsAndRowsWithNA[,2] == col,])))\n",
    "\n",
    "# }\n",
    "# str(colsAndRowsWithNA)\n",
    "# colsAndRowsWithNA[colsAndRowsWithNA[,2] == 16,]\n",
    "\n",
    "allMissing <- is.na(bankData)\n",
    "counts <- colSums(allMissing)\n",
    "print(round(counts/nrow(bankData)*100, 2))"
   ]
  },
  {
   "cell_type": "markdown",
   "metadata": {},
   "source": [
    "## Task 5: Finding the Average\n",
    "\n",
    "What is the average value of the following columns?\n",
    "1. age\n",
    "2. duration\n",
    "3. pDays"
   ]
  },
  {
   "cell_type": "code",
   "execution_count": 109,
   "metadata": {},
   "outputs": [
    {
     "data": {
      "text/html": [
       "40.9362102143284"
      ],
      "text/latex": [
       "40.9362102143284"
      ],
      "text/markdown": [
       "40.9362102143284"
      ],
      "text/plain": [
       "[1] 40.93621"
      ]
     },
     "metadata": {},
     "output_type": "display_data"
    },
    {
     "data": {
      "text/html": [
       "258.163079781469"
      ],
      "text/latex": [
       "258.163079781469"
      ],
      "text/markdown": [
       "258.163079781469"
      ],
      "text/plain": [
       "[1] 258.1631"
      ]
     },
     "metadata": {},
     "output_type": "display_data"
    },
    {
     "data": {
      "text/html": [
       "&lt;NA&gt;"
      ],
      "text/latex": [
       "<NA>"
      ],
      "text/markdown": [
       "&lt;NA&gt;"
      ],
      "text/plain": [
       "[1] NA"
      ]
     },
     "metadata": {},
     "output_type": "display_data"
    },
    {
     "data": {
      "text/html": [
       "224.577691655565"
      ],
      "text/latex": [
       "224.577691655565"
      ],
      "text/markdown": [
       "224.577691655565"
      ],
      "text/plain": [
       "[1] 224.5777"
      ]
     },
     "metadata": {},
     "output_type": "display_data"
    }
   ],
   "source": [
    "mean(bankData$age)\n",
    "mean(bankData$duration)\n",
    "mean(bankData$pdays)\n"
   ]
  },
  {
   "cell_type": "markdown",
   "metadata": {},
   "source": [
    "## Fixing the pDays Column\n",
    "See the lecture notes for how to do this. Implement option 1 and option 2 in the cells below"
   ]
  },
  {
   "cell_type": "code",
   "execution_count": null,
   "metadata": {},
   "outputs": [],
   "source": [
    "bankData$pdays[bankData$pdays == -1] = NA #changing from -1 for no contract to NA instead\n",
    "mean(bankData$pdays, na.rm=TRUE) #now the mean not considering the -1s will be higher"
   ]
  },
  {
   "cell_type": "code",
   "execution_count": null,
   "metadata": {},
   "outputs": [],
   "source": []
  },
  {
   "cell_type": "markdown",
   "metadata": {},
   "source": [
    "## Task 6 - Omitting Rows Containing NA\n",
    "Create a copy of the dataset omitting any rows with NAs. How much data do we lose doing this? (express as a percentage of total rows)"
   ]
  },
  {
   "cell_type": "code",
   "execution_count": 115,
   "metadata": {},
   "outputs": [
    {
     "name": "stdout",
     "output_type": "stream",
     "text": [
      "Percentage of the dataset left after NA Omit:  82.65"
     ]
    }
   ],
   "source": [
    "cpBankData <- bankData \n",
    "fullSetRows <- nrow(bankData)\n",
    "naOmmitSetRows <- nrow(na.omit(cpBankData))\n",
    "cat(\"Percentage of the dataset left after NA Omit: \", round(100 - ((naOmmitSetRows * 100) / fullSetRows),2))\n"
   ]
  },
  {
   "cell_type": "markdown",
   "metadata": {},
   "source": [
    "## Summary Statistics"
   ]
  },
  {
   "cell_type": "markdown",
   "metadata": {},
   "source": [
    "### Task 7 - Calculating Quantiles\n",
    "\n",
    "1. Use the first cell to write a script to find the tenth percentile of the following data.\n",
    "\n",
    "```R\n",
    "c(14, 15, 9, 14, 8, 9, 6, 7, 8, 12)\n",
    "```\n",
    "\n",
    "2. Then add in the script the code to find the 30th, 50th and 75th percentile\n",
    "3. In the second cell, use the r **quantile()** function to calculate each of the percentiles above"
   ]
  },
  {
   "cell_type": "code",
   "execution_count": 126,
   "metadata": {},
   "outputs": [
    {
     "data": {
      "text/html": [
       "9"
      ],
      "text/latex": [
       "9"
      ],
      "text/markdown": [
       "9"
      ],
      "text/plain": [
       "[1] 9"
      ]
     },
     "metadata": {},
     "output_type": "display_data"
    },
    {
     "data": {
      "text/html": [
       "8"
      ],
      "text/latex": [
       "8"
      ],
      "text/markdown": [
       "8"
      ],
      "text/plain": [
       "[1] 8"
      ]
     },
     "metadata": {},
     "output_type": "display_data"
    },
    {
     "data": {
      "text/html": [
       "12"
      ],
      "text/latex": [
       "12"
      ],
      "text/markdown": [
       "12"
      ],
      "text/plain": [
       "[1] 12"
      ]
     },
     "metadata": {},
     "output_type": "display_data"
    },
    {
     "data": {
      "text/html": [
       "7.5"
      ],
      "text/latex": [
       "7.5"
      ],
      "text/markdown": [
       "7.5"
      ],
      "text/plain": [
       "[1] 7.5"
      ]
     },
     "metadata": {},
     "output_type": "display_data"
    }
   ],
   "source": [
    "arr <- sort(c(14, 15, 9, 14, 8, 9, 6, 7, 8, 12))\n",
    "arrLen <- length(arr)\n",
    "arr[arrLen/2] #median\n",
    "arr[arrLen * 0.3] #30th percentile\n",
    "arr[arrLen * 0.75] #75th percentile (THIS IS WRONG)\n",
    "arrLen * 0.75"
   ]
  },
  {
   "cell_type": "code",
   "execution_count": 125,
   "metadata": {},
   "outputs": [
    {
     "data": {
      "text/html": [
       "<strong>50%:</strong> 9"
      ],
      "text/latex": [
       "\\textbf{50\\textbackslash{}\\%:} 9"
      ],
      "text/markdown": [
       "**50%:** 9"
      ],
      "text/plain": [
       "50% \n",
       "  9 "
      ]
     },
     "metadata": {},
     "output_type": "display_data"
    },
    {
     "data": {
      "text/html": [
       "<strong>30%:</strong> 8"
      ],
      "text/latex": [
       "\\textbf{30\\textbackslash{}\\%:} 8"
      ],
      "text/markdown": [
       "**30%:** 8"
      ],
      "text/plain": [
       "30% \n",
       "  8 "
      ]
     },
     "metadata": {},
     "output_type": "display_data"
    },
    {
     "data": {
      "text/html": [
       "<strong>75%:</strong> 13.5"
      ],
      "text/latex": [
       "\\textbf{75\\textbackslash{}\\%:} 13.5"
      ],
      "text/markdown": [
       "**75%:** 13.5"
      ],
      "text/plain": [
       " 75% \n",
       "13.5 "
      ]
     },
     "metadata": {},
     "output_type": "display_data"
    }
   ],
   "source": [
    "quantile(arr, 0.5)\n",
    "quantile(arr, 0.3)\n",
    "quantile(arr, 0.75)"
   ]
  },
  {
   "cell_type": "markdown",
   "metadata": {},
   "source": [
    "Get the 0th, 25th, 50th, 75th and 100th percentiles of the *age* feature using the fivenum function"
   ]
  },
  {
   "cell_type": "code",
   "execution_count": 128,
   "metadata": {},
   "outputs": [
    {
     "data": {
      "text/html": [
       "<style>\n",
       ".list-inline {list-style: none; margin:0; padding: 0}\n",
       ".list-inline>li {display: inline-block}\n",
       ".list-inline>li:not(:last-child)::after {content: \"\\00b7\"; padding: 0 .5ex}\n",
       "</style>\n",
       "<ol class=list-inline><li>18</li><li>33</li><li>39</li><li>48</li><li>95</li></ol>\n"
      ],
      "text/latex": [
       "\\begin{enumerate*}\n",
       "\\item 18\n",
       "\\item 33\n",
       "\\item 39\n",
       "\\item 48\n",
       "\\item 95\n",
       "\\end{enumerate*}\n"
      ],
      "text/markdown": [
       "1. 18\n",
       "2. 33\n",
       "3. 39\n",
       "4. 48\n",
       "5. 95\n",
       "\n",
       "\n"
      ],
      "text/plain": [
       "[1] 18 33 39 48 95"
      ]
     },
     "metadata": {},
     "output_type": "display_data"
    }
   ],
   "source": [
    "fivenum(bankData$age)"
   ]
  },
  {
   "cell_type": "markdown",
   "metadata": {},
   "source": [
    "Use the summary function to get the mean as well as the fivenum quantiles of the bankData age feature"
   ]
  },
  {
   "cell_type": "code",
   "execution_count": null,
   "metadata": {},
   "outputs": [],
   "source": []
  },
  {
   "cell_type": "markdown",
   "metadata": {},
   "source": [
    "Get the counts of each level of the *education* feature"
   ]
  },
  {
   "cell_type": "code",
   "execution_count": null,
   "metadata": {},
   "outputs": [],
   "source": []
  },
  {
   "cell_type": "markdown",
   "metadata": {},
   "source": [
    "### Task 8 - Calculate the Trimmed Mean\n",
    "\n",
    "1. Calculate the mean and median of the *balance* feature of our bankData dataframe\n",
    "2. Calculate the trimmed mean @ T = 0.1\n",
    "3. Show that the trimmed mean is more representative of the centre than the raw mean "
   ]
  },
  {
   "cell_type": "code",
   "execution_count": 138,
   "metadata": {},
   "outputs": [
    {
     "data": {
      "text/html": [
       "0"
      ],
      "text/latex": [
       "0"
      ],
      "text/markdown": [
       "0"
      ],
      "text/plain": [
       "[1] 0"
      ]
     },
     "metadata": {},
     "output_type": "display_data"
    },
    {
     "data": {
      "text/html": [
       "3574"
      ],
      "text/latex": [
       "3574"
      ],
      "text/markdown": [
       "3574"
      ],
      "text/plain": [
       "[1] 3574"
      ]
     },
     "metadata": {},
     "output_type": "display_data"
    },
    {
     "data": {
      "text/html": [
       "1362.27205768508"
      ],
      "text/latex": [
       "1362.27205768508"
      ],
      "text/markdown": [
       "1362.27205768508"
      ],
      "text/plain": [
       "[1] 1362.272"
      ]
     },
     "metadata": {},
     "output_type": "display_data"
    },
    {
     "data": {
      "text/html": [
       "751.524753547828"
      ],
      "text/latex": [
       "751.524753547828"
      ],
      "text/markdown": [
       "751.524753547828"
      ],
      "text/plain": [
       "[1] 751.5248"
      ]
     },
     "metadata": {},
     "output_type": "display_data"
    },
    {
     "data": {
      "text/html": [
       "767.212253587326"
      ],
      "text/latex": [
       "767.212253587326"
      ],
      "text/markdown": [
       "767.212253587326"
      ],
      "text/plain": [
       "[1] 767.2123"
      ]
     },
     "metadata": {},
     "output_type": "display_data"
    }
   ],
   "source": [
    "#by hand\n",
    "sortedBalance <- sort(bankData$balance)\n",
    "qt10 <- quantile(sortedBalance, 0.1)\n",
    "qt90 <- quantile(sortedBalance, 0.9)\n",
    "qt10[[1]]\n",
    "qt90[[1]]\n",
    "trimmedBalance <- sortedBalance[sortedBalance >= qt10[[1]] & sortedBalance <= qt90[[1]]]\n",
    "mean(sortedBalance)\n",
    "mean(trimmedBalance)\n",
    "mean(sort(bankData$balance), trim=0.1) #767.212"
   ]
  },
  {
   "cell_type": "markdown",
   "metadata": {},
   "source": [
    "### Measures of Spread\n",
    "\n",
    "The inter-quartile range (IQR) and range are similar in that they estimate the spread of a column by subtracting extreme values"
   ]
  },
  {
   "cell_type": "code",
   "execution_count": null,
   "metadata": {},
   "outputs": [],
   "source": []
  },
  {
   "cell_type": "code",
   "execution_count": null,
   "metadata": {},
   "outputs": [],
   "source": []
  },
  {
   "cell_type": "markdown",
   "metadata": {},
   "source": [
    "The standard deviation is a measure of the average distance of each column value from the mean:"
   ]
  },
  {
   "cell_type": "code",
   "execution_count": null,
   "metadata": {},
   "outputs": [],
   "source": []
  },
  {
   "cell_type": "markdown",
   "metadata": {},
   "source": [
    "The **variance** is simply the square of the standard deviation:"
   ]
  },
  {
   "cell_type": "code",
   "execution_count": null,
   "metadata": {},
   "outputs": [],
   "source": []
  }
 ],
 "metadata": {
  "kernelspec": {
   "display_name": "R",
   "language": "R",
   "name": "ir"
  },
  "language_info": {
   "codemirror_mode": "r",
   "file_extension": ".r",
   "mimetype": "text/x-r-source",
   "name": "R",
   "pygments_lexer": "r",
   "version": "4.2.1"
  }
 },
 "nbformat": 4,
 "nbformat_minor": 4
}
