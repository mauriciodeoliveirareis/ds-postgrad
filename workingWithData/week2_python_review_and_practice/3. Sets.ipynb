{
 "cells": [
  {
   "cell_type": "markdown",
   "metadata": {},
   "source": [
    "# Sets\n",
    "\n",
    "*Set Theory* is a field of mathematics which deals with group membership. Items are said to either **belong** or not **belong** to a set. You may remember venn-diagrams from your early school days. These are an application of set theory.\n",
    "\n",
    "![A Venn Diagram](./Venn_diagram_cmyk.png)"
   ]
  },
  {
   "cell_type": "markdown",
   "metadata": {},
   "source": [
    "## Set Theory in a Nutshell\n",
    "\n",
    "A set tells us whether something belongs to a particular group or not. There is **no concept of duplicates** in sets. Each set can contain an item at most once.\n",
    "\n",
    "Because sets only tell us whether something belongs to a group or not there is **no concept of order** in sets. Two sets with the same items are identical, regardless of the order in which we write them.\n",
    "\n",
    "### Sets, Supersets, Subsets\n",
    "Anyone taking this course belongs to the set of all students. \n",
    "\n",
    "The set of all students contains students of TU Dublin, students of UCD *etc.*. \n",
    "\n",
    "You all belong to the specific **subset** *students of TU Dublin*. \n",
    "\n",
    "You are all taking the *TU123* course; every student taking *TU123* is also a student of TU Dublin, so the set  *TU Dublin students* is a **superset** of *TU123* students (and the set *TU123* students is a **subset** of *TU Dublin Students*.\n",
    "\n",
    "### Set Operations\n",
    "A **Union** B is the set of everything in **either** A or B\n",
    "\n",
    "A **Intersection** B is the set of everything in **both** A and B\n",
    "\n",
    "A **Minus** B is the set of everything in A that is not also in B\n",
    "\n",
    "The **symmetric difference** between A and B is everything in either A or B, but not both\n",
    "\n",
    "\n",
    "### Further Reading\n",
    "You don't need an exhaustive knowledge of sets to work with Python. But if you're interested in finding out more this [website](https://www.probabilitycourse.com/chapter1/1_2_0_review_set_theory.php) gives a very good introduction."
   ]
  },
  {
   "cell_type": "markdown",
   "metadata": {},
   "source": [
    "# Examples"
   ]
  },
  {
   "cell_type": "markdown",
   "metadata": {},
   "source": [
    "### Creating Sets\n",
    "We use the python **set()** function to create a set. If we pass a list of items to the set() function those items will be added to the set"
   ]
  },
  {
   "cell_type": "code",
   "execution_count": 1,
   "metadata": {},
   "outputs": [
    {
     "data": {
      "text/plain": [
       "set()"
      ]
     },
     "execution_count": 1,
     "metadata": {},
     "output_type": "execute_result"
    }
   ],
   "source": [
    "s = set()\n",
    "s"
   ]
  },
  {
   "cell_type": "code",
   "execution_count": 2,
   "metadata": {},
   "outputs": [
    {
     "data": {
      "text/plain": [
       "{'Students', 'TU Dublin Students', 'TU123 Students'}"
      ]
     },
     "execution_count": 2,
     "metadata": {},
     "output_type": "execute_result"
    }
   ],
   "source": [
    "s = set(['Students', 'TU123 Students', 'TU Dublin Students'])\n",
    "s"
   ]
  },
  {
   "cell_type": "markdown",
   "metadata": {},
   "source": [
    "Notice that Python uses curly brackets to denote a set, instead of the square brackets used for a list."
   ]
  },
  {
   "cell_type": "markdown",
   "metadata": {},
   "source": [
    "### Counting Elements in Set\n",
    "We can check how many items in a set by using the **len()** function"
   ]
  },
  {
   "cell_type": "code",
   "execution_count": 3,
   "metadata": {},
   "outputs": [
    {
     "data": {
      "text/plain": [
       "3"
      ]
     },
     "execution_count": 3,
     "metadata": {},
     "output_type": "execute_result"
    }
   ],
   "source": [
    "len(s)"
   ]
  },
  {
   "cell_type": "markdown",
   "metadata": {},
   "source": [
    "### Adding Elements to a set\n",
    "\n",
    "The **add()** function adds the specified element to a set"
   ]
  },
  {
   "cell_type": "code",
   "execution_count": 4,
   "metadata": {},
   "outputs": [
    {
     "name": "stdout",
     "output_type": "stream",
     "text": [
      "The length of an empty set is 0\n",
      "Adding an element\n",
      "The new length is 1\n"
     ]
    }
   ],
   "source": [
    "s = set()\n",
    "print(f\"The length of an empty set is {len(s)}\")\n",
    "print(\"Adding an element\")\n",
    "s.add('lucas')\n",
    "print(f\"The new length is {len(s)}\")\n"
   ]
  },
  {
   "cell_type": "markdown",
   "metadata": {},
   "source": [
    "If we try to add an element that already exists, Python will ignore it."
   ]
  },
  {
   "cell_type": "code",
   "execution_count": 5,
   "metadata": {},
   "outputs": [
    {
     "name": "stdout",
     "output_type": "stream",
     "text": [
      "The length of an empty set is 0\n",
      "Adding 'lucas' to the set\n",
      "The new length is 1\n",
      "Adding 'lucas' again\n",
      "The new length is 1\n"
     ]
    },
    {
     "data": {
      "text/plain": [
       "{'lucas'}"
      ]
     },
     "execution_count": 5,
     "metadata": {},
     "output_type": "execute_result"
    }
   ],
   "source": [
    "s = set()\n",
    "print(f\"The length of an empty set is {len(s)}\")\n",
    "print(\"Adding 'lucas' to the set\")\n",
    "s.add('lucas')\n",
    "print(f\"The new length is {len(s)}\")\n",
    "print(\"Adding 'lucas' again\")\n",
    "s.add('lucas')\n",
    "print(f\"The new length is {len(s)}\")\n",
    "s"
   ]
  },
  {
   "cell_type": "markdown",
   "metadata": {},
   "source": [
    "### Removing Elements from a Set\n",
    "We can remove elements from a set using the **remove()** function. This wil throw an error if the item doesn't exist in the set"
   ]
  },
  {
   "cell_type": "code",
   "execution_count": 6,
   "metadata": {},
   "outputs": [
    {
     "name": "stdout",
     "output_type": "stream",
     "text": [
      "Adding 'lucas' to the set\n",
      "The new length is 1\n",
      "Removing 'lucas' from the set\n",
      "The new length is 0\n"
     ]
    }
   ],
   "source": [
    "s = set()\n",
    "print(\"Adding 'lucas' to the set\")\n",
    "s.add('lucas')\n",
    "print(f\"The new length is {len(s)}\")\n",
    "print(\"Removing 'lucas' from the set\")\n",
    "s.remove('lucas')\n",
    "print(f\"The new length is {len(s)}\")"
   ]
  },
  {
   "cell_type": "code",
   "execution_count": 7,
   "metadata": {},
   "outputs": [
    {
     "name": "stdout",
     "output_type": "stream",
     "text": [
      "Adding 'lucas' to the set\n",
      "The new length is 1\n",
      "Removing 'jill' from the set\n"
     ]
    },
    {
     "ename": "KeyError",
     "evalue": "'jill'",
     "output_type": "error",
     "traceback": [
      "\u001b[0;31m---------------------------------------------------------------------------\u001b[0m",
      "\u001b[0;31mKeyError\u001b[0m                                  Traceback (most recent call last)",
      "Cell \u001b[0;32mIn [7], line 6\u001b[0m\n\u001b[1;32m      4\u001b[0m \u001b[38;5;28mprint\u001b[39m(\u001b[38;5;124mf\u001b[39m\u001b[38;5;124m\"\u001b[39m\u001b[38;5;124mThe new length is \u001b[39m\u001b[38;5;132;01m{\u001b[39;00m\u001b[38;5;28mlen\u001b[39m(s)\u001b[38;5;132;01m}\u001b[39;00m\u001b[38;5;124m\"\u001b[39m)\n\u001b[1;32m      5\u001b[0m \u001b[38;5;28mprint\u001b[39m(\u001b[38;5;124m\"\u001b[39m\u001b[38;5;124mRemoving \u001b[39m\u001b[38;5;124m'\u001b[39m\u001b[38;5;124mjill\u001b[39m\u001b[38;5;124m'\u001b[39m\u001b[38;5;124m from the set\u001b[39m\u001b[38;5;124m\"\u001b[39m)\n\u001b[0;32m----> 6\u001b[0m \u001b[43ms\u001b[49m\u001b[38;5;241;43m.\u001b[39;49m\u001b[43mremove\u001b[49m\u001b[43m(\u001b[49m\u001b[38;5;124;43m'\u001b[39;49m\u001b[38;5;124;43mjill\u001b[39;49m\u001b[38;5;124;43m'\u001b[39;49m\u001b[43m)\u001b[49m\n",
      "\u001b[0;31mKeyError\u001b[0m: 'jill'"
     ]
    }
   ],
   "source": [
    "s = set()\n",
    "print(\"Adding 'lucas' to the set\")\n",
    "s.add('lucas')\n",
    "print(f\"The new length is {len(s)}\")\n",
    "print(\"Removing 'jill' from the set\")\n",
    "s.remove('jill')"
   ]
  },
  {
   "cell_type": "markdown",
   "metadata": {},
   "source": [
    "The error above says \"KeyError: 'jill'\". It's telling us that there was no item called 'jill' in the set. We should check if an item exists in a set before remove it"
   ]
  },
  {
   "cell_type": "markdown",
   "metadata": {},
   "source": [
    "### Searching for an Element in a Set\n",
    "We can use the **in** keyword to check if a set contains an element. For large collections of items this is much faster than checking if a list contains an element"
   ]
  },
  {
   "cell_type": "code",
   "execution_count": 8,
   "metadata": {},
   "outputs": [
    {
     "name": "stdout",
     "output_type": "stream",
     "text": [
      "Does our set contain the value 'UCD Students'? False\n",
      "Does our set contain the value 'TU123 Students'? False\n"
     ]
    }
   ],
   "source": [
    "print(f\"Does our set contain the value 'UCD Students'? {'UCD Studnets' in s}\")\n",
    "print(f\"Does our set contain the value 'TU123 Students'? {'TU123 Students' in s}\")"
   ]
  },
  {
   "cell_type": "markdown",
   "metadata": {},
   "source": [
    "### Set Operations"
   ]
  },
  {
   "cell_type": "code",
   "execution_count": 9,
   "metadata": {},
   "outputs": [
    {
     "name": "stdout",
     "output_type": "stream",
     "text": [
      "Multiples of three {3, 6, 9, 12, 15, 18, 21, 24, 27, 30}\n",
      "Multiples of five {5, 10, 15, 20, 25, 30}\n"
     ]
    }
   ],
   "source": [
    "threes = set(range(3, 31, 3))\n",
    "print(f\"Multiples of three {threes}\")\n",
    "\n",
    "fives = set(range(5, 31, 5))\n",
    "print(f\"Multiples of five {fives}\")"
   ]
  },
  {
   "cell_type": "markdown",
   "metadata": {},
   "source": [
    "We've just created two sets. One set contains all multiples of 3 up to 30, and the other contains all multiples of 5 up to 30"
   ]
  },
  {
   "cell_type": "markdown",
   "metadata": {},
   "source": [
    "**Union** will combine the sets, and give us every number which is a multiple of either 3 or 5 (or both)"
   ]
  },
  {
   "cell_type": "code",
   "execution_count": 10,
   "metadata": {},
   "outputs": [
    {
     "name": "stdout",
     "output_type": "stream",
     "text": [
      "Multiples of either 3 or 5 {3, 5, 6, 9, 10, 12, 15, 18, 20, 21, 24, 25, 27, 30}\n"
     ]
    }
   ],
   "source": [
    "print(f\"Multiples of either 3 or 5 {threes.union(fives)}\")"
   ]
  },
  {
   "cell_type": "markdown",
   "metadata": {},
   "source": [
    "We can find *common multiples* (multiples of both 3 and 5) using **intersection**. 30 and 15 are the common multiples of 3 and 5"
   ]
  },
  {
   "cell_type": "code",
   "execution_count": 11,
   "metadata": {},
   "outputs": [
    {
     "name": "stdout",
     "output_type": "stream",
     "text": [
      "Multiples of both 3 and 5 {30, 15}\n"
     ]
    }
   ],
   "source": [
    "print(f\"Multiples of both 3 and 5 {threes.intersection(fives)}\")"
   ]
  },
  {
   "cell_type": "markdown",
   "metadata": {},
   "source": [
    "To find all multiples of 5 that aren't also multiples of 3 we use **difference** (we can also use the minus operator)"
   ]
  },
  {
   "cell_type": "code",
   "execution_count": 12,
   "metadata": {},
   "outputs": [
    {
     "name": "stdout",
     "output_type": "stream",
     "text": [
      "Multiples of 5 (but not 3) {25, 10, 20, 5}\n",
      "Multiples of 5 (but not 3) {25, 10, 20, 5}\n"
     ]
    }
   ],
   "source": [
    "print(f\"Multiples of 5 (but not 3) {fives.difference(threes)}\")\n",
    "print(f\"Multiples of 5 (but not 3) {fives - threes}\")"
   ]
  },
  {
   "cell_type": "markdown",
   "metadata": {},
   "source": [
    "To find all multiples of 3 that aren't also multiples of 5 we use **difference** again but reverse the order of the operands"
   ]
  },
  {
   "cell_type": "code",
   "execution_count": 13,
   "metadata": {},
   "outputs": [
    {
     "name": "stdout",
     "output_type": "stream",
     "text": [
      "Multiples of 3 (but not 5) {3, 6, 9, 12, 18, 21, 24, 27}\n",
      "Multiples of 3 (but not 5) {3, 6, 9, 12, 18, 21, 24, 27}\n"
     ]
    }
   ],
   "source": [
    "print(f\"Multiples of 3 (but not 5) {threes.difference(fives)}\")\n",
    "print(f\"Multiples of 3 (but not 5) {threes - fives}\")"
   ]
  },
  {
   "cell_type": "markdown",
   "metadata": {},
   "source": [
    "To find multiples of 5 or 3 (but not both) we can use symmetric difference"
   ]
  },
  {
   "cell_type": "code",
   "execution_count": 14,
   "metadata": {},
   "outputs": [
    {
     "name": "stdout",
     "output_type": "stream",
     "text": [
      "Multiples of 3 or 5 (but not both) {3, 5, 6, 9, 10, 12, 18, 20, 21, 24, 25, 27}\n"
     ]
    }
   ],
   "source": [
    "print(f\"Multiples of 3 or 5 (but not both) {threes.symmetric_difference(fives)}\")"
   ]
  }
 ],
 "metadata": {
  "kernelspec": {
   "display_name": "Python 3 (ipykernel)",
   "language": "python",
   "name": "python3"
  },
  "language_info": {
   "codemirror_mode": {
    "name": "ipython",
    "version": 3
   },
   "file_extension": ".py",
   "mimetype": "text/x-python",
   "name": "python",
   "nbconvert_exporter": "python",
   "pygments_lexer": "ipython3",
   "version": "3.10.6"
  }
 },
 "nbformat": 4,
 "nbformat_minor": 4
}
