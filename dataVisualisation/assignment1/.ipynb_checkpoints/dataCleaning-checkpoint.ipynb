{
 "cells": [
  {
   "cell_type": "code",
   "execution_count": 1,
   "id": "9cdf8e27",
   "metadata": {},
   "outputs": [
    {
     "name": "stdout",
     "output_type": "stream",
     "text": [
      "---------------------\n",
      "Cleaning adult.data dataset...\n",
      "In a total of 32561\n",
      "workclass has 1836 NAs which is 5.64% of its rows.\n",
      "occupation has 1843 NAs which is 5.66% of its rows.\n",
      "native-country has 583 NAs which is 1.79% of its rows.\n",
      "There are 30162 rows left after removing NAs\n",
      "---------------------\n"
     ]
    }
   ],
   "source": [
    "#import basic libraries for cleaning the data\n",
    "import pandas as pd\n",
    "import numpy as np\n",
    "\n",
    "def clean_an_adult_data_dataset(dataset_file_name): \n",
    "    print(\"---------------------\")\n",
    "    print(f\"Cleaning {dataset_file_name} dataset...\")\n",
    "    #loading adult data\n",
    "    adult_dataset_cols = [\"age\", \"workclass\", \"fnlwgt\", \"education\",\"education-num\",\n",
    "                          \"marital-status\",\"occupation\",\"relationship\",\"race\",\"sex\",\"capital-gain\",\n",
    "                          \"capital-loss\",\"hours-per-week\",\"native-country\", \"salary\"]\n",
    "    adult_data = pd.read_csv(dataset_file_name, names = adult_dataset_cols)\n",
    "    #converts salary into categorical \n",
    "    adult_data[\"salary\"] = adult_data[\"salary\"].astype(\"category\")\n",
    "\n",
    "    #1. Remove leading spaces from string columns\n",
    "    for col in adult_data:\n",
    "        if adult_data[col].dtypes == 'object' :\n",
    "            adult_data[col] = adult_data[col].str.strip()\n",
    "\n",
    "    #2. replace ? by NaN values\n",
    "    adult_data = adult_data.replace({'?': np.nan})\n",
    "\n",
    "    #Finding NAs in all columns\n",
    "    num_rows_adult_data = adult_data.shape[0]\n",
    "    print(f\"In a total of {num_rows_adult_data}\")\n",
    "    for col in adult_data:\n",
    "        quantity_of_na = adult_data[col].isna().sum()\n",
    "        # Print only columns with NAs \n",
    "        if quantity_of_na:\n",
    "            percent_of_na = round((quantity_of_na * 100) / num_rows_adult_data, 2)\n",
    "            print(f\"{col} has {quantity_of_na} NAs which is {percent_of_na}% of its rows.\")\n",
    "\n",
    "\n",
    "    #removing all NA rows since it's a very small percentage of a large dataset\n",
    "    #Finding NAs in all columns\n",
    "    adult_data_without_NAs = adult_data.dropna()\n",
    "    num_rows_adult_data = adult_data_without_NAs.shape[0]\n",
    "    print(f\"There are {num_rows_adult_data} rows left after removing NAs\")\n",
    "\n",
    "    #Creating CSV out of dataframe \n",
    "    adult_data_without_NAs.to_csv(dataset_file_name+'.csv', index=False)\n",
    "    print(\"---------------------\")\n",
    "clean_an_adult_data_dataset(\"adult.data\")\n"
   ]
  }
 ],
 "metadata": {
  "kernelspec": {
   "display_name": "testIpython",
   "language": "python",
   "name": "testipython"
  },
  "language_info": {
   "codemirror_mode": {
    "name": "ipython",
    "version": 3
   },
   "file_extension": ".py",
   "mimetype": "text/x-python",
   "name": "python",
   "nbconvert_exporter": "python",
   "pygments_lexer": "ipython3",
   "version": "3.9.9"
  }
 },
 "nbformat": 4,
 "nbformat_minor": 5
}
