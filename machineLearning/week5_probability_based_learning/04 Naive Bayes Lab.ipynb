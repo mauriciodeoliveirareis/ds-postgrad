{
 "cells": [
  {
   "cell_type": "markdown",
   "metadata": {},
   "source": [
    "# 07 Naive Bayes Tutorial\n",
    "**Q4(b)**  \n",
    "A ranking classifier is a classifier that can rank a test set in order of confidence for a given classification outcome.  \n",
    "Naive Bayes is a ranking classifier because the ‘probability’ can be used as a confidence measure for ranking.\n",
    "1. Train a Naive Bayes classifier from the `AthleteSelection` data. Use `GaussianNB`.\n",
    "2. Load the test data from `AthleteTest.csv` and apply the classifier. \n",
    "3. Use the `predict_proba` method to find the probability of being selected. \n",
    "4. Rank the test set by probability of being selected.  \n",
    "    4.1. Who is most likely to be selected?  \n",
    "    4.2. Who is least likely?  \n"
   ]
  },
  {
   "cell_type": "code",
   "execution_count": 18,
   "metadata": {},
   "outputs": [],
   "source": [
    "import pandas as pd\n",
    "from sklearn.naive_bayes import MultinomialNB, GaussianNB, BernoulliNB\n",
    "from sklearn.metrics import confusion_matrix "
   ]
  },
  {
   "cell_type": "code",
   "execution_count": 19,
   "metadata": {},
   "outputs": [
    {
     "data": {
      "text/html": [
       "<div>\n",
       "<style scoped>\n",
       "    .dataframe tbody tr th:only-of-type {\n",
       "        vertical-align: middle;\n",
       "    }\n",
       "\n",
       "    .dataframe tbody tr th {\n",
       "        vertical-align: top;\n",
       "    }\n",
       "\n",
       "    .dataframe thead th {\n",
       "        text-align: right;\n",
       "    }\n",
       "</style>\n",
       "<table border=\"1\" class=\"dataframe\">\n",
       "  <thead>\n",
       "    <tr style=\"text-align: right;\">\n",
       "      <th></th>\n",
       "      <th>Speed</th>\n",
       "      <th>Agility</th>\n",
       "      <th>Selected</th>\n",
       "    </tr>\n",
       "    <tr>\n",
       "      <th>Athlete</th>\n",
       "      <th></th>\n",
       "      <th></th>\n",
       "      <th></th>\n",
       "    </tr>\n",
       "  </thead>\n",
       "  <tbody>\n",
       "    <tr>\n",
       "      <th>x1</th>\n",
       "      <td>2.50</td>\n",
       "      <td>6.00</td>\n",
       "      <td>No</td>\n",
       "    </tr>\n",
       "    <tr>\n",
       "      <th>x2</th>\n",
       "      <td>3.75</td>\n",
       "      <td>8.00</td>\n",
       "      <td>No</td>\n",
       "    </tr>\n",
       "    <tr>\n",
       "      <th>x3</th>\n",
       "      <td>2.25</td>\n",
       "      <td>5.50</td>\n",
       "      <td>No</td>\n",
       "    </tr>\n",
       "    <tr>\n",
       "      <th>x4</th>\n",
       "      <td>3.25</td>\n",
       "      <td>8.25</td>\n",
       "      <td>No</td>\n",
       "    </tr>\n",
       "    <tr>\n",
       "      <th>x5</th>\n",
       "      <td>2.75</td>\n",
       "      <td>7.50</td>\n",
       "      <td>No</td>\n",
       "    </tr>\n",
       "  </tbody>\n",
       "</table>\n",
       "</div>"
      ],
      "text/plain": [
       "         Speed  Agility Selected\n",
       "Athlete                         \n",
       "x1        2.50     6.00       No\n",
       "x2        3.75     8.00       No\n",
       "x3        2.25     5.50       No\n",
       "x4        3.25     8.25       No\n",
       "x5        2.75     7.50       No"
      ]
     },
     "execution_count": 19,
     "metadata": {},
     "output_type": "execute_result"
    }
   ],
   "source": [
    "athlete = pd.read_csv('data/AthleteSelection.csv',index_col = 'Athlete')\n",
    "athlete.head()"
   ]
  },
  {
   "cell_type": "code",
   "execution_count": 20,
   "metadata": {},
   "outputs": [],
   "source": [
    "y = athlete['Selected'].values\n",
    "X = athlete[['Speed','Agility']].values"
   ]
  },
  {
   "cell_type": "code",
   "execution_count": 21,
   "metadata": {},
   "outputs": [],
   "source": [
    "gnb = GaussianNB()\n",
    "bnb = BernoulliNB()\n",
    "mnb = MultinomialNB()\n",
    "ath_NB = gnb.fit(X,y)\n",
    "y_dash = ath_NB.predict(X)"
   ]
  },
  {
   "cell_type": "code",
   "execution_count": 23,
   "metadata": {},
   "outputs": [
    {
     "name": "stdout",
     "output_type": "stream",
     "text": [
      "Confusion matrix:\n",
      "[[12  0]\n",
      " [ 1  7]]\n"
     ]
    }
   ],
   "source": [
    "confusion = confusion_matrix(y, y_dash)\n",
    "print(\"Confusion matrix:\\n{}\".format(confusion)) "
   ]
  },
  {
   "cell_type": "code",
   "execution_count": 24,
   "metadata": {},
   "outputs": [
    {
     "name": "stdout",
     "output_type": "stream",
     "text": [
      "['No' 'No' 'No' 'No' 'No' 'No' 'No' 'No' 'No' 'No' 'No' 'No' 'Yes' 'Yes'\n",
      " 'Yes' 'Yes' 'Yes' 'Yes' 'Yes' 'Yes']\n",
      "['No' 'No' 'No' 'No' 'No' 'No' 'No' 'No' 'No' 'No' 'No' 'No' 'Yes' 'Yes'\n",
      " 'No' 'Yes' 'Yes' 'Yes' 'Yes' 'Yes']\n"
     ]
    }
   ],
   "source": [
    "print(y)\n",
    "print(y_dash)"
   ]
  },
  {
   "cell_type": "markdown",
   "metadata": {},
   "source": [
    "## Test Data "
   ]
  },
  {
   "cell_type": "code",
   "execution_count": 28,
   "metadata": {},
   "outputs": [
    {
     "data": {
      "text/plain": [
       "array([[3.3, 8.2],\n",
       "       [4.5, 4.5],\n",
       "       [5.5, 7.2],\n",
       "       [3.8, 8.8],\n",
       "       [5.5, 5.2],\n",
       "       [8.1, 7.8],\n",
       "       [7.7, 5.2],\n",
       "       [6.1, 5.5],\n",
       "       [5.5, 6. ],\n",
       "       [6.1, 5.5]])"
      ]
     },
     "execution_count": 28,
     "metadata": {},
     "output_type": "execute_result"
    }
   ],
   "source": [
    "ath_test = pd.read_csv('data/AthleteTest.csv',index_col = 'Athlete')\n",
    "X_test = ath_test[['Speed','Agility']].values\n",
    "X_test"
   ]
  },
  {
   "cell_type": "code",
   "execution_count": 29,
   "metadata": {},
   "outputs": [
    {
     "data": {
      "text/plain": [
       "array(['No', 'No', 'Yes', 'No', 'Yes', 'Yes', 'Yes', 'Yes', 'Yes', 'Yes'],\n",
       "      dtype='<U3')"
      ]
     },
     "execution_count": 29,
     "metadata": {},
     "output_type": "execute_result"
    }
   ],
   "source": [
    "ath_NB.predict(X_test)\n"
   ]
  },
  {
   "cell_type": "code",
   "execution_count": 71,
   "metadata": {},
   "outputs": [
    {
     "name": "stdout",
     "output_type": "stream",
     "text": [
      "\n",
      "Atlete: t1. Chance of selection:0.04131362900029045\n",
      "\n",
      "Atlete: t2. Chance of selection:0.12298278120340804\n",
      "\n",
      "Atlete: t3. Chance of selection:0.9119328426426143\n",
      "\n",
      "Atlete: t4. Chance of selection:0.1504776646262887\n",
      "\n",
      "Atlete: t5. Chance of selection:0.7998328378161583\n",
      "\n",
      "Atlete: t6. Chance of selection:0.999997356952902\n",
      "\n",
      "Atlete: t7. Chance of selection:0.9999451907950627\n",
      "\n",
      "Atlete: t8. Chance of selection:0.9729309178369229\n",
      "\n",
      "Atlete: t9. Chance of selection:0.854282642557036\n",
      "\n",
      "Atlete: t10. Chance of selection:0.9729309178369229\n"
     ]
    }
   ],
   "source": [
    "probs_X_test = ath_NB.predict_proba(X_test)\n",
    "\n",
    "for x in range(10):\n",
    "    print(str(\"\\nAtlete: \" + ath_test.index[x] + \n",
    "              \". Chance of selection:\" + str(probs_X_test[x][1])))\n",
    "\n",
    "    \n",
    "# for prob in probs_X_test:\n",
    "#     print(prob[1])\n"
   ]
  },
  {
   "cell_type": "markdown",
   "metadata": {},
   "source": [
    "**Q4(c)**\n",
    "\n",
    "When a `GaussianNB` model is trained the model is stored in two parameters `theta_` and `var_`.  \n",
    "Train a `GaussianNB` model and check to see if these parameters agree with your own estimates. \n",
    "\n",
    "Hint: this code will give you the estimated you need. \n",
    "`athlete[athlete[‘Selected']=='No']['Agility'].describe()`\n",
    "\n",
    "You will find these figures do not agree exactly. "
   ]
  },
  {
   "cell_type": "code",
   "execution_count": 79,
   "metadata": {},
   "outputs": [
    {
     "name": "stdout",
     "output_type": "stream",
     "text": [
      "[[3.39583333 5.08333333]\n",
      " [6.40625    6.96875   ]]\n",
      "[[0.80685764 3.99305556]\n",
      " [1.37402344 3.91308594]]\n",
      "count    12.000000\n",
      "mean      5.083333\n",
      "std       2.087118\n",
      "min       2.000000\n",
      "25%       3.625000\n",
      "50%       5.125000\n",
      "75%       6.375000\n",
      "max       8.250000\n",
      "Name: Agility, dtype: float64\n",
      "         Speed  Agility Selected\n",
      "Athlete                         \n",
      "x1        2.50     6.00       No\n",
      "x2        3.75     8.00       No\n",
      "x3        2.25     5.50       No\n",
      "x4        3.25     8.25       No\n",
      "x5        2.75     7.50       No\n",
      "x6        4.50     5.00       No\n",
      "x7        3.50     5.25       No\n",
      "x8        3.00     3.25       No\n",
      "x9        4.00     4.00       No\n",
      "x10       4.25     3.75       No\n",
      "x11       2.00     2.00       No\n",
      "x12       5.00     2.50       No\n",
      "x13       8.25     8.50      Yes\n",
      "x14       5.75     8.75      Yes\n",
      "x15       4.75     6.25      Yes\n",
      "x16       5.50     6.75      Yes\n",
      "x17       5.25     9.50      Yes\n",
      "x18       7.00     4.25      Yes\n",
      "x19       7.50     8.00      Yes\n",
      "x20       7.25     3.75      Yes\n"
     ]
    }
   ],
   "source": [
    "print(ath_NB.theta_)\n",
    "print(ath_NB.var_)\n",
    "print(athlete[athlete['Selected']=='No']['Agility'].describe())\n",
    "print(athlete)"
   ]
  }
 ],
 "metadata": {
  "kernelspec": {
   "display_name": "testIpython",
   "language": "python",
   "name": "testipython"
  },
  "language_info": {
   "codemirror_mode": {
    "name": "ipython",
    "version": 3
   },
   "file_extension": ".py",
   "mimetype": "text/x-python",
   "name": "python",
   "nbconvert_exporter": "python",
   "pygments_lexer": "ipython3",
   "version": "3.9.9"
  }
 },
 "nbformat": 4,
 "nbformat_minor": 2
}
