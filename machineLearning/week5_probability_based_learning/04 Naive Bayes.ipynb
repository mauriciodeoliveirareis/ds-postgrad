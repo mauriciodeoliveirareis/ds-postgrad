{
 "cells": [
  {
   "cell_type": "markdown",
   "metadata": {},
   "source": [
    "# Naive Bayes\n",
    "\n",
    "`scikit-learn` provides multiple implementations of Naive Bayes that differ on how conditional probabilities are calculated. So the different implementations are suitable for different types of data. \n",
    "\n",
    "- `CategorialNB` will work with categorical data once it is processed using an `OrdinalEncoder`\n",
    "- `GaussianNB` assumes the numerical features have a Gaussian distribution\n",
    "- `BernoulliNB` binary data\n",
    "- `MultinomialNB` count data, e.g. word counts"
   ]
  },
  {
   "cell_type": "code",
   "execution_count": null,
   "metadata": {},
   "outputs": [],
   "source": [
    "import pandas as pd\n",
    "from sklearn.naive_bayes import MultinomialNB, GaussianNB, BernoulliNB, CategoricalNB\n",
    "from sklearn.metrics import confusion_matrix \n",
    "from sklearn.preprocessing import OneHotEncoder"
   ]
  },
  {
   "cell_type": "code",
   "execution_count": null,
   "metadata": {
    "scrolled": true
   },
   "outputs": [],
   "source": [
    "swim = pd.read_csv('data/Swimming.csv')\n",
    "swim"
   ]
  },
  {
   "cell_type": "markdown",
   "metadata": {},
   "source": [
    "## Categorical NB"
   ]
  },
  {
   "cell_type": "code",
   "execution_count": null,
   "metadata": {},
   "outputs": [],
   "source": [
    "from sklearn.preprocessing import OrdinalEncoder"
   ]
  },
  {
   "cell_type": "code",
   "execution_count": null,
   "metadata": {},
   "outputs": [],
   "source": [
    "y = swim.pop('Swimming').values # Set this as the y (target)\n",
    "print(swim.columns)\n",
    "print(y)"
   ]
  },
  {
   "cell_type": "code",
   "execution_count": null,
   "metadata": {
    "scrolled": true
   },
   "outputs": [],
   "source": [
    "ord_encoder = OrdinalEncoder()\n",
    "swimOE = ord_encoder.fit_transform(swim)\n",
    "swimOE"
   ]
  },
  {
   "cell_type": "markdown",
   "metadata": {},
   "source": [
    "What ordering do you get for the ordinal features?   \n",
    "Look up the documentation to see how you would fix this if you want to use the OrdinalEncoder"
   ]
  },
  {
   "cell_type": "code",
   "execution_count": null,
   "metadata": {},
   "outputs": [],
   "source": [
    "catNB = CategoricalNB(fit_prior=True, alpha=.0001)\n",
    "swim_catNB = catNB.fit(swimOE,y)\n",
    "y_dash = swim_catNB.predict(swimOE)  #predict training data\n",
    "confusion = confusion_matrix(y, y_dash)\n",
    "print(\"Confusion matrix:\\n{}\".format(confusion)) "
   ]
  },
  {
   "cell_type": "code",
   "execution_count": null,
   "metadata": {},
   "outputs": [],
   "source": [
    "# Three query examples, one from the training data and two others.\n",
    "\n",
    "squery = pd.DataFrame([[\"Moderate\",\"Moderate\",\"Warm\",\"Light\",\"Some\"],\n",
    "                       [\"Moderate\",\"Moderate\",\"Cold\",\"Moderate\",\"Some\"],\n",
    "                       [\"Moderate\",\"Light\",\"Warm\",\"Light\",\"None\"]\n",
    "                      ], columns=swim.columns)"
   ]
  },
  {
   "cell_type": "code",
   "execution_count": null,
   "metadata": {},
   "outputs": [],
   "source": [
    "X_query = ord_encoder.transform(squery)\n",
    "X_query, X_query.shape"
   ]
  },
  {
   "cell_type": "code",
   "execution_count": null,
   "metadata": {},
   "outputs": [],
   "source": [
    "y_query = swim_catNB.predict(X_query)\n",
    "y_query"
   ]
  },
  {
   "cell_type": "code",
   "execution_count": null,
   "metadata": {},
   "outputs": [],
   "source": [
    "q_probs = swim_catNB.predict_proba(X_query)  # get the probabilities of each class for each query\n",
    "q_probs"
   ]
  },
  {
   "cell_type": "code",
   "execution_count": null,
   "metadata": {},
   "outputs": [],
   "source": [
    "swim_catNB.get_params()    # check what parameters mean..."
   ]
  },
  {
   "cell_type": "markdown",
   "metadata": {},
   "source": [
    "### One-Hot-Encode the training data\n",
    "Here we use one-hot encoding to convert to the Swimming dataset to a numeric format.   \n",
    "This converts the data to a binary format so it is valid to use `BernoulliNB` and possibly `MultinormialNB` - `GaussianNB` not so much. "
   ]
  },
  {
   "cell_type": "code",
   "execution_count": null,
   "metadata": {},
   "outputs": [],
   "source": [
    "swim = pd.read_csv('data/Swimming.csv')\n",
    "y = swim.pop('Swimming').values # Set this as the y (target)\n",
    "\n",
    "\n",
    "onehot_encoder = OneHotEncoder(sparse=False)\n",
    "swimOH = onehot_encoder.fit_transform(swim)\n",
    "swimOH"
   ]
  },
  {
   "cell_type": "code",
   "execution_count": null,
   "metadata": {},
   "outputs": [],
   "source": [
    "onehot_encoder.get_feature_names_out(swim.columns)"
   ]
  },
  {
   "cell_type": "code",
   "execution_count": null,
   "metadata": {},
   "outputs": [],
   "source": [
    "gnb = GaussianNB()\n",
    "swim_gNB = gnb.fit(swimOH,y)\n",
    "y_dash = swim_gNB.predict(swimOH)\n",
    "confusion = confusion_matrix(y, y_dash)\n",
    "print(\"Confusion matrix:\\n{}\".format(confusion)) "
   ]
  },
  {
   "cell_type": "code",
   "execution_count": null,
   "metadata": {},
   "outputs": [],
   "source": [
    "mnb = MultinomialNB()\n",
    "swim_mNB = mnb.fit(swimOH,y)\n",
    "y_dash = swim_mNB.predict(swimOH)\n",
    "confusion = confusion_matrix(y, y_dash)\n",
    "print(\"Confusion matrix:\\n{}\".format(confusion)) "
   ]
  },
  {
   "cell_type": "code",
   "execution_count": null,
   "metadata": {},
   "outputs": [],
   "source": [
    "bnb = BernoulliNB()\n",
    "swim_bNB = bnb.fit(swimOH,y)\n",
    "y_dash = swim_bNB.predict(swimOH)\n",
    "confusion = confusion_matrix(y, y_dash)\n",
    "print(\"Confusion matrix:\\n{}\".format(confusion)) "
   ]
  },
  {
   "cell_type": "code",
   "execution_count": null,
   "metadata": {},
   "outputs": [],
   "source": [
    "# Three query examples, one from the training data and two others.\n",
    "\n",
    "squery = pd.DataFrame([[\"Moderate\",\"Moderate\",\"Warm\",\"Light\",\"Some\"],\n",
    "                       [\"Moderate\",\"Moderate\",\"Cold\",\"Moderate\",\"Some\"],\n",
    "                       [\"Moderate\",\"Light\",\"Warm\",\"Light\",\"None\"]\n",
    "                      ], columns=swim.columns)"
   ]
  },
  {
   "cell_type": "code",
   "execution_count": null,
   "metadata": {},
   "outputs": [],
   "source": [
    "# encode the query examples\n",
    "X_query = onehot_encoder.transform(squery)\n",
    "X_query, X_query.shape"
   ]
  },
  {
   "cell_type": "markdown",
   "metadata": {},
   "source": [
    "#### Output the probabilities for the query examples for the three NB classifiers"
   ]
  },
  {
   "cell_type": "code",
   "execution_count": null,
   "metadata": {},
   "outputs": [],
   "source": [
    "y_query = swim_gNB.predict(X_query)\n",
    "y_query"
   ]
  },
  {
   "cell_type": "code",
   "execution_count": null,
   "metadata": {},
   "outputs": [],
   "source": [
    "q_probs = swim_gNB.predict_proba(X_query)  \n",
    "q_probs"
   ]
  },
  {
   "cell_type": "code",
   "execution_count": null,
   "metadata": {},
   "outputs": [],
   "source": [
    "y_query = swim_mNB.predict(X_query)\n",
    "y_query"
   ]
  },
  {
   "cell_type": "code",
   "execution_count": null,
   "metadata": {},
   "outputs": [],
   "source": [
    "q_probs = swim_mNB.predict_proba(X_query)  \n",
    "q_probs"
   ]
  },
  {
   "cell_type": "code",
   "execution_count": null,
   "metadata": {},
   "outputs": [],
   "source": [
    "y_query = swim_bNB.predict(X_query)\n",
    "y_query"
   ]
  },
  {
   "cell_type": "code",
   "execution_count": null,
   "metadata": {},
   "outputs": [],
   "source": [
    "q_probs = swim_bNB.predict_proba(X_query)  \n",
    "q_probs"
   ]
  },
  {
   "cell_type": "markdown",
   "metadata": {},
   "source": [
    "#### Looking at the probabilities, which NB classifier appears to work best for this data?"
   ]
  },
  {
   "cell_type": "code",
   "execution_count": null,
   "metadata": {},
   "outputs": [],
   "source": []
  }
 ],
 "metadata": {
  "kernelspec": {
   "display_name": "Python 3 (ipykernel)",
   "language": "python",
   "name": "python3"
  },
  "language_info": {
   "codemirror_mode": {
    "name": "ipython",
    "version": 3
   },
   "file_extension": ".py",
   "mimetype": "text/x-python",
   "name": "python",
   "nbconvert_exporter": "python",
   "pygments_lexer": "ipython3",
   "version": "3.9.7"
  }
 },
 "nbformat": 4,
 "nbformat_minor": 2
}
