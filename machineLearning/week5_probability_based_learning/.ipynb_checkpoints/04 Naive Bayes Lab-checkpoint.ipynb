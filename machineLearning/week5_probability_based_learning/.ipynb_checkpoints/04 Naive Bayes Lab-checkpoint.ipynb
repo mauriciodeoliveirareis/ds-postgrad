{
 "cells": [
  {
   "cell_type": "markdown",
   "metadata": {},
   "source": [
    "# 07 Naive Bayes Tutorial\n",
    "**Q4(b)**  \n",
    "A ranking classifier is a classifier that can rank a test set in order of confidence for a given classification outcome.  \n",
    "Naive Bayes is a ranking classifier because the ‘probability’ can be used as a confidence measure for ranking.\n",
    "1. Train a Naive Bayes classifier from the `AthleteSelection` data. Use `GaussianNB`.\n",
    "2. Load the test data from `AthleteTest.csv` and apply the classifier. \n",
    "3. Use the `predict_proba` method to find the probability of being selected. \n",
    "4. Rank the test set by probability of being selected.  \n",
    "    4.1. Who is most likely to be selected?  \n",
    "    4.2. Who is least likely?  \n"
   ]
  },
  {
   "cell_type": "code",
   "execution_count": 1,
   "metadata": {},
   "outputs": [],
   "source": [
    "import pandas as pd\n",
    "from sklearn.naive_bayes import MultinomialNB, GaussianNB, BernoulliNB\n",
    "from sklearn.metrics import confusion_matrix "
   ]
  },
  {
   "cell_type": "code",
   "execution_count": 2,
   "metadata": {},
   "outputs": [
    {
     "data": {
      "text/html": [
       "<div>\n",
       "<style scoped>\n",
       "    .dataframe tbody tr th:only-of-type {\n",
       "        vertical-align: middle;\n",
       "    }\n",
       "\n",
       "    .dataframe tbody tr th {\n",
       "        vertical-align: top;\n",
       "    }\n",
       "\n",
       "    .dataframe thead th {\n",
       "        text-align: right;\n",
       "    }\n",
       "</style>\n",
       "<table border=\"1\" class=\"dataframe\">\n",
       "  <thead>\n",
       "    <tr style=\"text-align: right;\">\n",
       "      <th></th>\n",
       "      <th>Speed</th>\n",
       "      <th>Agility</th>\n",
       "      <th>Selected</th>\n",
       "    </tr>\n",
       "    <tr>\n",
       "      <th>Athlete</th>\n",
       "      <th></th>\n",
       "      <th></th>\n",
       "      <th></th>\n",
       "    </tr>\n",
       "  </thead>\n",
       "  <tbody>\n",
       "    <tr>\n",
       "      <th>x1</th>\n",
       "      <td>2.50</td>\n",
       "      <td>6.00</td>\n",
       "      <td>No</td>\n",
       "    </tr>\n",
       "    <tr>\n",
       "      <th>x2</th>\n",
       "      <td>3.75</td>\n",
       "      <td>8.00</td>\n",
       "      <td>No</td>\n",
       "    </tr>\n",
       "    <tr>\n",
       "      <th>x3</th>\n",
       "      <td>2.25</td>\n",
       "      <td>5.50</td>\n",
       "      <td>No</td>\n",
       "    </tr>\n",
       "    <tr>\n",
       "      <th>x4</th>\n",
       "      <td>3.25</td>\n",
       "      <td>8.25</td>\n",
       "      <td>No</td>\n",
       "    </tr>\n",
       "    <tr>\n",
       "      <th>x5</th>\n",
       "      <td>2.75</td>\n",
       "      <td>7.50</td>\n",
       "      <td>No</td>\n",
       "    </tr>\n",
       "  </tbody>\n",
       "</table>\n",
       "</div>"
      ],
      "text/plain": [
       "         Speed  Agility Selected\n",
       "Athlete                         \n",
       "x1        2.50     6.00       No\n",
       "x2        3.75     8.00       No\n",
       "x3        2.25     5.50       No\n",
       "x4        3.25     8.25       No\n",
       "x5        2.75     7.50       No"
      ]
     },
     "execution_count": 2,
     "metadata": {},
     "output_type": "execute_result"
    }
   ],
   "source": [
    "athlete = pd.read_csv('data/AthleteSelection.csv',index_col = 'Athlete')\n",
    "athlete.head()"
   ]
  },
  {
   "cell_type": "code",
   "execution_count": 3,
   "metadata": {},
   "outputs": [],
   "source": [
    "y = athlete['Selected'].values\n",
    "X = athlete[['Speed','Agility']].values"
   ]
  },
  {
   "cell_type": "code",
   "execution_count": 4,
   "metadata": {},
   "outputs": [],
   "source": [
    "gnb = GaussianNB()\n",
    "bnb = BernoulliNB()\n",
    "mnb = MultinomialNB()\n",
    "ath_NB = gnb.fit(X,y)\n",
    "y_dash = ath_NB.predict(X)"
   ]
  },
  {
   "cell_type": "code",
   "execution_count": null,
   "metadata": {},
   "outputs": [],
   "source": [
    "confusion = confusion_matrix(y, y_dash)\n",
    "print(\"Confusion matrix:\\n{}\".format(confusion)) "
   ]
  },
  {
   "cell_type": "code",
   "execution_count": null,
   "metadata": {},
   "outputs": [],
   "source": [
    "print(y)\n",
    "print(y_dash)"
   ]
  },
  {
   "cell_type": "markdown",
   "metadata": {},
   "source": [
    "## Test Data "
   ]
  },
  {
   "cell_type": "code",
   "execution_count": null,
   "metadata": {},
   "outputs": [],
   "source": [
    "ath_test = pd.read_csv('data/AthleteTest.csv',index_col = 'Athlete')\n",
    "ath_test"
   ]
  },
  {
   "cell_type": "code",
   "execution_count": null,
   "metadata": {},
   "outputs": [],
   "source": [
    "\n"
   ]
  },
  {
   "cell_type": "markdown",
   "metadata": {},
   "source": [
    "**Q4(c)**\n",
    "\n",
    "When a `GaussianNB` model is trained the model is stored in two parameters `theta_` and `var_`.  \n",
    "Train a `GaussianNB` model and check to see if these parameters agree with your own estimates. \n",
    "\n",
    "Hint: this code will give you the estimated you need. \n",
    "`athlete[athlete[‘Selected']=='No']['Agility'].describe()`\n",
    "\n",
    "You will find these figures do not agree exactly. "
   ]
  },
  {
   "cell_type": "code",
   "execution_count": null,
   "metadata": {},
   "outputs": [],
   "source": []
  }
 ],
 "metadata": {
  "kernelspec": {
   "display_name": "Python 3 (ipykernel)",
   "language": "python",
   "name": "python3"
  },
  "language_info": {
   "codemirror_mode": {
    "name": "ipython",
    "version": 3
   },
   "file_extension": ".py",
   "mimetype": "text/x-python",
   "name": "python",
   "nbconvert_exporter": "python",
   "pygments_lexer": "ipython3",
   "version": "3.11.1"
  }
 },
 "nbformat": 4,
 "nbformat_minor": 2
}
