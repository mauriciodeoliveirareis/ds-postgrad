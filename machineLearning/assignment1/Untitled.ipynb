{
 "cells": [
  {
   "cell_type": "code",
   "execution_count": 9,
   "id": "6f41f50f",
   "metadata": {},
   "outputs": [
    {
     "data": {
      "text/plain": [
       "162"
      ]
     },
     "execution_count": 9,
     "metadata": {},
     "output_type": "execute_result"
    }
   ],
   "source": [
    "import pandas as pd\n",
    "from sklearn.linear_model import SGDRegressor\n",
    "\n",
    "wine_cols = [\"Class\", \"Alcohol\", \"Malic_acid\", \"Ash\", \"Alcalinity_of_ash\", \"Magnesium\", \n",
    "             \"Total_phenols\", \"Flavanoids\", \"Nonflavanoid_phenols\", \"Proanthocyanins\", \n",
    "             \"Color_intensity\", \"Hue\", \"OD280_OD315_of_diluted_wines\", \"Proline\"]\n",
    "\n",
    "\n",
    "wine_pd = pd.read_csv('../input/wine.data', names = wine_cols)\n",
    "wine_pd.head()\n",
    "wine_pd.Magnesium.max()\n",
    "\n",
    "\n",
    "\n"
   ]
  }
 ],
 "metadata": {
  "kernelspec": {
   "display_name": "testIpython",
   "language": "python",
   "name": "testipython"
  },
  "language_info": {
   "codemirror_mode": {
    "name": "ipython",
    "version": 3
   },
   "file_extension": ".py",
   "mimetype": "text/x-python",
   "name": "python",
   "nbconvert_exporter": "python",
   "pygments_lexer": "ipython3",
   "version": "3.9.9"
  }
 },
 "nbformat": 4,
 "nbformat_minor": 5
}
