{
 "cells": [
  {
   "cell_type": "markdown",
   "metadata": {},
   "source": [
    "# Decision Trees in scikit-learn\n",
    "Using the `DecisionTreeClassifier` in scikit-learn.  "
   ]
  },
  {
   "cell_type": "code",
   "execution_count": 1,
   "metadata": {},
   "outputs": [],
   "source": [
    "import pandas as pd\n",
    "import numpy as np\n",
    "from sklearn import tree\n",
    "from sklearn.tree import DecisionTreeClassifier\n",
    "import matplotlib.pyplot as plt\n"
   ]
  },
  {
   "cell_type": "code",
   "execution_count": 2,
   "metadata": {},
   "outputs": [
    {
     "data": {
      "text/html": [
       "<div>\n",
       "<style scoped>\n",
       "    .dataframe tbody tr th:only-of-type {\n",
       "        vertical-align: middle;\n",
       "    }\n",
       "\n",
       "    .dataframe tbody tr th {\n",
       "        vertical-align: top;\n",
       "    }\n",
       "\n",
       "    .dataframe thead th {\n",
       "        text-align: right;\n",
       "    }\n",
       "</style>\n",
       "<table border=\"1\" class=\"dataframe\">\n",
       "  <thead>\n",
       "    <tr style=\"text-align: right;\">\n",
       "      <th></th>\n",
       "      <th>Greeness</th>\n",
       "      <th>Height</th>\n",
       "      <th>Width</th>\n",
       "      <th>Taste</th>\n",
       "      <th>Weight</th>\n",
       "      <th>H/W</th>\n",
       "      <th>Class</th>\n",
       "    </tr>\n",
       "  </thead>\n",
       "  <tbody>\n",
       "    <tr>\n",
       "      <th>0</th>\n",
       "      <td>210</td>\n",
       "      <td>60</td>\n",
       "      <td>62</td>\n",
       "      <td>Sweet</td>\n",
       "      <td>186</td>\n",
       "      <td>0.97</td>\n",
       "      <td>Apple</td>\n",
       "    </tr>\n",
       "    <tr>\n",
       "      <th>1</th>\n",
       "      <td>220</td>\n",
       "      <td>70</td>\n",
       "      <td>53</td>\n",
       "      <td>Sweet</td>\n",
       "      <td>180</td>\n",
       "      <td>1.32</td>\n",
       "      <td>Pear</td>\n",
       "    </tr>\n",
       "    <tr>\n",
       "      <th>2</th>\n",
       "      <td>215</td>\n",
       "      <td>55</td>\n",
       "      <td>50</td>\n",
       "      <td>Tart</td>\n",
       "      <td>152</td>\n",
       "      <td>1.10</td>\n",
       "      <td>Apple</td>\n",
       "    </tr>\n",
       "    <tr>\n",
       "      <th>3</th>\n",
       "      <td>180</td>\n",
       "      <td>76</td>\n",
       "      <td>40</td>\n",
       "      <td>Sweet</td>\n",
       "      <td>152</td>\n",
       "      <td>1.90</td>\n",
       "      <td>Pear</td>\n",
       "    </tr>\n",
       "    <tr>\n",
       "      <th>4</th>\n",
       "      <td>220</td>\n",
       "      <td>68</td>\n",
       "      <td>45</td>\n",
       "      <td>Sweet</td>\n",
       "      <td>153</td>\n",
       "      <td>1.51</td>\n",
       "      <td>Pear</td>\n",
       "    </tr>\n",
       "  </tbody>\n",
       "</table>\n",
       "</div>"
      ],
      "text/plain": [
       "   Greeness  Height  Width  Taste  Weight   H/W  Class\n",
       "0       210      60     62  Sweet     186  0.97  Apple\n",
       "1       220      70     53  Sweet     180  1.32   Pear\n",
       "2       215      55     50   Tart     152  1.10  Apple\n",
       "3       180      76     40  Sweet     152  1.90   Pear\n",
       "4       220      68     45  Sweet     153  1.51   Pear"
      ]
     },
     "execution_count": 2,
     "metadata": {},
     "output_type": "execute_result"
    }
   ],
   "source": [
    "apears = pd.read_csv('data/ApplesPears.csv')\n",
    "apears.head()"
   ]
  },
  {
   "cell_type": "markdown",
   "metadata": {},
   "source": [
    "scikit-learn can deal with a category class label but it cannot deal with categorical features.  \n",
    "So we drop the `Taste` feature. \n",
    "\n",
    "See later in the notebook for how to deal with categorical features"
   ]
  },
  {
   "cell_type": "code",
   "execution_count": 3,
   "metadata": {},
   "outputs": [
    {
     "data": {
      "text/plain": [
       "array([210.  ,  60.  ,  62.  , 186.  ,   0.97])"
      ]
     },
     "execution_count": 3,
     "metadata": {},
     "output_type": "execute_result"
    }
   ],
   "source": [
    "y = apears.pop('Class').values\n",
    "apears.pop('Taste')    # Can't deal with category features\n",
    "ap_features = apears.columns\n",
    "X = apears.values\n",
    "X[0]"
   ]
  },
  {
   "cell_type": "code",
   "execution_count": 4,
   "metadata": {},
   "outputs": [
    {
     "data": {
      "text/plain": [
       "Index(['Greeness', 'Height', 'Width', 'Weight', 'H/W'], dtype='object')"
      ]
     },
     "execution_count": 4,
     "metadata": {},
     "output_type": "execute_result"
    }
   ],
   "source": [
    "ap_features"
   ]
  },
  {
   "cell_type": "code",
   "execution_count": 5,
   "metadata": {},
   "outputs": [
    {
     "data": {
      "text/plain": [
       "array(['Apple', 'Pear', 'Apple', 'Pear', 'Pear', 'Apple', 'Pear', 'Apple',\n",
       "       'Apple', 'Apple'], dtype=object)"
      ]
     },
     "execution_count": 5,
     "metadata": {},
     "output_type": "execute_result"
    }
   ],
   "source": [
    "y"
   ]
  },
  {
   "cell_type": "code",
   "execution_count": null,
   "metadata": {},
   "outputs": [],
   "source": [
    "apears"
   ]
  },
  {
   "cell_type": "markdown",
   "metadata": {},
   "source": [
    "Two key methods:\n",
    "1. `fit` method will train the tree from the data.\n",
    "2. `predict` method will produce class predictions for an array of test data. "
   ]
  },
  {
   "cell_type": "code",
   "execution_count": null,
   "metadata": {},
   "outputs": [],
   "source": [
    "dtree = DecisionTreeClassifier(criterion='entropy')\n",
    "ap_tree = dtree.fit(apears, y)"
   ]
  },
  {
   "cell_type": "code",
   "execution_count": null,
   "metadata": {},
   "outputs": [],
   "source": [
    "ap_tree.predict([X[2]])"
   ]
  },
  {
   "cell_type": "markdown",
   "metadata": {},
   "source": [
    "### Plot the tree\n",
    "\n",
    "Note that the left hand branch is always \"Y\".  Pure leaf nodes have no decision in line 1."
   ]
  },
  {
   "cell_type": "code",
   "execution_count": null,
   "metadata": {},
   "outputs": [],
   "source": [
    "tree.plot_tree(ap_tree, feature_names=ap_features, fontsize = 12,\n",
    "                      class_names=['Apple','Pear'],  \n",
    "                      filled=True, rounded=True) \n",
    "None # supressing the verbose return from plot_tree"
   ]
  },
  {
   "cell_type": "code",
   "execution_count": null,
   "metadata": {},
   "outputs": [],
   "source": [
    "apears.pop('H/W')    # Delete this feature to make it harder\n",
    "X = apears.values\n",
    "ap_features = apears.columns"
   ]
  },
  {
   "cell_type": "code",
   "execution_count": null,
   "metadata": {},
   "outputs": [],
   "source": [
    "ap2_tree = dtree.fit(X, y)"
   ]
  },
  {
   "cell_type": "code",
   "execution_count": null,
   "metadata": {},
   "outputs": [],
   "source": [
    "fig, ax = plt.subplots(figsize=(6,6))\n",
    "tree.plot_tree(ap2_tree,feature_names=ap_features, fontsize = 12,\n",
    "                      class_names=['Apple','Pear'],  \n",
    "                      filled=True, rounded=True) \n",
    "None # supressing the verbose return from plot_tree"
   ]
  },
  {
   "cell_type": "markdown",
   "metadata": {},
   "source": [
    "***\n",
    "   ## Athlete Data"
   ]
  },
  {
   "cell_type": "code",
   "execution_count": null,
   "metadata": {},
   "outputs": [],
   "source": [
    "import pandas as pd\n",
    "athlete = pd.read_csv('data/AthleteSelection.csv',index_col = 'Athlete')\n",
    "athlete.head()"
   ]
  },
  {
   "cell_type": "code",
   "execution_count": null,
   "metadata": {},
   "outputs": [],
   "source": [
    "y = athlete.pop('Selected').values\n",
    "X = athlete.values"
   ]
  },
  {
   "cell_type": "code",
   "execution_count": null,
   "metadata": {},
   "outputs": [],
   "source": [
    "atree = DecisionTreeClassifier(criterion='gini')\n",
    "atree = atree.fit(X,y)"
   ]
  },
  {
   "cell_type": "code",
   "execution_count": null,
   "metadata": {},
   "outputs": [],
   "source": [
    "fig, ax = plt.subplots(figsize=(6, 6))\n",
    "tree.plot_tree(atree, feature_names=['Speed','Agility'],  \n",
    "                      class_names=['Selected','No'],  \n",
    "                      filled=True, rounded=True,)\n",
    "None # supressing the verbose return from plot_tree"
   ]
  },
  {
   "cell_type": "markdown",
   "metadata": {},
   "source": [
    "Run a test example, select one of the training examples"
   ]
  },
  {
   "cell_type": "code",
   "execution_count": null,
   "metadata": {},
   "outputs": [],
   "source": [
    "y_pred = atree.predict([X[5]])\n",
    "print('Prediced class label:',y_pred[0])"
   ]
  },
  {
   "cell_type": "markdown",
   "metadata": {},
   "source": [
    "## Restaurant Data\n",
    "Predictive features are categories (rather than numeric)."
   ]
  },
  {
   "cell_type": "code",
   "execution_count": null,
   "metadata": {
    "scrolled": true
   },
   "outputs": [],
   "source": [
    "import pandas as pd\n",
    "restaurant = pd.read_csv('data/restaurant.csv',index_col = 'No')\n",
    "restaurant.head()"
   ]
  },
  {
   "cell_type": "markdown",
   "metadata": {},
   "source": [
    "## Dealing with category data\n",
    "Convert to numeric - two options:  \n",
    "1. `get_dummies` method for pandas.\n",
    "2. `OneHotEncoding` for sklearn. "
   ]
  },
  {
   "cell_type": "code",
   "execution_count": null,
   "metadata": {},
   "outputs": [],
   "source": [
    "df = pd.DataFrame({'Pet': ['cat', 'dog', 'cat','ferret'], \n",
    "                   'Transport': ['bike', 'car', 'car','bike'],\n",
    "                   'Area': ['urban','urban','rural','urban']})\n",
    "df"
   ]
  },
  {
   "cell_type": "markdown",
   "metadata": {},
   "source": [
    "### Pandas `get_dummies`\n",
    "The Pandas `get_dummies` method is the easiest way to do One-Hot encoding.  \n",
    "But if you want to apply the encoding to a test file later, this gets awkward"
   ]
  },
  {
   "cell_type": "code",
   "execution_count": null,
   "metadata": {
    "scrolled": true
   },
   "outputs": [],
   "source": [
    "pd.get_dummies(df)"
   ]
  },
  {
   "cell_type": "code",
   "execution_count": null,
   "metadata": {
    "scrolled": true
   },
   "outputs": [],
   "source": [
    "pd.get_dummies(df,drop_first=True)"
   ]
  },
  {
   "cell_type": "markdown",
   "metadata": {},
   "source": [
    "### Using `OneHotEncoder` to convert category features to numbers"
   ]
  },
  {
   "cell_type": "code",
   "execution_count": null,
   "metadata": {},
   "outputs": [],
   "source": [
    "from sklearn.preprocessing import OneHotEncoder, LabelEncoder\n",
    "onehot_encoder = OneHotEncoder(sparse=False)\n",
    "dfOH = onehot_encoder.fit_transform(df)\n",
    "dfOH"
   ]
  },
  {
   "cell_type": "code",
   "execution_count": null,
   "metadata": {},
   "outputs": [],
   "source": [
    "type(dfOH)"
   ]
  },
  {
   "cell_type": "code",
   "execution_count": null,
   "metadata": {},
   "outputs": [],
   "source": [
    "onehot_encoder.get_feature_names_out()"
   ]
  },
  {
   "cell_type": "code",
   "execution_count": null,
   "metadata": {},
   "outputs": [],
   "source": [
    "onehot_encoder.categories_"
   ]
  },
  {
   "cell_type": "markdown",
   "metadata": {},
   "source": [
    "### `LabelEncoder` also converts category features to numbers\n",
    "This is more compact.  \n",
    "But it is not exactly what we want as the numbers are misleading.  \n",
    "Ferrets are not more like dogs than cats. (Well maybe they are!)"
   ]
  },
  {
   "cell_type": "code",
   "execution_count": null,
   "metadata": {},
   "outputs": [],
   "source": [
    "# LabelEncoder only works on single columns so we must 'apply' it to the dataframe. \n",
    "label_encoder = LabelEncoder()\n",
    "labelE = df.apply(label_encoder.fit_transform)\n",
    "labelE"
   ]
  },
  {
   "cell_type": "markdown",
   "metadata": {},
   "source": [
    "---\n",
    "# Restaurant Data \n",
    "## Using OneHotEncoding\n",
    "`OneHotEncoder` class has two key methods:   \n",
    "1. `fit` to 'learn' the transform from the data,\n",
    "2. `transform` to apply the OneHot transform to the data, the transform can be applied to other (e.g. test) datasets.\n"
   ]
  },
  {
   "cell_type": "code",
   "execution_count": null,
   "metadata": {},
   "outputs": [],
   "source": [
    "restaurant = pd.read_csv('data/restaurant.csv', index_col = 'No')\n",
    "restaurant.head()"
   ]
  },
  {
   "cell_type": "code",
   "execution_count": null,
   "metadata": {},
   "outputs": [],
   "source": [
    "y = restaurant.pop('WillWait?').values\n",
    "X = restaurant.values\n",
    "X[:3,]"
   ]
  },
  {
   "cell_type": "code",
   "execution_count": null,
   "metadata": {},
   "outputs": [],
   "source": [
    "onehot_encoder = OneHotEncoder(sparse=False)  # We can add drop='first' \n",
    "restOH = onehot_encoder.fit(restaurant)\n",
    "restOH_data = restOH.transform(restaurant)"
   ]
  },
  {
   "cell_type": "code",
   "execution_count": null,
   "metadata": {},
   "outputs": [],
   "source": [
    "restaurant.columns"
   ]
  },
  {
   "cell_type": "code",
   "execution_count": null,
   "metadata": {},
   "outputs": [],
   "source": [
    "restOH.get_feature_names_out(restaurant.columns)"
   ]
  },
  {
   "cell_type": "code",
   "execution_count": null,
   "metadata": {},
   "outputs": [],
   "source": [
    "# this is the number of features now in the dataset\n",
    "\n",
    "restOH.get_feature_names_out(restaurant.columns).size\n",
    "\n",
    "# Add the drop='first' parameter to the encoding and see how many features you end up with "
   ]
  },
  {
   "cell_type": "code",
   "execution_count": null,
   "metadata": {},
   "outputs": [],
   "source": [
    "rtree = DecisionTreeClassifier(criterion='entropy')\n",
    "rtreeOH = rtree.fit(restOH_data,y)\n",
    "fig, ax = plt.subplots(figsize=(9, 9))\n",
    "tree.plot_tree(rtreeOH, feature_names=restOH.get_feature_names_out(restaurant.columns),\n",
    "                      class_names=['Yes','No'], fontsize = 10, \n",
    "                      filled=True, rounded=True)\n",
    "None # supressing the verbose return from plot_tree"
   ]
  },
  {
   "cell_type": "markdown",
   "metadata": {},
   "source": [
    "---\n",
    "## Penguins Data\n",
    "For more information on the Penguins dataset see:\n",
    "https://allisonhorst.github.io/palmerpenguins/ \n"
   ]
  },
  {
   "cell_type": "code",
   "execution_count": null,
   "metadata": {},
   "outputs": [],
   "source": [
    "penguins = pd.read_csv('data/penguins_train.csv')\n",
    "penguins.head()"
   ]
  },
  {
   "cell_type": "code",
   "execution_count": null,
   "metadata": {},
   "outputs": [],
   "source": [
    "# keep only the numeric features\n",
    "f_names = ['bill_length_mm', 'bill_depth_mm','flipper_length_mm', 'body_mass_g']\n",
    "X = penguins[f_names].values\n",
    "y = penguins['species']\n",
    "species_names = np.unique(y)\n",
    "species_names"
   ]
  },
  {
   "cell_type": "code",
   "execution_count": null,
   "metadata": {},
   "outputs": [],
   "source": [
    "X.shape"
   ]
  },
  {
   "cell_type": "markdown",
   "metadata": {},
   "source": [
    "### Build the tree and visualise\n",
    "\n",
    "Changing the `min_samples_leaf` attributes will change the *bushiness* of the tree.     \n"
   ]
  },
  {
   "cell_type": "code",
   "execution_count": null,
   "metadata": {
    "scrolled": true
   },
   "outputs": [],
   "source": [
    "ptree = DecisionTreeClassifier(criterion='entropy', min_samples_leaf=20)\n",
    "ptree.fit(X,y)"
   ]
  },
  {
   "cell_type": "code",
   "execution_count": null,
   "metadata": {},
   "outputs": [],
   "source": [
    "fig, ax = plt.subplots(figsize=(9, 9))\n",
    "tree.plot_tree(ptree, feature_names=f_names,  \n",
    "                      class_names=species_names, fontsize = 9,\n",
    "                      filled=True, rounded=True) \n",
    "None # supressing the verbose return from plot_tree"
   ]
  },
  {
   "cell_type": "code",
   "execution_count": null,
   "metadata": {},
   "outputs": [],
   "source": [
    "ptree.get_n_leaves()   # number of leaves"
   ]
  }
 ],
 "metadata": {
  "kernelspec": {
   "display_name": "testIpython",
   "language": "python",
   "name": "testipython"
  },
  "language_info": {
   "codemirror_mode": {
    "name": "ipython",
    "version": 3
   },
   "file_extension": ".py",
   "mimetype": "text/x-python",
   "name": "python",
   "nbconvert_exporter": "python",
   "pygments_lexer": "ipython3",
   "version": "3.9.9"
  }
 },
 "nbformat": 4,
 "nbformat_minor": 2
}
